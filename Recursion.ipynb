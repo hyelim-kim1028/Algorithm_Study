{
  "nbformat": 4,
  "nbformat_minor": 0,
  "metadata": {
    "colab": {
      "name": "Recursion.ipynb",
      "provenance": [],
      "authorship_tag": "ABX9TyMqJ/3EdVkSV4C62i4XWpfK",
      "include_colab_link": true
    },
    "kernelspec": {
      "name": "python3",
      "display_name": "Python 3"
    },
    "language_info": {
      "name": "python"
    }
  },
  "cells": [
    {
      "cell_type": "markdown",
      "metadata": {
        "id": "view-in-github",
        "colab_type": "text"
      },
      "source": [
        "<a href=\"https://colab.research.google.com/github/hyelim-kim1028/Algorithm_Study/blob/main/Recursion.ipynb\" target=\"_parent\"><img src=\"https://colab.research.google.com/assets/colab-badge.svg\" alt=\"Open In Colab\"/></a>"
      ]
    },
    {
      "cell_type": "markdown",
      "metadata": {
        "id": "BZQnvgDCoOe6"
      },
      "source": [
        "# 재귀 #Recursion \n",
        "\n"
      ]
    },
    {
      "cell_type": "markdown",
      "metadata": {
        "id": "13u5F7iWpFCA"
      },
      "source": [
        "/#Hello Coding \n",
        "\n",
        "-  재귀함수란? 함수가 자기 자신을 호출하는 것 \n",
        "- 1) 기본단계 (base case) #무한 반복으로 빠져들지 않게 \n",
        "- 2) 재귀 단계 (recursive case) "
      ]
    },
    {
      "cell_type": "code",
      "metadata": {
        "colab": {
          "base_uri": "https://localhost:8080/",
          "height": 134
        },
        "id": "xiYBG6QkoByU",
        "outputId": "9c4c9db5-00ca-41c1-c7c3-1330912734a0"
      },
      "source": [
        "# first \n",
        "def look_for_key(main_box):\n",
        "  pile = main_box.make_a_pile_to_look_through()\n",
        "  while pile is not empty: \n",
        "    for item in box: \n",
        "      if item.is_a_box():\n",
        "        pile.append(item)\n",
        "      elif item.is_a_key():\n",
        "        print\"열쇠를 찾았어요!\" \n",
        "\n",
        "# second #recursion \n",
        "\n",
        "def look_for_key(box):\n",
        "  for item in box: \n",
        "    if item.is_a_box():\n",
        "      look_for_key(item) #반복 \n",
        "    elif item.is_a_key():\n",
        "      print(\"열쇠를 찾았어요!\")"
      ],
      "execution_count": null,
      "outputs": [
        {
          "output_type": "error",
          "ename": "SyntaxError",
          "evalue": "ignored",
          "traceback": [
            "\u001b[0;36m  File \u001b[0;32m\"<ipython-input-1-d8df7f1930eb>\"\u001b[0;36m, line \u001b[0;32m9\u001b[0m\n\u001b[0;31m    print\"열쇠를 찾았어요!\"\u001b[0m\n\u001b[0m                   ^\u001b[0m\n\u001b[0;31mSyntaxError\u001b[0m\u001b[0;31m:\u001b[0m invalid syntax\n"
          ]
        }
      ]
    },
    {
      "cell_type": "code",
      "metadata": {
        "id": "Az03U19-2R3h"
      },
      "source": [
        "def countdown(i): \n",
        "  print i \n",
        "  countdown(i-1) #무한반복코드 \n",
        "\n",
        "def countdown(i):\n",
        "  print i \n",
        "  if i <= 1: #기본 \n",
        "    return \n",
        "  else:     # 재귀 \n",
        "    countdown(i-1)\n"
      ],
      "execution_count": null,
      "outputs": []
    },
    {
      "cell_type": "markdown",
      "metadata": {
        "id": "yJOUB_SBbuSm"
      },
      "source": [
        "/#백준 #재귀 #팩토리얼 #2021.07.28\n",
        "\n",
        "문제\n",
        "\n",
        "0보다 크거나 같은 정수 N이 주어진다. 이때, N!을 출력하는 프로그램을 작성하시오.\n",
        "\n",
        "입력\n",
        "\n",
        "첫째 줄에 정수 N(0 ≤ N ≤ 12)가 주어진다.\n",
        "\n",
        "출력\n",
        "\n",
        "첫째 줄에 N!을 출력한다"
      ]
    },
    {
      "cell_type": "code",
      "metadata": {
        "colab": {
          "base_uri": "https://localhost:8080/"
        },
        "id": "I2wg_DdIbuFE",
        "outputId": "5f7a16e4-540e-4f71-9de4-b9b681b32e62"
      },
      "source": [
        "N = int(input())\n",
        "\n",
        "if N < 0:\n",
        "  print(None)\n",
        "elif N == 0:\n",
        "  print(1)\n",
        "else: \n",
        "  factorial = 1 \n",
        "  for i in range(1,N+1):\n",
        "    factorial *= i \n",
        "  print(factorial)"
      ],
      "execution_count": null,
      "outputs": [
        {
          "output_type": "stream",
          "text": [
            "0\n",
            "1\n"
          ],
          "name": "stdout"
        }
      ]
    },
    {
      "cell_type": "markdown",
      "metadata": {
        "id": "AHo3-0GQbu0C"
      },
      "source": [
        "/#백준 #재귀 #fibonacci #2021.07.28 \n",
        "\n",
        "문제\n",
        "\n",
        "피보나치 수는 0과 1로 시작한다. 0번째 피보나치 수는 0이고, 1번째 피보나치 수는 1이다. 그 다음 2번째 부터는 바로 앞 두 피보나치 수의 합이 된다.\n",
        "\n",
        "이를 식으로 써보면 Fn = Fn-1 + Fn-2 (n ≥ 2)가 된다.\n",
        "\n",
        "n=17일때 까지 피보나치 수를 써보면 다음과 같다.\n",
        "\n",
        "0, 1, 1, 2, 3, 5, 8, 13, 21, 34, 55, 89, 144, 233, 377, 610, 987, 1597\n",
        "\n",
        "n이 주어졌을 때, n번째 피보나치 수를 구하는 프로그램을 작성하시오.\n",
        "\n",
        "입력\n",
        "\n",
        "첫째 줄에 n이 주어진다. n은 20보다 작거나 같은 자연수 또는 0이다.\n",
        "\n",
        "출력\n",
        "\n",
        "첫째 줄에 n번째 피보나치 수를 출력한다."
      ]
    },
    {
      "cell_type": "code",
      "metadata": {
        "colab": {
          "base_uri": "https://localhost:8080/",
          "height": 310
        },
        "id": "ApcdwRIybvHZ",
        "outputId": "d9cc90ac-b940-445a-ed08-d8b95148a545"
      },
      "source": [
        "# 함수형 \n",
        "\n",
        "def fibonacci(num):\n",
        "  if num <= 1:\n",
        "    return num \n",
        "  return fibonacci(num-1) + fibonacci(num-2)\n",
        "\n",
        "n = int(input())\n",
        "print(fibonacci(n))\n",
        "\n",
        "# for문형\n",
        "n = int(input())\n",
        "\n",
        "fibonacci =[0,1]\n",
        "for i in range(2, n+1): #i도 2에서부터 시작  \n",
        "  num = fibonacci[i-1] + fibonacci[i-2] \n",
        "  fibonacci.append(fibonacci)\n",
        "  print(f'fibonacci:{fibonacci}')\n",
        "\n",
        "print(f'answer: {fibonacci[n]}')\n",
        "\n",
        "# Error: TypeError: can only concatenate list (not \"int\") to list"
      ],
      "execution_count": null,
      "outputs": [
        {
          "output_type": "stream",
          "text": [
            "10\n",
            "55\n",
            "10\n",
            "fibonacci:[0, 1, [...]]\n"
          ],
          "name": "stdout"
        },
        {
          "output_type": "error",
          "ename": "TypeError",
          "evalue": "ignored",
          "traceback": [
            "\u001b[0;31m---------------------------------------------------------------------------\u001b[0m",
            "\u001b[0;31mTypeError\u001b[0m                                 Traceback (most recent call last)",
            "\u001b[0;32m<ipython-input-9-80fad81fd014>\u001b[0m in \u001b[0;36m<module>\u001b[0;34m()\u001b[0m\n\u001b[1;32m     14\u001b[0m \u001b[0mfibonacci\u001b[0m \u001b[0;34m=\u001b[0m\u001b[0;34m[\u001b[0m\u001b[0;36m0\u001b[0m\u001b[0;34m,\u001b[0m\u001b[0;36m1\u001b[0m\u001b[0;34m]\u001b[0m\u001b[0;34m\u001b[0m\u001b[0;34m\u001b[0m\u001b[0m\n\u001b[1;32m     15\u001b[0m \u001b[0;32mfor\u001b[0m \u001b[0mi\u001b[0m \u001b[0;32min\u001b[0m \u001b[0mrange\u001b[0m\u001b[0;34m(\u001b[0m\u001b[0;36m2\u001b[0m\u001b[0;34m,\u001b[0m \u001b[0mn\u001b[0m\u001b[0;34m+\u001b[0m\u001b[0;36m1\u001b[0m\u001b[0;34m)\u001b[0m\u001b[0;34m:\u001b[0m \u001b[0;31m#i도 2에서부터 시작\u001b[0m\u001b[0;34m\u001b[0m\u001b[0;34m\u001b[0m\u001b[0m\n\u001b[0;32m---> 16\u001b[0;31m   \u001b[0mnum\u001b[0m \u001b[0;34m=\u001b[0m \u001b[0mfibonacci\u001b[0m\u001b[0;34m[\u001b[0m\u001b[0mi\u001b[0m\u001b[0;34m-\u001b[0m\u001b[0;36m1\u001b[0m\u001b[0;34m]\u001b[0m \u001b[0;34m+\u001b[0m \u001b[0mfibonacci\u001b[0m\u001b[0;34m[\u001b[0m\u001b[0mi\u001b[0m\u001b[0;34m-\u001b[0m\u001b[0;36m2\u001b[0m\u001b[0;34m]\u001b[0m\u001b[0;34m\u001b[0m\u001b[0;34m\u001b[0m\u001b[0m\n\u001b[0m\u001b[1;32m     17\u001b[0m   \u001b[0mfibonacci\u001b[0m\u001b[0;34m.\u001b[0m\u001b[0mappend\u001b[0m\u001b[0;34m(\u001b[0m\u001b[0mfibonacci\u001b[0m\u001b[0;34m)\u001b[0m\u001b[0;34m\u001b[0m\u001b[0;34m\u001b[0m\u001b[0m\n\u001b[1;32m     18\u001b[0m   \u001b[0mprint\u001b[0m\u001b[0;34m(\u001b[0m\u001b[0;34mf'fibonacci:{fibonacci}'\u001b[0m\u001b[0;34m)\u001b[0m\u001b[0;34m\u001b[0m\u001b[0;34m\u001b[0m\u001b[0m\n",
            "\u001b[0;31mTypeError\u001b[0m: can only concatenate list (not \"int\") to list"
          ]
        }
      ]
    },
    {
      "cell_type": "code",
      "metadata": {
        "colab": {
          "base_uri": "https://localhost:8080/"
        },
        "id": "-g8W20D_rQ4O",
        "outputId": "b3584881-cf96-4e29-9824-3d61b3bb1622"
      },
      "source": [
        "n = int(input())\n",
        "\n",
        "fibonacci =[0,1]\n",
        "for i in range(2, n+1): #i도 2에서부터 시작  \n",
        "  num = fibonacci[i-1] + fibonacci[i-2] \n",
        "  fibonacci.append(num)\n",
        "  print(f'fibonacci:{fibonacci}')\n",
        "\n",
        "print(f'answer: {fibonacci[n]}')"
      ],
      "execution_count": null,
      "outputs": [
        {
          "output_type": "stream",
          "text": [
            "10\n",
            "fibonacci:[0, 1, 1]\n",
            "fibonacci:[0, 1, 1, 2]\n",
            "fibonacci:[0, 1, 1, 2, 3]\n",
            "fibonacci:[0, 1, 1, 2, 3, 5]\n",
            "fibonacci:[0, 1, 1, 2, 3, 5, 8]\n",
            "fibonacci:[0, 1, 1, 2, 3, 5, 8, 13]\n",
            "fibonacci:[0, 1, 1, 2, 3, 5, 8, 13, 21]\n",
            "fibonacci:[0, 1, 1, 2, 3, 5, 8, 13, 21, 34]\n",
            "fibonacci:[0, 1, 1, 2, 3, 5, 8, 13, 21, 34, 55]\n",
            "answer: 55\n"
          ],
          "name": "stdout"
        }
      ]
    },
    {
      "cell_type": "markdown",
      "metadata": {
        "id": "uhmUv59Ibvn8"
      },
      "source": [
        "/#백준 #재귀 #별찍기 #2021.07.28\n",
        "\n",
        "문제\n",
        "\n",
        "재귀적인 패턴으로 별을 찍어 보자. N이 3의 거듭제곱(3, 9, 27, ...)이라고 할 때, 크기 N의 패턴은 N×N 정사각형 모양이다.\n",
        "\n",
        "크기 3의 패턴은 가운데에 공백이 있고, 가운데를 제외한 모든 칸에 별이 하나씩 있는 패턴이다.\n",
        "\n",
        "***\n",
        "* *\n",
        "***\n",
        "N이 3보다 클 경우, 크기 N의 패턴은 공백으로 채워진 가운데의 (N/3)×(N/3) 정사각형을 크기 N/3의 패턴으로 둘러싼 형태이다. 예를 들어 크기 27의 패턴은 예제 출력 1과 같다.\n",
        "\n",
        "입력\n",
        "\n",
        "첫째 줄에 N이 주어진다. N은 3의 거듭제곱이다. 즉 어떤 정수 k에 대해 N=3k이며, 이때 1 ≤ k < 8이다.\n",
        "\n",
        "출력\n",
        "\n",
        "첫째 줄부터 N번째 줄까지 별을 출력한다.\n"
      ]
    },
    {
      "cell_type": "code",
      "metadata": {
        "colab": {
          "base_uri": "https://localhost:8080/",
          "height": 380
        },
        "id": "psBcUgEzbv70",
        "outputId": "3160e86b-83c8-4888-96cb-b0b000d2600f"
      },
      "source": [
        "# solution 1\n",
        "# '*'로 다 채워놓은 다음, 빈 칸을 찾아 없애는 방식 \n",
        "\n",
        "n= int(input())\n",
        "arr = [['*'] * n for _ in range(n)]\n",
        "# arr\n",
        "\n",
        "v = n;cnt = 0 \n",
        "while v != 1:\n",
        "  v/3 \n",
        "  cnt += 1\n",
        "\n",
        "  for cnt_ in range(cnt):\n",
        "    idx = [i for i in range(n) if (i//3 ** cnt_)%3 == 1]\n",
        "\n",
        "    for i in idx: \n",
        "      for j in idx:\n",
        "        arr[i][j] = \" \"\n",
        "\n",
        "print('\\n'.join([''.join([str(i) for i in row]) for row in arr]))"
      ],
      "execution_count": null,
      "outputs": [
        {
          "output_type": "stream",
          "text": [
            "27\n"
          ],
          "name": "stdout"
        },
        {
          "output_type": "error",
          "ename": "KeyboardInterrupt",
          "evalue": "ignored",
          "traceback": [
            "\u001b[0;31m---------------------------------------------------------------------------\u001b[0m",
            "\u001b[0;31mKeyboardInterrupt\u001b[0m                         Traceback (most recent call last)",
            "\u001b[0;32m<ipython-input-2-7ebca42e252b>\u001b[0m in \u001b[0;36m<module>\u001b[0;34m()\u001b[0m\n\u001b[1;32m     12\u001b[0m \u001b[0;34m\u001b[0m\u001b[0m\n\u001b[1;32m     13\u001b[0m   \u001b[0;32mfor\u001b[0m \u001b[0mcnt_\u001b[0m \u001b[0;32min\u001b[0m \u001b[0mrange\u001b[0m\u001b[0;34m(\u001b[0m\u001b[0mcnt\u001b[0m\u001b[0;34m)\u001b[0m\u001b[0;34m:\u001b[0m\u001b[0;34m\u001b[0m\u001b[0;34m\u001b[0m\u001b[0m\n\u001b[0;32m---> 14\u001b[0;31m     \u001b[0midx\u001b[0m \u001b[0;34m=\u001b[0m \u001b[0;34m[\u001b[0m\u001b[0mi\u001b[0m \u001b[0;32mfor\u001b[0m \u001b[0mi\u001b[0m \u001b[0;32min\u001b[0m \u001b[0mrange\u001b[0m\u001b[0;34m(\u001b[0m\u001b[0mn\u001b[0m\u001b[0;34m)\u001b[0m \u001b[0;32mif\u001b[0m \u001b[0;34m(\u001b[0m\u001b[0mi\u001b[0m\u001b[0;34m//\u001b[0m\u001b[0;36m3\u001b[0m \u001b[0;34m**\u001b[0m \u001b[0mcnt_\u001b[0m\u001b[0;34m)\u001b[0m\u001b[0;34m%\u001b[0m\u001b[0;36m3\u001b[0m \u001b[0;34m==\u001b[0m \u001b[0;36m1\u001b[0m\u001b[0;34m]\u001b[0m\u001b[0;34m\u001b[0m\u001b[0;34m\u001b[0m\u001b[0m\n\u001b[0m\u001b[1;32m     15\u001b[0m \u001b[0;34m\u001b[0m\u001b[0m\n\u001b[1;32m     16\u001b[0m     \u001b[0;32mfor\u001b[0m \u001b[0mi\u001b[0m \u001b[0;32min\u001b[0m \u001b[0midx\u001b[0m\u001b[0;34m:\u001b[0m\u001b[0;34m\u001b[0m\u001b[0;34m\u001b[0m\u001b[0m\n",
            "\u001b[0;32m<ipython-input-2-7ebca42e252b>\u001b[0m in \u001b[0;36m<listcomp>\u001b[0;34m(.0)\u001b[0m\n\u001b[1;32m     12\u001b[0m \u001b[0;34m\u001b[0m\u001b[0m\n\u001b[1;32m     13\u001b[0m   \u001b[0;32mfor\u001b[0m \u001b[0mcnt_\u001b[0m \u001b[0;32min\u001b[0m \u001b[0mrange\u001b[0m\u001b[0;34m(\u001b[0m\u001b[0mcnt\u001b[0m\u001b[0;34m)\u001b[0m\u001b[0;34m:\u001b[0m\u001b[0;34m\u001b[0m\u001b[0;34m\u001b[0m\u001b[0m\n\u001b[0;32m---> 14\u001b[0;31m     \u001b[0midx\u001b[0m \u001b[0;34m=\u001b[0m \u001b[0;34m[\u001b[0m\u001b[0mi\u001b[0m \u001b[0;32mfor\u001b[0m \u001b[0mi\u001b[0m \u001b[0;32min\u001b[0m \u001b[0mrange\u001b[0m\u001b[0;34m(\u001b[0m\u001b[0mn\u001b[0m\u001b[0;34m)\u001b[0m \u001b[0;32mif\u001b[0m \u001b[0;34m(\u001b[0m\u001b[0mi\u001b[0m\u001b[0;34m//\u001b[0m\u001b[0;36m3\u001b[0m \u001b[0;34m**\u001b[0m \u001b[0mcnt_\u001b[0m\u001b[0;34m)\u001b[0m\u001b[0;34m%\u001b[0m\u001b[0;36m3\u001b[0m \u001b[0;34m==\u001b[0m \u001b[0;36m1\u001b[0m\u001b[0;34m]\u001b[0m\u001b[0;34m\u001b[0m\u001b[0;34m\u001b[0m\u001b[0m\n\u001b[0m\u001b[1;32m     15\u001b[0m \u001b[0;34m\u001b[0m\u001b[0m\n\u001b[1;32m     16\u001b[0m     \u001b[0;32mfor\u001b[0m \u001b[0mi\u001b[0m \u001b[0;32min\u001b[0m \u001b[0midx\u001b[0m\u001b[0;34m:\u001b[0m\u001b[0;34m\u001b[0m\u001b[0;34m\u001b[0m\u001b[0m\n",
            "\u001b[0;31mKeyboardInterrupt\u001b[0m: "
          ]
        }
      ]
    },
    {
      "cell_type": "code",
      "metadata": {
        "id": "-oJqrJi-BKej"
      },
      "source": [
        "# solution 2"
      ],
      "execution_count": null,
      "outputs": []
    },
    {
      "cell_type": "code",
      "metadata": {
        "colab": {
          "base_uri": "https://localhost:8080/"
        },
        "id": "q_uGFaLjBKq2",
        "outputId": "06261b91-737d-4da3-a3ec-c5d9320c50d4"
      },
      "source": [
        "# solution 3 \n",
        "# 별 찍는 재귀 함수\n",
        "def draw_star(n) :\n",
        "    global Map\n",
        "    \n",
        "    if n == 3 :\n",
        "        Map[0][:3] = Map[2][:3] = [1]*3\n",
        "        Map[1][:3] = [1, 0, 1]\n",
        "        return\n",
        "\n",
        "    a = n//3\n",
        "    print(f'a:{a}')\n",
        "    draw_star(n//3) #None \n",
        "    print(f'what:{draw_star(n//3)}')\n",
        "    for i in range(3) :\n",
        "        for j in range(3) :\n",
        "            if i == 1 and j == 1 :\n",
        "                continue\n",
        "            for k in range(a) :\n",
        "                # print(k)\n",
        "                Map[a*i+k][a*j:a*(j+1)] = Map[k][:a] # 핵심 아이디어\n",
        "                # print(f'{Map[a*i+k][a*j:a*(j+1)]} = {Map[k][:a]}')\n",
        "\n",
        "N = int(input())      \n",
        "\n",
        "# 메인 데이터 선언\n",
        "Map = [[0 for i in range(N)] for i in range(N)]\n",
        "# print('Map:',Map)\n",
        "draw_star(N)\n",
        "\n",
        "for i in Map:\n",
        "    for j in i :\n",
        "        # print('j',j)\n",
        "        if j :\n",
        "            print('*', end = '')\n",
        "        else :\n",
        "            print(' ', end = '')\n",
        "    print()"
      ],
      "execution_count": null,
      "outputs": [
        {
          "output_type": "stream",
          "text": [
            "27\n",
            "a:9\n",
            "a:3\n",
            "what:None\n",
            "a:3\n",
            "what:None\n",
            "what:None\n",
            "***************************\n",
            "* ** ** ** ** ** ** ** ** *\n",
            "***************************\n",
            "***   ******   ******   ***\n",
            "* *   * ** *   * ** *   * *\n",
            "***   ******   ******   ***\n",
            "***************************\n",
            "* ** ** ** ** ** ** ** ** *\n",
            "***************************\n",
            "*********         *********\n",
            "* ** ** *         * ** ** *\n",
            "*********         *********\n",
            "***   ***         ***   ***\n",
            "* *   * *         * *   * *\n",
            "***   ***         ***   ***\n",
            "*********         *********\n",
            "* ** ** *         * ** ** *\n",
            "*********         *********\n",
            "***************************\n",
            "* ** ** ** ** ** ** ** ** *\n",
            "***************************\n",
            "***   ******   ******   ***\n",
            "* *   * ** *   * ** *   * *\n",
            "***   ******   ******   ***\n",
            "***************************\n",
            "* ** ** ** ** ** ** ** ** *\n",
            "***************************\n"
          ],
          "name": "stdout"
        }
      ]
    },
    {
      "cell_type": "markdown",
      "metadata": {
        "id": "f1NDQuIfbwYI"
      },
      "source": [
        "/#Baekjoon #재귀 #하노이탑 #2021.07.30 \n",
        "\n"
      ]
    },
    {
      "cell_type": "code",
      "metadata": {
        "id": "SOnqaoS3I2cb",
        "colab": {
          "base_uri": "https://localhost:8080/"
        },
        "outputId": "a4001e73-c326-40d6-9e09-0481889f08f0"
      },
      "source": [
        "def hanoi(n,a,b,c):\n",
        "  # a = start \n",
        "  # b \n",
        "  # c = end \n",
        "  if n == 1:\n",
        "    move.append([a,c])\n",
        "  else: \n",
        "    hanoi(n-1, a,c,b) #1단계 \n",
        "    move.append([a,c]) #2단계 \n",
        "    hanoi(n-1, b, a, c) #3단계 \n",
        "\n",
        "move = []\n",
        "hanoi(int(input()), 1,2,3)\n",
        "\n",
        "print(move)\n",
        "print(len(move)) #print(2**n-1)\n",
        "print(\"\\n\".join([' '.join(str(i) for i in row) for row in move]))\n"
      ],
      "execution_count": 2,
      "outputs": [
        {
          "output_type": "stream",
          "text": [
            "3\n",
            "[[1, 3], [1, 2], [3, 2], [1, 3], [2, 1], [2, 3], [1, 3]]\n",
            "7\n",
            "1 3\n",
            "1 2\n",
            "3 2\n",
            "1 3\n",
            "2 1\n",
            "2 3\n",
            "1 3\n"
          ],
          "name": "stdout"
        }
      ]
    }
  ]
}