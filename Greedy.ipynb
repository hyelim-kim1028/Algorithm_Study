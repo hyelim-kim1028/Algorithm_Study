{
  "nbformat": 4,
  "nbformat_minor": 0,
  "metadata": {
    "colab": {
      "name": "Greedy.ipynb",
      "provenance": [],
      "authorship_tag": "ABX9TyOLxcaFtxVPuinAO4zEsrFZ",
      "include_colab_link": true
    },
    "kernelspec": {
      "name": "python3",
      "display_name": "Python 3"
    },
    "language_info": {
      "name": "python"
    }
  },
  "cells": [
    {
      "cell_type": "markdown",
      "metadata": {
        "id": "view-in-github",
        "colab_type": "text"
      },
      "source": [
        "<a href=\"https://colab.research.google.com/github/hyelim-kim1028/Algorithm_Study/blob/main/Greedy.ipynb\" target=\"_parent\"><img src=\"https://colab.research.google.com/assets/colab-badge.svg\" alt=\"Open In Colab\"/></a>"
      ]
    },
    {
      "cell_type": "markdown",
      "metadata": {
        "id": "Pr2yUSpQTSf7"
      },
      "source": [
        "### Greedy \n",
        "\n",
        ": 매순간 최적의 선택 (그 순간에만 높은 값) \n",
        "\n",
        ": 왼쪽 vs current vs 오른쪽  \n",
        "\n",
        ": 다시는 돌아올 수 없음 "
      ]
    },
    {
      "cell_type": "markdown",
      "metadata": {
        "id": "SWHD3Uc7WWWV"
      },
      "source": [
        "https://medium.com/analytics-vidhya/how-to-use-google-colab-with-github-via-google-drive-68efb23a42d"
      ]
    },
    {
      "cell_type": "code",
      "metadata": {
        "id": "H5Y4UhxcTQXc"
      },
      "source": [
        "# Programmers # Greedyy #체육복 "
      ],
      "execution_count": null,
      "outputs": []
    },
    {
      "cell_type": "markdown",
      "metadata": {
        "id": "TEaXUHbbUiNi"
      },
      "source": [
        "/#Baekjoon #Greedy #설탕배달\n",
        "\n",
        "상근이는 요즘 설탕공장에서 설탕을 배달하고 있다. 상근이는 지금 사탕가게에 설탕을 정확하게 N킬로그램을 배달해야 한다. 설탕공장에서 만드는 설탕은 봉지에 담겨져 있다. 봉지는 3킬로그램 봉지와 5킬로그램 봉지가 있다.\n",
        "\n",
        "상근이는 귀찮기 때문에, 최대한 적은 봉지를 들고 가려고 한다. 예를 들어, 18킬로그램 설탕을 배달해야 할 때, 3킬로그램 봉지 6개를 가져가도 되지만, 5킬로그램 3개와 3킬로그램 1개를 배달하면, 더 적은 개수의 봉지를 배달할 수 있다.\n",
        "\n",
        "상근이가 설탕을 정확하게 N킬로그램 배달해야 할 때, 봉지 몇 개를 가져가면 되는지 그 수를 구하는 프로그램을 작성하시오.\n",
        "\n",
        "상근이가 배달하는 봉지의 최소 개수를 출력한다. 만약, 정확하게 N킬로그램을 만들 수 없다면 -1을 출력한다."
      ]
    },
    {
      "cell_type": "code",
      "metadata": {
        "id": "YJ5bAc2WTmSe"
      },
      "source": [
        "sugar = int(input()) #입력값 N을 정수로 바꿈 \n",
        "bag = 0 \n",
        "\n",
        "while sugar >= 0: #설탕이 0 이상이라면 계속 돌아감 \n",
        "  if sugar%5==0: #5로 완전히 나누어 지면 \n",
        "    bag += (sugar//5) # decimal digit을 떼고 설탕봉지 추가 \n",
        "    print(bag)\n",
        "    break \n",
        "\n",
        "  sugar-=3 #5의 배수가 될 때 까지 -3 kg, 설탕 +1 봉지 \n",
        "  bag += 1\n",
        "\n",
        "  else: \n",
        "    print(-1)\n",
        "\n",
        "# what is //? \n",
        "#10 / 4  # 2.5\n",
        "#10 // 4  # 2\n",
        "\n",
        "# 보다가 괜찮은 블로그 \n",
        "# https://deep-learning-study.tistory.com/285?category=946336"
      ],
      "execution_count": null,
      "outputs": []
    },
    {
      "cell_type": "code",
      "metadata": {
        "id": "CvX09xKRUffB"
      },
      "source": [
        "# 알고리즘 괜찮은 블로그: https://mong9data.tistory.com/48 # 이론적인 접근 "
      ],
      "execution_count": null,
      "outputs": []
    },
    {
      "cell_type": "markdown",
      "metadata": {
        "id": "o7XVXm5RWWTG"
      },
      "source": [
        "/#Baekjoon #Greedy #ATM \n",
        "\n",
        "인하은행에는 ATM이 1대밖에 없다. 지금 이 ATM앞에 N명의 사람들이 줄을 서있다. 사람은 1번부터 N번까지 번호가 매겨져 있으며, i번 사람이 돈을 인출하는데 걸리는 시간은 Pi분이다.\n",
        "\n",
        "사람들이 줄을 서는 순서에 따라서, 돈을 인출하는데 필요한 시간의 합이 달라지게 된다. 예를 들어, 총 5명이 있고, P1 = 3, P2 = 1, P3 = 4, P4 = 3, P5 = 2 인 경우를 생각해보자. [1, 2, 3, 4, 5] 순서로 줄을 선다면, 1번 사람은 3분만에 돈을 뽑을 수 있다. 2번 사람은 1번 사람이 돈을 뽑을 때 까지 기다려야 하기 때문에, 3+1 = 4분이 걸리게 된다. 3번 사람은 1번, 2번 사람이 돈을 뽑을 때까지 기다려야 하기 때문에, 총 3+1+4 = 8분이 필요하게 된다. 4번 사람은 3+1+4+3 = 11분, 5번 사람은 3+1+4+3+2 = 13분이 걸리게 된다. 이 경우에 각 사람이 돈을 인출하는데 필요한 시간의 합은 3+4+8+11+13 = 39분이 된다.\n",
        "\n",
        "줄을 [2, 5, 1, 4, 3] 순서로 줄을 서면, 2번 사람은 1분만에, 5번 사람은 1+2 = 3분, 1번 사람은 1+2+3 = 6분, 4번 사람은 1+2+3+3 = 9분, 3번 사람은 1+2+3+3+4 = 13분이 걸리게 된다. 각 사람이 돈을 인출하는데 필요한 시간의 합은 1+3+6+9+13 = 32분이다. 이 방법보다 더 필요한 시간의 합을 최소로 만들 수는 없다.\n",
        "\n",
        "줄을 서 있는 사람의 수 N과 각 사람이 돈을 인출하는데 걸리는 시간 Pi가 주어졌을 때, 각 사람이 돈을 인출하는데 필요한 시간의 합의 최솟값을 구하는 프로그램을 작성하시오."
      ]
    },
    {
      "cell_type": "code",
      "metadata": {
        "id": "6axBtikCWei4"
      },
      "source": [
        "# greedy hint: 최소시간을 구하라 \n",
        "# key: 시간을 정렬시키기 (sort) -> 합하기 \n",
        "\n",
        "# solution 1 \n",
        "\n",
        "people = int(input()) #사람수 입력 받기 \n",
        "outputlist = list(map(int,input().split())) #시간 입력받기 \n",
        "\n",
        "answer = 0 # 합산변수 초기화 \n",
        "temp = 0 # 시간변수 초기화 \n",
        "\n",
        "for j in range(len(output_list)): \n",
        "  temp += sorted(output_list)[j] #오름차순 정렬하여 시간을 더함 \n",
        "  answer+= temp\n",
        "\n",
        "print(anwer)\n",
        "\n",
        "#solution2  #simplified version \n",
        "people = int(input())\n",
        "output_list = sorted(list(map(int, input().split()))) #시간입력>list>정렬\n",
        "\n",
        "answer = 0 #합산변수 초기화 \n",
        "\n",
        "for j in range(people):\n",
        "  answer += sum(output_list[:i+1]) #사람수만큼 돌기 #정렬된 output_list 끝까지 (I+1) 합산 \n",
        "\n",
        "print(answer)\n",
        "\n",
        "#solution 3 #function version \n",
        "\n",
        "def solution(): \n",
        "  answer = 0  \n",
        "\n",
        "  for i in range(N):#N=people \n",
        "    for j in range(0, i+1): \n",
        "      answer += arr[j]\n",
        "\n",
        "  return answer \n",
        "\n",
        "N = int(input())\n",
        "arr = list(map(int, input().split()))\n",
        "arr.sort()\n",
        "print(solution())"
      ],
      "execution_count": null,
      "outputs": []
    },
    {
      "cell_type": "markdown",
      "metadata": {
        "id": "gshDvwT0nov1"
      },
      "source": [
        "/#Baekjoon #Greedy #동전0 \n",
        "\n",
        "준규가 가지고 있는 동전은 총 N종류이고, 각각의 동전을 매우 많이 가지고 있다.\n",
        "\n",
        "동전을 적절히 사용해서 그 가치의 합을 K로 만들려고 한다. 이때 필요한 동전 개수의 최솟값을 구하는 프로그램을 작성하시오."
      ]
    },
    {
      "cell_type": "code",
      "metadata": {
        "id": "TalIh2SunoK-"
      },
      "source": [
        "N,K = map(int, intput().split()) #N=동전 종류, K=가치의합\n",
        "\n",
        "coint_lst = list() #코인 저장 리스트 \n",
        "for i in range(N):\n",
        "  coin_list.append(int(input())) \n",
        "\n",
        "count = 0 # 동전개수 세는 변수 초기화 \n",
        "for i in reversed(range(N)): \n",
        "  count += K//coint_list[i] ##카운트 값에 K를 동전으로 나눈 몫을 더해줌\n",
        "  K %= coint_list[i] ## K는 동전으로 나눈 나머지로 계속 반복\n",
        "\n",
        "print(count)\n",
        "\n",
        "# // : 나누기 (몫)\n",
        "# % : 나머지값 \n",
        "\n",
        "#soultion 2 \n",
        "# coin.sort(reverse=True)\n",
        "# for i in coin_lst: \n",
        "      # if K == 0: break \n",
        "      # result += K//i \n",
        "      # K %= i "
      ],
      "execution_count": null,
      "outputs": []
    },
    {
      "cell_type": "markdown",
      "metadata": {
        "id": "Wz4ADdmap8L2"
      },
      "source": [
        "/#Baekjoob #Greedy #회의실 배정 \n",
        "\n",
        "# 갑자기 난도가 확 뛴 느낌이랄까,,, 다시보고 생각해보기\n",
        "\n",
        "1) 문제: 한 개의 회의실이 있는데 이를 사용하고자 하는 N개의 회의에 대하여 회의실 사용표를 만들려고 한다. 각 회의 I에 대해 시작시간과 끝나는 시간이 주어져 있고, 각 회의가 겹치지 않게 하면서 회의실을 사용할 수 있는 회의의 최대 개수를 찾아보자. 단, 회의는 한번 시작하면 중간에 중단될 수 없으며 한 회의가 끝나는 것과 동시에 다음 회의가 시작될 수 있다. 회의의 시작시간과 끝나는 시간이 같을 수도 있다. 이 경우에는 시작하자마자 끝나는 것으로 생각하면 된다. \n",
        "\n",
        "2) 입력: 첫째 줄에 회의의 수 N(1 ≤ N ≤ 100,000)이 주어진다. 둘째 줄부터 N+1 줄까지 각 회의의 정보가 주어지는데 이것은 공백을 사이에 두고 회의의 시작시간과 끝나는 시간이 주어진다. 시작 시간과 끝나는 시간은 231-1보다 작거나 같은 자연수 또는 0이다.\n",
        "\n",
        "3) 출력:첫째 줄에 최대 사용할 수 있는 회의의 최대 개수를 출력한다\n",
        "\n",
        "- 참조블로그  \n",
        "1) https://suri78.tistory.com/26 \n",
        "\n",
        "  2) https://daimhada.tistory.com/38 \n",
        "\n",
        "---\n",
        "\n"
      ]
    },
    {
      "cell_type": "code",
      "metadata": {
        "id": "u4doplf8p7wJ"
      },
      "source": [
        "# article about underscores in Python: https://www.datacamp.com/community/tutorials/role-underscore-python \n",
        "# 1) 시작시간 오름차순 2) 끝나는 시간 오름차순 \n",
        "\n",
        "# solution 1\n",
        "import sys \n",
        "N = int(sys.stdin.readline())\n",
        "time = [[0]*2 for _in range(N)]\n",
        "\n",
        "for i in range(N):\n",
        "  s,e = map(int, sys.stdin.readlin().split())\n",
        "  time[i][0] = s\n",
        "  time[i][1] = e \n",
        "\n",
        "time.sort(key=lambda x: (x[1].x[0]))\n",
        "cnt = 1 \n",
        "end_time = time[0][1]\n",
        "for i in range(1, N):\n",
        "  if time[i][0] >= end_time \n",
        "     cnt += 1\n",
        "     end_time = time[i][1]\n",
        "\n",
        "print(cnt)\n",
        "\n",
        "#solution2 #function ver \n",
        "import sys \n",
        "\n",
        "def greedy(meeting):\n",
        "  meeting_cnt = 0 \n",
        "  start_time = 0 \n",
        "\n",
        "  for time in meeting: \n",
        "    if time[0] >= start_time:\n",
        "      start_time = time[1]\n",
        "      meeting_cnt += 1\n",
        "    return meeting_cnt \n",
        "\n",
        "if __name__ == \"__main__\":\n",
        "  mcount = int(sys.stdin.readline()) \n",
        "  meeting = []\n",
        "  for i in range(mcount):\n",
        "    start, end = map(int, sys.stdin.readline().split())\n",
        "    meeting.append((start,end))\n",
        "\n",
        "# 시작시간으로 정렬 \n",
        "meeting = sorted(meeting, key = lambda time: time[0])\n",
        "# 끝나는 시간으로 정렬 \n",
        "meeting = sorted(meeting, key = lambda time: time[1])\n",
        "\n",
        "print(greedy(meeting))"
      ],
      "execution_count": null,
      "outputs": []
    },
    {
      "cell_type": "markdown",
      "metadata": {
        "id": "rmUUrSgleWO8"
      },
      "source": [
        "/#Baekjoon #Greedy #거스름돈 \n",
        "\n",
        "문제: 타로는 자주 JOI잡화점에서 물건을 산다. JOI잡화점에는 잔돈으로 500엔, 100엔, 50엔, 10엔, 5엔, 1엔이 충분히 있고, 언제나 거스름돈 개수가 가장 적게 잔돈을 준다. 타로가 JOI잡화점에서 물건을 사고 카운터에서 1000엔 지폐를 한장 냈을 때, 받을 잔돈에 포함된 잔돈의 개수를 구하는 프로그램을 작성하시오.\n",
        "\n",
        "입력: \n",
        "입력은 한줄로 이루어져있고, 타로가 지불할 돈(1 이상 1000미만의 정수) 1개가 쓰여져있다.\n",
        "\n",
        "출력: \n",
        "제출할 출력 파일은 1행으로만 되어 있다. 잔돈에 포함된 매수를 출력하시오."
      ]
    },
    {
      "cell_type": "code",
      "metadata": {
        "id": "Vt13iCuFfJFf"
      },
      "source": [
        "# sudo code # 내가 푼것 \n",
        "\n",
        "don = 1000 \n",
        "jandon = [500, 100, 50, 10, 5, 1] #잔돈리스트 \n",
        "nendon = int(input()) # 낸돈 입력받기 \n",
        "guhedon = don - nendon # 구해야하는 돈 = 잔돈 \n",
        "\n",
        "count = 0 # 동전세는변수 초기화 \n",
        "for i in range(jandon):\n",
        "  count += guhedon//i\n",
        "  guhedon %= i \n",
        "\n",
        "print(count)\n",
        "\n",
        "# solution 1 \n",
        "a = 1000 - int(input())\n",
        "b = [500, 100, 50, 10, 5, 1]\n",
        "count = 0\n",
        "for i in b:\n",
        "    count += a // i\n",
        "    a %= i\n",
        "print(count)\n",
        "\n",
        "\n",
        "# solution 2 \n",
        "coin=[1,5,10,50,100,500] #주어진 엔 종류 리스트 초기화하기\n",
        "coin.sort(reverse=True) #엔화 큰순으로 정렬하기\n",
        "n=int(input()) #지불할 값 입력받기\n",
        "k=1000-n #거스름 돈 초기화하기 \n",
        "\n",
        "result=0\n",
        "#최소한의 개수 구하기\n",
        "for i in coin:\n",
        "    result+=k//i\n",
        "    k%=i\n",
        "\n",
        "print(result)"
      ],
      "execution_count": null,
      "outputs": []
    },
    {
      "cell_type": "markdown",
      "metadata": {
        "id": "LeFqX7MqiOwH"
      },
      "source": [
        "/#Baekjoon #Greedy #잃어버린 괄호 \n",
        "\n",
        "문제: 세준이는 양수와 +, -, 그리고 괄호를 가지고 식을 만들었다. 그리고 나서 세준이는 괄호를 모두 지웠다. 그리고 나서 세준이는 괄호를 적절히 쳐서 이 식의 값을 최소로 만들려고 한다. 괄호를 적절히 쳐서 이 식의 값을 최소로 만드는 프로그램을 작성하시오. \n",
        "\n",
        "\n",
        "입력: 첫째 줄에 식이 주어진다. 식은 ‘0’~‘9’, ‘+’, 그리고 ‘-’만으로 이루어져 있고, 가장 처음과 마지막 문자는 숫자이다. 그리고 연속해서 두 개 이상의 연산자가 나타나지 않고, 5자리보다 많이 연속되는 숫자는 없다. 수는 0으로 시작할 수 있다. 입력으로 주어지는 식의 길이는 50보다 작거나 같다.\n",
        "\n",
        "출력: 첫째 줄에 정답을 출력한다.\n",
        "\n",
        "문제 해설: \"잃어버린 괄호\" 문제는  가장 최소의 결과를 얻는 괄호를 쳐서 최소의 결과를 얻어내야 한다.\n",
        "\n",
        "마이너스를 만날 때 가장 큰 수를 빼면 되는 것이다.\n",
        "\n",
        "마이너스 기호를 만날 때 다음 마이너스 까지, 다음 마이너스가 없다면 끝까지 모든 수를 더해서 한 번에 빼 주면 문제에서 원하는 답을 얻을 수 있다.\n",
        "\n",
        "55 - (50 + 40) - (30 + 20)\n",
        "\n",
        "['55', '50 + 40', '30 + 20']\n",
        "\n",
        "출처: https://sungmin-joo.tistory.com/67 [Big-Joo의 공부기록]\n",
        "출처2: https://pacific-ocean.tistory.com/228 "
      ]
    },
    {
      "cell_type": "code",
      "metadata": {
        "id": "GKd9gWVWhQfV"
      },
      "source": [
        "solution 1 \n",
        "arr = input().split('-') s = 0 for i in arr[0].split('+'): s += int(i) for i in arr[1:]: for j in i.split('+'): s -= int(j) print(s)\n",
        "\n",
        "\n",
        "\n"
      ],
      "execution_count": null,
      "outputs": []
    }
  ]
}