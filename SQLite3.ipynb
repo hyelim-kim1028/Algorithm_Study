{
  "nbformat": 4,
  "nbformat_minor": 0,
  "metadata": {
    "colab": {
      "name": "SQLite3.ipynb",
      "provenance": [],
      "authorship_tag": "ABX9TyPj2IUEcaJwGKWDbxRhgSoZ",
      "include_colab_link": true
    },
    "kernelspec": {
      "name": "python3",
      "display_name": "Python 3"
    },
    "language_info": {
      "name": "python"
    }
  },
  "cells": [
    {
      "cell_type": "markdown",
      "metadata": {
        "id": "view-in-github",
        "colab_type": "text"
      },
      "source": [
        "<a href=\"https://colab.research.google.com/github/hyelim-kim1028/Algorithm_Study/blob/main/SQLite3.ipynb\" target=\"_parent\"><img src=\"https://colab.research.google.com/assets/colab-badge.svg\" alt=\"Open In Colab\"/></a>"
      ]
    },
    {
      "cell_type": "code",
      "metadata": {
        "id": "0pbynQRdHn0S"
      },
      "source": [
        "# SQLite3 API 정리 \n",
        "# SQL은 DB based 이고, SQLite은 file based \n",
        "\n",
        "import sqlite3\n",
        "con = sqlite3.connect('example.db')\n",
        "# connection 객체: 데이터베이스 나타냄 \n",
        "# 데이터는 example.db에 저장됨 "
      ],
      "execution_count": null,
      "outputs": []
    },
    {
      "cell_type": "code",
      "metadata": {
        "id": "2LBzItm1IiXr"
      },
      "source": [
        "cur = con.cursor() # cursor객체 생성 \n",
        "\n",
        "# execute() 메서드 호출 > SQL 수행 \n",
        "\n",
        "# Create table \n",
        "cur.execute('''CREATE TABLE stocks\n",
        "               (date text, trans text, symbol text, qty real, price real)''')\n",
        "# 같은 코드가 두번 돌면 > already exits 에러가 뜬다 \n",
        "\n",
        "\n",
        "#insert a row of data \n",
        "cur.execute(\"INSERT INTO stocks VALUES('2006-01-05','BUY','RHAT',100,35.14)\")\n",
        "\n",
        "# save (commit) the chantes \n",
        "con.commit()\n",
        "\n",
        "# close the connection \n",
        "con.close()"
      ],
      "execution_count": null,
      "outputs": []
    },
    {
      "cell_type": "code",
      "metadata": {
        "id": "SLP0mWqTIikt"
      },
      "source": [
        "# 데이터를 영구 저장 후 다시 사용 가능 \n",
        "con = sqlite3.connect('example.db')\n",
        "cur = con.cursor()"
      ],
      "execution_count": null,
      "outputs": []
    },
    {
      "cell_type": "code",
      "metadata": {
        "colab": {
          "base_uri": "https://localhost:8080/"
        },
        "id": "ngWqRl6aK8Ih",
        "outputId": "e322d8d9-bbcb-4baf-b29e-e0cefd98fa0f"
      },
      "source": [
        "cur.execute(\"INSERT INTO stocks VALUES('2006-03-28', 'BUY', 'IBM', 1000, 45.0)\")"
      ],
      "execution_count": null,
      "outputs": [
        {
          "output_type": "execute_result",
          "data": {
            "text/plain": [
              "<sqlite3.Cursor at 0x7f8d1b66b030>"
            ]
          },
          "metadata": {
            "tags": []
          },
          "execution_count": 11
        }
      ]
    },
    {
      "cell_type": "code",
      "metadata": {
        "colab": {
          "base_uri": "https://localhost:8080/"
        },
        "id": "-Q9bO7lFLNMC",
        "outputId": "1ad3c069-1eb5-4fd0-8a40-ac73ab429ace"
      },
      "source": [
        "cur.execute(\"INSERT INTO stocks VALUES('2006-04-06', 'SELL', 'IBM', 500, 53.0)\")\n",
        "cur.execute(\"INSERT INTO stocks VALUES('2006-04-05', 'BUY', 'MSFT', 1000, 72.0)\")"
      ],
      "execution_count": null,
      "outputs": [
        {
          "output_type": "execute_result",
          "data": {
            "text/plain": [
              "<sqlite3.Cursor at 0x7f8d1b66b030>"
            ]
          },
          "metadata": {
            "tags": []
          },
          "execution_count": 13
        }
      ]
    },
    {
      "cell_type": "code",
      "metadata": {
        "id": "SNfsYzXYIiu9"
      },
      "source": [
        "# iterator 사용 \n",
        "# SELECT 문을 실행한 후 데이터를 꺼내려면, \n",
        "# 1) 커서를 이터레이터로 취급하거나, \n",
        "# 2)커서의 fetchone() 메서드를 호출하여 일치하는 단일 행을 꺼내거나,\n",
        "# 3)  fetchall()를 호출하여 일치하는 행의 리스트를 가져올 수 있습니다."
      ],
      "execution_count": null,
      "outputs": []
    },
    {
      "cell_type": "code",
      "metadata": {
        "colab": {
          "base_uri": "https://localhost:8080/"
        },
        "id": "RCe_JzxLIi53",
        "outputId": "3129ab04-27d7-4925-ea81-a2f6a63586db"
      },
      "source": [
        "# 1) iterator 사용 방식 \n",
        "\n",
        "for row in cur.execute('SELECT * FROM stocks ORDER BY Price'): \n",
        "  print(row)\n"
      ],
      "execution_count": null,
      "outputs": [
        {
          "output_type": "stream",
          "text": [
            "('2006-01-05', 'BUY', 'RHAT', 100.0, 35.14)\n",
            "('2006-03-28', 'BUY', 'IBM', 1000.0, 45.0)\n",
            "('2006-04-06', 'SELL', 'IBM', 500.0, 53.0)\n",
            "('2006-04-05', 'BUY', 'MSFT', 1000.0, 72.0)\n"
          ],
          "name": "stdout"
        }
      ]
    },
    {
      "cell_type": "code",
      "metadata": {
        "id": "h1QUscY7IjEM"
      },
      "source": [
        ""
      ],
      "execution_count": null,
      "outputs": []
    },
    {
      "cell_type": "code",
      "metadata": {
        "id": "QjBS3l_qIjbe"
      },
      "source": [
        ""
      ],
      "execution_count": null,
      "outputs": []
    },
    {
      "cell_type": "code",
      "metadata": {
        "id": "Ssxrac_QIjlE"
      },
      "source": [
        ""
      ],
      "execution_count": null,
      "outputs": []
    },
    {
      "cell_type": "code",
      "metadata": {
        "id": "FUeEarhYIjwf"
      },
      "source": [
        ""
      ],
      "execution_count": null,
      "outputs": []
    },
    {
      "cell_type": "code",
      "metadata": {
        "id": "6gZpcYOTIj6h"
      },
      "source": [
        ""
      ],
      "execution_count": null,
      "outputs": []
    },
    {
      "cell_type": "code",
      "metadata": {
        "id": "0LxHyLnDIkEQ"
      },
      "source": [
        ""
      ],
      "execution_count": null,
      "outputs": []
    }
  ]
}