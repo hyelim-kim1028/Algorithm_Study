{
  "nbformat": 4,
  "nbformat_minor": 0,
  "metadata": {
    "colab": {
      "name": "SQLite3.ipynb",
      "provenance": [],
      "include_colab_link": true
    },
    "kernelspec": {
      "name": "python3",
      "display_name": "Python 3"
    },
    "language_info": {
      "name": "python"
    }
  },
  "cells": [
    {
      "cell_type": "markdown",
      "metadata": {
        "id": "view-in-github",
        "colab_type": "text"
      },
      "source": [
        "<a href=\"https://colab.research.google.com/github/hyelim-kim1028/Algorithm_Study/blob/main/SQLite3.ipynb\" target=\"_parent\"><img src=\"https://colab.research.google.com/assets/colab-badge.svg\" alt=\"Open In Colab\"/></a>"
      ]
    },
    {
      "cell_type": "code",
      "metadata": {
        "id": "0pbynQRdHn0S"
      },
      "source": [
        "# SQLite3 API 정리 \n",
        "# SQL은 DB based 이고, SQLite은 file based \n",
        "\n",
        "# show lines in the cell shortcut: ctrl + M + L \n",
        "\n",
        "import sqlite3\n",
        "con = sqlite3.connect('example.db')\n",
        "# connection 객체: 데이터베이스 나타냄 \n",
        "# 데이터는 example.db에 저장됨 "
      ],
      "execution_count": null,
      "outputs": []
    },
    {
      "cell_type": "code",
      "metadata": {
        "id": "2LBzItm1IiXr"
      },
      "source": [
        "cur = con.cursor() # cursor객체 생성 \n",
        "\n",
        "# execute() 메서드 호출 > SQL 수행 \n",
        "\n",
        "# Create table \n",
        "cur.execute('''CREATE TABLE stocks\n",
        "               (date text, trans text, symbol text, qty real, price real)''')\n",
        "# 같은 코드가 두번 돌면 > already exits 에러가 뜬다 \n",
        "\n",
        "\n",
        "#insert a row of data \n",
        "cur.execute(\"INSERT INTO stocks VALUES('2006-01-05','BUY','RHAT',100,35.14)\")\n",
        "\n",
        "# save (commit) the chantes \n",
        "con.commit()\n",
        "\n",
        "# close the connection \n",
        "con.close()"
      ],
      "execution_count": null,
      "outputs": []
    },
    {
      "cell_type": "code",
      "metadata": {
        "id": "SLP0mWqTIikt"
      },
      "source": [
        "# 데이터를 영구 저장 후 다시 사용 가능 \n",
        "con = sqlite3.connect('example.db')\n",
        "cur = con.cursor()"
      ],
      "execution_count": null,
      "outputs": []
    },
    {
      "cell_type": "code",
      "metadata": {
        "colab": {
          "base_uri": "https://localhost:8080/"
        },
        "id": "ngWqRl6aK8Ih",
        "outputId": "e322d8d9-bbcb-4baf-b29e-e0cefd98fa0f"
      },
      "source": [
        "cur.execute(\"INSERT INTO stocks VALUES('2006-03-28', 'BUY', 'IBM', 1000, 45.0)\")"
      ],
      "execution_count": null,
      "outputs": [
        {
          "output_type": "execute_result",
          "data": {
            "text/plain": [
              "<sqlite3.Cursor at 0x7f8d1b66b030>"
            ]
          },
          "metadata": {
            "tags": []
          },
          "execution_count": 11
        }
      ]
    },
    {
      "cell_type": "code",
      "metadata": {
        "colab": {
          "base_uri": "https://localhost:8080/"
        },
        "id": "-Q9bO7lFLNMC",
        "outputId": "1ad3c069-1eb5-4fd0-8a40-ac73ab429ace"
      },
      "source": [
        "cur.execute(\"INSERT INTO stocks VALUES('2006-04-06', 'SELL', 'IBM', 500, 53.0)\")\n",
        "cur.execute(\"INSERT INTO stocks VALUES('2006-04-05', 'BUY', 'MSFT', 1000, 72.0)\")"
      ],
      "execution_count": null,
      "outputs": [
        {
          "output_type": "execute_result",
          "data": {
            "text/plain": [
              "<sqlite3.Cursor at 0x7f8d1b66b030>"
            ]
          },
          "metadata": {
            "tags": []
          },
          "execution_count": 13
        }
      ]
    },
    {
      "cell_type": "code",
      "metadata": {
        "id": "SNfsYzXYIiu9"
      },
      "source": [
        "# iterator 사용 \n",
        "# SELECT 문을 실행한 후 데이터를 꺼내려면, \n",
        "# 1) 커서를 이터레이터로 취급하거나, \n",
        "# 2)커서의 fetchone() 메서드를 호출하여 일치하는 단일 행을 꺼내거나,\n",
        "# 3)  fetchall()를 호출하여 일치하는 행의 리스트를 가져올 수 있습니다."
      ],
      "execution_count": null,
      "outputs": []
    },
    {
      "cell_type": "code",
      "metadata": {
        "colab": {
          "base_uri": "https://localhost:8080/"
        },
        "id": "RCe_JzxLIi53",
        "outputId": "3129ab04-27d7-4925-ea81-a2f6a63586db"
      },
      "source": [
        "# 1) iterator 사용 방식 \n",
        "\n",
        "for row in cur.execute('SELECT * FROM stocks ORDER BY Price'): \n",
        "  print(row)\n"
      ],
      "execution_count": null,
      "outputs": [
        {
          "output_type": "stream",
          "text": [
            "('2006-01-05', 'BUY', 'RHAT', 100.0, 35.14)\n",
            "('2006-03-28', 'BUY', 'IBM', 1000.0, 45.0)\n",
            "('2006-04-06', 'SELL', 'IBM', 500.0, 53.0)\n",
            "('2006-04-05', 'BUY', 'MSFT', 1000.0, 72.0)\n"
          ],
          "name": "stdout"
        }
      ]
    },
    {
      "cell_type": "code",
      "metadata": {
        "id": "h1QUscY7IjEM"
      },
      "source": [
        "# Never do this -- insecure! \n",
        "# Do not use python's string operations \n",
        "symbol = 'RHAT'\n",
        "cur.execute(\"SELECT * FROM stocks where symbol = '%s  % symbol\")"
      ],
      "execution_count": null,
      "outputs": []
    },
    {
      "cell_type": "code",
      "metadata": {
        "id": "QjBS3l_qIjbe",
        "colab": {
          "base_uri": "https://localhost:8080/"
        },
        "outputId": "72e42a7c-8298-4445-c416-677531e5f473"
      },
      "source": [
        "# 1. Put a placeholder wherever you want to use a value \n",
        "# placeholder: a. question mark b. named style > sequence or dict instance \n",
        "# the length of the sequence must be met > if not ProgrammingError \n",
        "# 2. provide a tuple of values as the second argument to the cursor's execute() method \n",
        "\n",
        "import sqlite3 \n",
        "\n",
        "con = sqlite3.connect(\":memory:\")\n",
        "cur = con.cursor()\n",
        "cur.execute(\"create table lang (name, first_appeared)\")\n",
        "\n",
        "# This is the qmark style: \n",
        "cur.execute(\"Insert into lang values (?,?)\", (\"C\",1972))\n",
        "\n",
        "# The qmark style used with executemany():\n",
        "lang_list = [\n",
        "             (\"Fortran\", 1957),\n",
        "             (\"Python\", 1991),\n",
        "             (\"Go\", 2009)\n",
        "]\n",
        "\n",
        "cur.executemany(\"insert into lang values (?,?)\", lang_list)\n",
        "\n",
        "# And this is the named style: \n",
        "cur.execute(\"select * from lang where first_appeared =:year \", {\"year\":1972})\n",
        "print(cur.fetchall())\n",
        "\n",
        "con.close()"
      ],
      "execution_count": null,
      "outputs": [
        {
          "output_type": "stream",
          "text": [
            "[('C', 1972)]\n"
          ],
          "name": "stdout"
        }
      ]
    },
    {
      "cell_type": "code",
      "metadata": {
        "id": "Ssxrac_QIjlE"
      },
      "source": [
        "# SQLite documentation: https://www.sqlite.org/index.html\n",
        "# PEP 249 데이터베이스 API 명세 2.0 : https://www.python.org/dev/peps/pep-0249/"
      ],
      "execution_count": null,
      "outputs": []
    },
    {
      "cell_type": "code",
      "metadata": {
        "id": "FUeEarhYIjwf",
        "colab": {
          "base_uri": "https://localhost:8080/"
        },
        "outputId": "171b028d-39ae-44dc-8ef9-9d41bb5f13c5"
      },
      "source": [
        "# 모듈 함수와 상수 \n",
        "\n",
        "sqlite3.version\n",
        "sqlite3.version_info\n",
        "sqlite3.PARSE_DECLTYPES  # connect의 detect_types의 매개변수 \n",
        "sqlite3.connect\n",
        "# sqlite3.connect(database[, timeout, detect_types, isolation_level, check_same_thread, factory, cached_statements, url])\n",
        "# databse에 연결 \n",
        "# database : 파일의 경로명 / \":memory:\"\n",
        "\n",
        "# datatypes: text, integer, real, blob, null \n",
        "# real:  Real values are real numbers with decimal values that use 8-byte floats.\n",
        "# blob : BLOB stands for a binary large object that can store any kind of data. The maximum size of BLOB is, theoretically, unlimited.\n",
        "\n",
        "# detect types \n",
        "# default = 0 \n",
        "\n",
        "# check_same_thread = True (dfault)\n",
        "# True: 만들고 있는 스레드만이 연결을 사용할 수 있음 \n",
        "# False: 연결을 여러 스레드에서 공유 가능 # 데이터 손상 피하기 >직렬화 \n",
        "# what is 직렬화? \n",
        "\n"
      ],
      "execution_count": null,
      "outputs": [
        {
          "output_type": "execute_result",
          "data": {
            "text/plain": [
              "<function _sqlite3.connect>"
            ]
          },
          "metadata": {},
          "execution_count": 8
        }
      ]
    },
    {
      "cell_type": "markdown",
      "metadata": {
        "id": "R38w3pf_OHNx"
      },
      "source": [
        "기본적으로, sqlite3 모듈은 connect 호출에 Connection 클래스를 사용합니다. 그러나, Connection 클래스의 서브 클래스를 만들고 factory 매개 변수에 클래스를 제공하면 connect()가 그 클래스를 사용하게 할 수 있습니다 (눼? 선생님...?) \n",
        "\n",
        "reference: https://docs.python.org/ko/3/library/sqlite3.html#sqlite3-types"
      ]
    },
    {
      "cell_type": "code",
      "metadata": {
        "id": "6gZpcYOTIj6h"
      },
      "source": [
        "db = sqlite3.connect('file:path/to/database?mode=ro', uri=True)\n",
        "# uri = True, 옵션 지정 가능 i.e. 읽기 전용 모드 \n",
        "# https://www.sqlite.org/uri.html "
      ],
      "execution_count": null,
      "outputs": []
    },
    {
      "cell_type": "code",
      "metadata": {
        "id": "0LxHyLnDIkEQ"
      },
      "source": [
        "sqlite3.register_adapter(type, callable)\n",
        "# python type > SQLite convertable callable \n",
        "# int, float, str or bytes \n",
        "\n",
        "sqlite3.complete_statemet(sql)\n",
        "# only checks if exists a semi-colon (not if gramatically correct)\n",
        "\n",
        "# isolation_level \n",
        "# deferred, immediate, exclusive or None (자동 커밋 모드)\n",
        "\n",
        "sqlite3.enable_callback_tracebacks(flags)\n"
      ],
      "execution_count": null,
      "outputs": []
    },
    {
      "cell_type": "code",
      "metadata": {
        "id": "Y7WJAfAxPDhX",
        "outputId": "85f9903f-bcb9-429e-a024-16db5cf0e2f3",
        "colab": {
          "base_uri": "https://localhost:8080/"
        }
      },
      "source": [
        "# A minimal SQLite shell for experiments \n",
        "\n",
        "import sqlite3 \n",
        "\n",
        "con = sqlite3.connect(\":memory:\")\n",
        "con.isolation_level = None \n",
        "cur = con.cursor() \n",
        "\n",
        "buffer = \"\"\n",
        "\n",
        "print(\"Enter your SQL commands to execute in sqlite3\")\n",
        "print(\"Enter a blank line to exit.\")\n",
        "\n",
        "while True: \n",
        "  line = input()\n",
        "  if line == \"\":\n",
        "    break \n",
        "  buffer += line \n",
        "  if sqlite3.complete_statement(buffer): \n",
        "    try: \n",
        "      buffer = buffer.strip()\n",
        "      cur.execute(buffer)\n",
        "\n",
        "      if buffer.istrip().upper().startswith(\"SELECT\"):\n",
        "        print(cur.fetchall())\n",
        "    except sqlite3.Error as e: \n",
        "      print(\"An error occurred:\", e.args[0])\n",
        "    buffer = \"\"\n",
        "\n",
        "con.close()\n",
        "\n",
        "# enable_callback_tracebacks(flag)\n",
        "# to debug, flag = True > get tracebacks from callbacks on sys.stderr \n",
        "# flag = False > not get any tracebacks from user-defined functions, aggregates, etc "
      ],
      "execution_count": 1,
      "outputs": [
        {
          "name": "stdout",
          "output_type": "stream",
          "text": [
            "Enter your SQL commands to execute in sqlite3\n",
            "Enter a blank line to exit.\n",
            "yes\n",
            "pardoon\n",
            "well\n",
            "\n"
          ]
        }
      ]
    },
    {
      "cell_type": "code",
      "metadata": {
        "id": "mv3fi8YoQHdC"
      },
      "source": [
        "# Connection 객체 \n",
        "# class sqlite3.Connection \n",
        "\n",
        "# isolation_level \n",
        "# autocommit mode \n",
        "\n",
        "# in_transaction \n",
        "# true : transaction active \n",
        "# false: otherwise, read-only attribute \n",
        "\n",
        "# cursor (factory = Cursor)\n",
        "# must be a callable returning an instance of Cursor \n",
        "\n",
        "# commit()\n",
        "# commits the current transaction \n",
        "\n",
        "# rollback()\n",
        "# back to db since the last call to commit()\n",
        "\n",
        "# close()\n",
        "# close the db connection \n",
        "# not automatically commit()\n",
        "\n",
        "# execute(sql [,parameters])\n",
        "# calls cursor() > execute() + parameters > returns the cursor\n",
        "\n",
        "# executemany(sql [,parameters])\n",
        "\n",
        "# executescript(sql_script)\n",
        "# calls cursor \n",
        "# execturescript with sql_script \n",
        "# returns cursor()\n",
        "\n",
        "# create_function (name, num_params, func, *, deterministic = False)\n",
        "# \n"
      ],
      "execution_count": null,
      "outputs": []
    },
    {
      "cell_type": "code",
      "metadata": {
        "id": "gBFLUN1IVU06"
      },
      "source": [
        ""
      ],
      "execution_count": null,
      "outputs": []
    }
  ]
}