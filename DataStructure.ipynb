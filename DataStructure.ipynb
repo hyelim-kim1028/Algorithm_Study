{
  "nbformat": 4,
  "nbformat_minor": 0,
  "metadata": {
    "colab": {
      "name": "DataStructure.ipynb",
      "provenance": [],
      "authorship_tag": "ABX9TyPH+APBfJUugMLzy0tJwb7+",
      "include_colab_link": true
    },
    "kernelspec": {
      "name": "python3",
      "display_name": "Python 3"
    },
    "language_info": {
      "name": "python"
    }
  },
  "cells": [
    {
      "cell_type": "markdown",
      "metadata": {
        "id": "view-in-github",
        "colab_type": "text"
      },
      "source": [
        "<a href=\"https://colab.research.google.com/github/hyelim-kim1028/Algorithm_Study/blob/main/DataStructure.ipynb\" target=\"_parent\"><img src=\"https://colab.research.google.com/assets/colab-badge.svg\" alt=\"Open In Colab\"/></a>"
      ]
    },
    {
      "cell_type": "markdown",
      "metadata": {
        "id": "zy5JMre2o8vO"
      },
      "source": [
        "# Stack\n",
        "\n",
        "/#Baekjoon #Stack #10828번 스택 \n",
        "\n",
        "문제: \n",
        "정수를 저장하는 스택을 구현한 다음, 입력으로 주어지는 명령을 처리하는 프로그램을 작성하시오.\n",
        "\n",
        "명령은 총 다섯 가지이다.\n",
        "\n",
        "push X: 정수 X를 스택에 넣는 연산이다.\n",
        "pop: 스택에서 가장 위에 있는 정수를 빼고, 그 수를 출력한다. 만약 스택에 들어있는 정수가 없는 경우에는 -1을 출력한다.\n",
        "size: 스택에 들어있는 정수의 개수를 출력한다.\n",
        "empty: 스택이 비어있으면 1, 아니면 0을 출력한다.\n",
        "top: 스택의 가장 위에 있는 정수를 출력한다. 만약 스택에 들어있는 정수가 없는 경우에는 -1을 출력한다.\n",
        "\n",
        "\n",
        "입력: \n",
        "첫째 줄에 주어지는 명령의 수 N (1 ≤ N ≤ 10,000)이 주어진다. 둘째 줄부터 N개의 줄에는 명령이 하나씩 주어진다. 주어지는 정수는 1보다 크거나 같고, 100,000보다 작거나 같다. 문제에 나와있지 않은 명령이 주어지는 경우는 없다.\n",
        "\n",
        "출력:\n",
        "출력해야하는 명령이 주어질 때마다, 한 줄에 하나씩 출력한다.\n",
        "\n"
      ]
    },
    {
      "cell_type": "code",
      "metadata": {
        "id": "_nHTXM5co32R"
      },
      "source": [
        "import sys \n",
        "\n",
        "N = int(sys.stdin.readline()) # N = 명령의 수 \n",
        "\n",
        "stack = []\n",
        "\n",
        "for _ in range(N):\n",
        "  word = sys.stdin.readline().split() # list로 order이 들어오면 나눠줌 \n",
        "  order = word[0] # push 1 으로 들어오면 push 만 order\n",
        "\n",
        "  #order의 값에 따라 역할을 수행하기 \n",
        "\n",
        "  if order == \"push\":\n",
        "    value = word[1] # push 1에서 #1 \n",
        "    stack.append(value) #넣기 \n",
        "\n",
        "  elif order == \"pop\":\n",
        "    if len(stack) == 0: #비어있으면 -1 출력 \n",
        "      print(-1)\n",
        "    else: \n",
        "      print(stack.pop()) #빼주기 \n",
        "  \n",
        "  elif order==\"size\":  \n",
        "    print(len(stack))\n",
        "  \n",
        "  elif order == \"empty\":\n",
        "    if len(stack) == 0: # 비어있으면 0 \n",
        "      print(1) # 아니면 1 \n",
        "    else: \n",
        "      print(0)\n",
        "\n",
        "  elif order==\"top\": \n",
        "    if len(stack) ==0:#정수 없으면 #-1 \n",
        "      print(-1)\n",
        "    else: \n",
        "      print(stack[-1])"
      ],
      "execution_count": null,
      "outputs": []
    },
    {
      "cell_type": "markdown",
      "metadata": {
        "id": "aYFbpxrihWgM"
      },
      "source": [
        "/#Baekjoon #DataStructure #Queue \n"
      ]
    },
    {
      "cell_type": "code",
      "metadata": {
        "id": "rjS5k6fYhWBm"
      },
      "source": [
        "import sys \n",
        "\n",
        "N = int(sys.stdin.readline()) # N = 명령의 수 \n",
        "\n",
        "queue = []\n",
        "\n",
        "for _ in range(N):\n",
        "  word = sys.stdin.readline().split() # list로 order이 들어오면 나눠줌 \n",
        "  order = word[0] # push 1 으로 들어오면 push 만 order\n",
        "\n",
        "  #order의 값에 따라 역할을 수행하기 \n",
        "\n",
        "  if order == \"push\":\n",
        "    value = word[1] # push 1에서 #1 \n",
        "    stack.append(value) #넣기 \n",
        "\n",
        "  elif order == \"pop\":\n",
        "    if len(queue) == 0: #비어있으면 -1 출력 \n",
        "      print(-1)\n",
        "    else: \n",
        "      print(queue.pop()) #빼주기 \n",
        "  \n",
        "  elif order==\"size\":  \n",
        "    print(len(queue))\n",
        "  \n",
        "  elif order == \"empty\":\n",
        "    if len(queue) == 0: # 비어있으면 0 \n",
        "      print(1) # 아니면 1 \n",
        "    else: \n",
        "      print(0)\n",
        "\n",
        "  elif order==\"front\": \n",
        "    if len(queue) == 0: \n",
        "        print(-1)\n",
        "      else: \n",
        "        print(queue[0])\n",
        "  \n",
        "  elif order == \"back\":\n",
        "    if len(queue)  == 0:\n",
        "      print(-1)\n",
        "      else:\n",
        "        print(queue[-1]) #-1 : 뒤에서 첫번째 "
      ],
      "execution_count": null,
      "outputs": []
    },
    {
      "cell_type": "markdown",
      "metadata": {
        "id": "J8CpodSzgXZf"
      },
      "source": [
        "/#Baekjoon #Stack #스택 수열 1874\n",
        "\n",
        "문제:\n",
        "스택 (stack)은 기본적인 자료구조 중 하나로, 컴퓨터 프로그램을 작성할 때 자주 이용되는 개념이다. 스택은 자료를 넣는 (push) 입구와 자료를 뽑는 (pop) 입구가 같아 제일 나중에 들어간 자료가 제일 먼저 나오는 (LIFO, Last in First out) 특성을 가지고 있다.\n",
        "\n",
        "1부터 n까지의 수를 스택에 넣었다가 뽑아 늘어놓음으로써, 하나의 수열을 만들 수 있다. 이때, 스택에 push하는 순서는 반드시 오름차순을 지키도록 한다고 하자. 임의의 수열이 주어졌을 때 스택을 이용해 그 수열을 만들 수 있는지 없는지, 있다면 어떤 순서로 push와 pop 연산을 수행해야 하는지를 알아낼 수 있다. 이를 계산하는 프로그램을 작성하라.\n",
        "\n",
        "입력:\n",
        "첫 줄에 n (1 ≤ n ≤ 100,000)이 주어진다. 둘째 줄부터 n개의 줄에는 수열을 이루는 1이상 n이하의 정수가 하나씩 순서대로 주어진다. 물론 같은 정수가 두 번 나오는 일은 없다.\n",
        "\n",
        "출력: \n",
        "입력된 수열을 만들기 위해 필요한 연산을 한 줄에 한 개씩 출력한다. push연산은 +로, pop 연산은 -로 표현하도록 한다. 불가능한 경우 NO를 출력한다.\n",
        "\n",
        "\n",
        "[push, push, push, push, pop, pop, push, push, pop, push, push, pop, pop, pop, pop, pop]\n",
        "\n",
        " [4, 3, 6, 8, 7, 5, 2, 1]"
      ]
    },
    {
      "cell_type": "code",
      "metadata": {
        "id": "1biYobY4kvCq"
      },
      "source": [
        "# solution 1 \n",
        "# https://hongcoding.tistory.com/39 \n",
        "\n",
        "n = int(input())\n",
        "stack = []\n",
        "answer = []\n",
        "flag = 0\n",
        "cur = 1\n",
        "\n",
        "for i in range(n):\n",
        "  num = int(input())\n",
        "  while cur <= num: # 입력한 수를 만날 때 까지 오름차순으로 push \n",
        "    stack.append(cur)\n",
        "    answer.append(\"+\")\n",
        "    cur += 1\n",
        "\n",
        "    # 입력한 수를 만나면 while문 탈출. 즉, cur = num일 때 까지 while 문을 돌아 stack을 쌓는다 \n",
        "\n",
        "    if stack[-1] == num:   # stack의 TOP이 입력한 숫자와 같다면  \n",
        "      stack.pop()          # 스택의 TOP을 꺼내 수열을 만들어 준다.\n",
        "      answer.append(\"-\")\n",
        "    else:                  # stack의 TOP이 입력한 수가 아니면 주어진 스택을 만들 수 없다.\n",
        "      print(\"NO\")          # 왜냐하면 12345 처럼 오름차순으로 스택이 입력되는데\n",
        "      flag = 1             # TOP이 num보다 크면 num은 TOP보다 더 아래에 쌓여있기 때문이다.\n",
        "    break \n",
        "\n",
        "if flag == 0: \n",
        "  for i in answer: \n",
        "    print(i)\n"
      ],
      "execution_count": null,
      "outputs": []
    },
    {
      "cell_type": "markdown",
      "metadata": {
        "id": "HEI6syIbPg-Q"
      },
      "source": [
        "/#Baekjoon #DataStructure #프린터큐 \n",
        "\n",
        "문제: \n",
        "여러분도 알다시피 여러분의 프린터 기기는 여러분이 인쇄하고자 하는 문서를 인쇄 명령을 받은 ‘순서대로’, 즉 먼저 요청된 것을 먼저 인쇄한다. 여러 개의 문서가 쌓인다면 Queue 자료구조에 쌓여서 FIFO - First In First Out - 에 따라 인쇄가 되게 된다. 하지만 상근이는 새로운 프린터기 내부 소프트웨어를 개발하였는데, 이 프린터기는 다음과 같은 조건에 따라 인쇄를 하게 된다.\n",
        "\n",
        "현재 Queue의 가장 앞에 있는 문서의 ‘중요도’를 확인한다.\n",
        "나머지 문서들 중 현재 문서보다 중요도가 높은 문서가 하나라도 있다면, 이 문서를 인쇄하지 않고 Queue의 가장 뒤에 재배치 한다. 그렇지 않다면 바로 인쇄를 한다.\n",
        "예를 들어 Queue에 4개의 문서(A B C D)가 있고, 중요도가 2 1 4 3 라면 C를 인쇄하고, 다음으로 D를 인쇄하고 A, B를 인쇄하게 된다.\n",
        "\n",
        "여러분이 할 일은, 현재 Queue에 있는 문서의 수와 중요도가 주어졌을 때, 어떤 한 문서가 몇 번째로 인쇄되는지 알아내는 것이다. 예를 들어 위의 예에서 C문서는 1번째로, A문서는 3번째로 인쇄되게 된다.\n",
        "\n",
        "입력: \n",
        "첫 줄에 테스트케이스의 수가 주어진다. 각 테스트케이스는 두 줄로 이루어져 있다.\n",
        "\n",
        "테스트케이스의 첫 번째 줄에는 문서의 개수 N(1 ≤ N ≤ 100)과, 몇 번째로 인쇄되었는지 궁금한 문서가 현재 Queue에서 몇 번째에 놓여 있는지를 나타내는 정수 M(0 ≤ M < N)이 주어진다. 이때 맨 왼쪽은 0번째라고 하자. 두 번째 줄에는 N개 문서의 중요도가 차례대로 주어진다. 중요도는 1 이상 9 이하의 정수이고, 중요도가 같은 문서가 여러 개 있을 수도 있다.\n",
        "\n",
        "출력:\n",
        " 각 테스트 케이스에 대해 문서가 몇 번째로 인쇄되는지 출력한다.\n",
        "\n",
        " 출처: https://assaeunji.github.io/python/2020-05-04-bj1966/ "
      ]
    },
    {
      "cell_type": "code",
      "metadata": {
        "id": "OTs5MWUdRSSA"
      },
      "source": [
        "# 예제입력 \n",
        "\n",
        "# n = 문서의 개수 \n",
        "# m = 현재 큐에서 몇번째에 놓여있는지 \n",
        "\n",
        "# 3 > 세번 테스트 할 것 (N)\n",
        "\n",
        "# 1 0 > n=1, m=0 \n",
        "# 5 # 중요도 5 \n",
        "\n",
        "# 4 2 > n = 4, m = 2\n",
        "# 1 2 3 4 # 중요도 \n",
        "\n",
        "# 6 0 # n=6, m=0 \n",
        "# 1 1 9 1 1 1 # 중요도 "
      ],
      "execution_count": null,
      "outputs": []
    },
    {
      "cell_type": "code",
      "metadata": {
        "id": "wjVjRrTMTO7Z"
      },
      "source": [
        "#solution 1 \n",
        "\n",
        "N = int(input())\n",
        "\n",
        "for _ in range(N):\n",
        "  n,m = list(map(int, input().split())) #n,m \n",
        "  imp = list(map(int, input().split())) #중요도 \n",
        "  idx = list(range(len(imp))) # 중요도의 개수 길이만큼 \n",
        "  idx[m] = 'target' # 리스트에서 타겟을 찾기 \n",
        "\n",
        "  # 순서 \n",
        "  order = 0 \n",
        "\n",
        "  while True: \n",
        "    # 첫번째 if: imp의 첫번째값 = 최댓값? \n",
        "    if imp[0] == max(imp):\n",
        "      order += 1 \n",
        "\n",
        "      # 두번째 if: idx의 첫번쨰값 = 'target'? \n",
        "      if idx[0] == 'target':\n",
        "        print(order)\n",
        "        break \n",
        "      else: \n",
        "        imp.pop(0)\n",
        "        idx.pop(0)\n",
        "\n",
        "    else: \n",
        "      imp.append(imp.pop(0))\n",
        "      idx.append(idx.pop(0))\n",
        "\n"
      ],
      "execution_count": null,
      "outputs": []
    },
    {
      "cell_type": "code",
      "metadata": {
        "id": "blNtTIq_U2AB"
      },
      "source": [
        "#solution2 "
      ],
      "execution_count": null,
      "outputs": []
    },
    {
      "cell_type": "code",
      "metadata": {
        "id": "PqbNxwCOVQJA"
      },
      "source": [
        "#solution 3 \n",
        "# 라이브러리 사용 \n",
        "\n",
        "from collections import deque \n",
        "from sys import stdin \n",
        "\n",
        "num = int(stdin.readline()) # 테스트케이스 수 \n",
        "\n",
        "for _ in range(num): # 테스트케이스만큼 반복 \n",
        "  N, M = map(int, stdin.readline().split()) #N,M \n",
        "  que = deque(map(int, stdin.readline().split())) #중요도큐 \n",
        "\n",
        "  cnt = 0 # 카운트 변수 초기화 \n",
        "\n",
        "  while que: \n",
        "    top = max(que) # top = 큐에서 가장 큰 수  \n",
        "    M -= 1 \n",
        "    pop = que.popleft() # 왼쪽에서 하나씩 빼주자 \n",
        "    if top != pop: # max가 아니면  \n",
        "      que.append(pop) # 뒤로 붙여주세요 \n",
        "      if M<0: \n",
        "        M = len(que) -1 \n",
        "    \n",
        "    else: \n",
        "      cnt += 1\n",
        "      if M == =1: # 가장 큰수가 가장 마지막에 위치할때 \n",
        "        print(cnt) # cnt 세주기 \n",
        "        break "
      ],
      "execution_count": null,
      "outputs": []
    }
  ]
}