{
  "nbformat": 4,
  "nbformat_minor": 0,
  "metadata": {
    "colab": {
      "name": "DataStructure.ipynb",
      "provenance": [],
      "toc_visible": true,
      "authorship_tag": "ABX9TyPgyFYB2ERHzk6G9JIeGA7z",
      "include_colab_link": true
    },
    "kernelspec": {
      "name": "python3",
      "display_name": "Python 3"
    },
    "language_info": {
      "name": "python"
    }
  },
  "cells": [
    {
      "cell_type": "markdown",
      "metadata": {
        "id": "view-in-github",
        "colab_type": "text"
      },
      "source": [
        "<a href=\"https://colab.research.google.com/github/hyelim-kim1028/Algorithm_Study/blob/main/DataStructure.ipynb\" target=\"_parent\"><img src=\"https://colab.research.google.com/assets/colab-badge.svg\" alt=\"Open In Colab\"/></a>"
      ]
    },
    {
      "cell_type": "markdown",
      "metadata": {
        "id": "zy5JMre2o8vO"
      },
      "source": [
        "# Stack\n",
        "\n",
        "/#Baekjoon #Stack #10828번 스택 \n",
        "\n",
        "문제: \n",
        "정수를 저장하는 스택을 구현한 다음, 입력으로 주어지는 명령을 처리하는 프로그램을 작성하시오.\n",
        "\n",
        "명령은 총 다섯 가지이다.\n",
        "\n",
        "push X: 정수 X를 스택에 넣는 연산이다.\n",
        "pop: 스택에서 가장 위에 있는 정수를 빼고, 그 수를 출력한다. 만약 스택에 들어있는 정수가 없는 경우에는 -1을 출력한다.\n",
        "size: 스택에 들어있는 정수의 개수를 출력한다.\n",
        "empty: 스택이 비어있으면 1, 아니면 0을 출력한다.\n",
        "top: 스택의 가장 위에 있는 정수를 출력한다. 만약 스택에 들어있는 정수가 없는 경우에는 -1을 출력한다.\n",
        "\n",
        "\n",
        "입력: \n",
        "첫째 줄에 주어지는 명령의 수 N (1 ≤ N ≤ 10,000)이 주어진다. 둘째 줄부터 N개의 줄에는 명령이 하나씩 주어진다. 주어지는 정수는 1보다 크거나 같고, 100,000보다 작거나 같다. 문제에 나와있지 않은 명령이 주어지는 경우는 없다.\n",
        "\n",
        "출력:\n",
        "출력해야하는 명령이 주어질 때마다, 한 줄에 하나씩 출력한다.\n",
        "\n"
      ]
    },
    {
      "cell_type": "code",
      "metadata": {
        "id": "_nHTXM5co32R"
      },
      "source": [
        "import sys \n",
        "\n",
        "N = int(sys.stdin.readline()) # N = 명령의 수 \n",
        "\n",
        "stack = []\n",
        "\n",
        "for _ in range(N):\n",
        "  word = sys.stdin.readline().split() # list로 order이 들어오면 나눠줌 \n",
        "  order = word[0] # push 1 으로 들어오면 push 만 order\n",
        "\n",
        "  #order의 값에 따라 역할을 수행하기 \n",
        "\n",
        "  if order == \"push\":\n",
        "    value = word[1] # push 1에서 #1 \n",
        "    stack.append(value) #넣기 \n",
        "\n",
        "  elif order == \"pop\":\n",
        "    if len(stack) == 0: #비어있으면 -1 출력 \n",
        "      print(-1)\n",
        "    else: \n",
        "      print(stack.pop()) #빼주기 \n",
        "  \n",
        "  elif order==\"size\":  \n",
        "    print(len(stack))\n",
        "  \n",
        "  elif order == \"empty\":\n",
        "    if len(stack) == 0: # 비어있으면 0 \n",
        "      print(1) # 아니면 1 \n",
        "    else: \n",
        "      print(0)\n",
        "\n",
        "  elif order==\"top\": \n",
        "    if len(stack) ==0:#정수 없으면 #-1 \n",
        "      print(-1)\n",
        "    else: \n",
        "      print(stack[-1])"
      ],
      "execution_count": null,
      "outputs": []
    }
  ]
}