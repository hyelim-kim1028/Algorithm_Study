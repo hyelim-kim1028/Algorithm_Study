{
  "nbformat": 4,
  "nbformat_minor": 0,
  "metadata": {
    "colab": {
      "name": "class2.ipynb",
      "provenance": [],
      "authorship_tag": "ABX9TyMsDWPsmrstmBvdxJkvZi8T",
      "include_colab_link": true
    },
    "kernelspec": {
      "name": "python3",
      "display_name": "Python 3"
    },
    "language_info": {
      "name": "python"
    }
  },
  "cells": [
    {
      "cell_type": "markdown",
      "metadata": {
        "id": "view-in-github",
        "colab_type": "text"
      },
      "source": [
        "<a href=\"https://colab.research.google.com/github/hyelim-kim1028/Algorithm_Study/blob/main/class2.ipynb\" target=\"_parent\"><img src=\"https://colab.research.google.com/assets/colab-badge.svg\" alt=\"Open In Colab\"/></a>"
      ]
    },
    {
      "cell_type": "markdown",
      "metadata": {
        "id": "P97Uud91dCvs"
      },
      "source": [
        "# 직사각형에서 탈출 \n",
        "\n",
        "문제\n",
        "\n",
        "한수는 지금 (x, y)에 있다. 직사각형은 각 변이 좌표축에 평행하고, 왼쪽 아래 꼭짓점은 (0, 0), 오른쪽 위 꼭짓점은 (w, h)에 있다. 직사각형의 경계선까지 가는 거리의 최솟값을 구하는 프로그램을 작성하시오.\n",
        "\n",
        "입력\n",
        "\n",
        "첫째 줄에 x, y, w, h가 주어진다.\n",
        "\n",
        "출력\n",
        "\n",
        "첫째 줄에 문제의 정답을 출력한다.\n",
        "\n",
        "제한\n",
        "\n",
        "1 ≤ w, h ≤ 1,000\n",
        "1 ≤ x ≤ w-1\n",
        "1 ≤ y ≤ h-1\n",
        "x, y, w, h는 정수\n"
      ]
    },
    {
      "cell_type": "code",
      "metadata": {
        "colab": {
          "base_uri": "https://localhost:8080/"
        },
        "id": "1lTcdxk6c5DM",
        "outputId": "98b057d1-aea7-46e5-d496-f03883b4d9bf"
      },
      "source": [
        "# 직사각형에서 탈출 \n",
        "x, y, w, h = map(int, input().split()) \n",
        "# int(input().split()) # error # not iterrable \n",
        "# use map()\n",
        "\n",
        "# x = int(x)\n",
        "# y = int(y)\n",
        "# w = int(w)\n",
        "# h = int(h)\n",
        "\n",
        "# print(x, y, w, h)\n",
        "\n",
        "# distance \n",
        "# up = h-y \n",
        "# down = y \n",
        "# right = w - x \n",
        "# left = x \n",
        "\n",
        "# mini = min(up, down, left, right)\n",
        "mini = min(x, y, h-y, w-x)\n",
        "print(mini)\n",
        "\n",
        "# final code \n",
        "x, y, w, h = map(int, input().split())\n",
        "mini = min(x,y,h-y,w-x)\n",
        "print(mini)"
      ],
      "execution_count": 10,
      "outputs": [
        {
          "output_type": "stream",
          "text": [
            "6 2 10 3\n",
            "1\n"
          ],
          "name": "stdout"
        }
      ]
    }
  ]
}