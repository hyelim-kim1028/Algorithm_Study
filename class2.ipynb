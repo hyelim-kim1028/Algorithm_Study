{
  "nbformat": 4,
  "nbformat_minor": 0,
  "metadata": {
    "colab": {
      "name": "class2.ipynb",
      "provenance": [],
      "authorship_tag": "ABX9TyPXog2X2et1AyzVOb8bbbUZ",
      "include_colab_link": true
    },
    "kernelspec": {
      "name": "python3",
      "display_name": "Python 3"
    },
    "language_info": {
      "name": "python"
    }
  },
  "cells": [
    {
      "cell_type": "markdown",
      "metadata": {
        "id": "view-in-github",
        "colab_type": "text"
      },
      "source": [
        "<a href=\"https://colab.research.google.com/github/hyelim-kim1028/Algorithm_Study/blob/main/class2.ipynb\" target=\"_parent\"><img src=\"https://colab.research.google.com/assets/colab-badge.svg\" alt=\"Open In Colab\"/></a>"
      ]
    },
    {
      "cell_type": "markdown",
      "metadata": {
        "id": "P97Uud91dCvs"
      },
      "source": [
        "# 직사각형에서 탈출 \n",
        "\n",
        "문제\n",
        "\n",
        "한수는 지금 (x, y)에 있다. 직사각형은 각 변이 좌표축에 평행하고, 왼쪽 아래 꼭짓점은 (0, 0), 오른쪽 위 꼭짓점은 (w, h)에 있다. 직사각형의 경계선까지 가는 거리의 최솟값을 구하는 프로그램을 작성하시오.\n",
        "\n",
        "입력\n",
        "\n",
        "첫째 줄에 x, y, w, h가 주어진다.\n",
        "\n",
        "출력\n",
        "\n",
        "첫째 줄에 문제의 정답을 출력한다.\n",
        "\n",
        "제한\n",
        "\n",
        "1 ≤ w, h ≤ 1,000\n",
        "1 ≤ x ≤ w-1\n",
        "1 ≤ y ≤ h-1\n",
        "x, y, w, h는 정수\n"
      ]
    },
    {
      "cell_type": "code",
      "metadata": {
        "colab": {
          "base_uri": "https://localhost:8080/"
        },
        "id": "1lTcdxk6c5DM",
        "outputId": "98b057d1-aea7-46e5-d496-f03883b4d9bf"
      },
      "source": [
        "# 직사각형에서 탈출 \n",
        "x, y, w, h = map(int, input().split()) \n",
        "# int(input().split()) # error # not iterrable \n",
        "# use map()\n",
        "\n",
        "# x = int(x)\n",
        "# y = int(y)\n",
        "# w = int(w)\n",
        "# h = int(h)\n",
        "\n",
        "# print(x, y, w, h)\n",
        "\n",
        "# distance \n",
        "# up = h-y \n",
        "# down = y \n",
        "# right = w - x \n",
        "# left = x \n",
        "\n",
        "# mini = min(up, down, left, right)\n",
        "mini = min(x, y, h-y, w-x)\n",
        "print(mini)\n",
        "\n",
        "# final code \n",
        "x, y, w, h = map(int, input().split())\n",
        "mini = min(x,y,h-y,w-x)\n",
        "print(mini)"
      ],
      "execution_count": 10,
      "outputs": [
        {
          "output_type": "stream",
          "text": [
            "6 2 10 3\n",
            "1\n"
          ],
          "name": "stdout"
        }
      ]
    },
    {
      "cell_type": "markdown",
      "metadata": {
        "id": "USE17whigqYV"
      },
      "source": [
        "# 직각삼각형 \n",
        "\n",
        "문제\n",
        "\n",
        "과거 이집트인들은 각 변들의 길이가 3, 4, 5인 삼각형이 직각 삼각형인것을 알아냈다. 주어진 세변의 길이로 삼각형이 직각인지 아닌지 구분하시오.\n",
        "\n",
        "입력\n",
        "\n",
        "입력은 여러개의 테스트케이스로 주어지며 마지막줄에는 0 0 0이 입력된다. 각 테스트케이스는 모두 30,000보다 작은 양의 정수로 주어지며, 각 입력은 변의 길이를 의미한다.\n",
        "\n",
        "출력\n",
        "\n",
        "각 입력에 대해 직각 삼각형이 맞다면 \"right\", 아니라면 \"wrong\"을 출력한다."
      ]
    },
    {
      "cell_type": "code",
      "metadata": {
        "colab": {
          "base_uri": "https://localhost:8080/"
        },
        "id": "98RHTbyTg9LM",
        "outputId": "809d000b-238c-4d8c-9212-617298f82fb8"
      },
      "source": [
        "while True: # 테스트 케이스를 모르기 때문에 while 문 사용 \n",
        "  a, b, c = map(int, input().split())\n",
        "\n",
        "  if a == 0 and b ==0 and c == 0: \n",
        "    break \n",
        "  \n",
        "  if (a**2 + b**2 == c**2) or (a**2 + c**2 == b**2) or (b**2 + c** 2 == a** 2):\n",
        "    print(\"right\")\n",
        "  else:\n",
        "    print(\"wrong\") "
      ],
      "execution_count": 16,
      "outputs": [
        {
          "output_type": "stream",
          "text": [
            "6 8 10\n",
            "right\n",
            "25 52 60\n",
            "wrong\n",
            "5 12 13\n",
            "right\n",
            "0 0 0\n"
          ],
          "name": "stdout"
        }
      ]
    },
    {
      "cell_type": "markdown",
      "metadata": {
        "id": "S8aKmh0ejJPr"
      },
      "source": [
        "# ACM 호텔\n",
        "\n",
        "문제\n",
        "\n",
        "ACM 호텔 매니저 지우는 손님이 도착하는 대로 빈 방을 배정하고 있다. 고객 설문조사에 따르면 손님들은 호텔 정문으로부터 걸어서 가장 짧은 거리에 있는 방을 선호한다고 한다. 여러분은 지우를 도와 줄 프로그램을 작성하고자 한다. 즉 설문조사 결과 대로 호텔 정문으로부터 걷는 거리가 가장 짧도록 방을 배정하는 프로그램을 작성하고자 한다.\n",
        "\n",
        "문제를 단순화하기 위해서 호텔은 직사각형 모양이라고 가정하자. 각 층에 W 개의 방이 있는 H 층 건물이라고 가정하자 (1 ≤ H, W ≤ 99). 그리고 엘리베이터는 가장 왼쪽에 있다고 가정하자(그림 1 참고). 이런 형태의 호텔을 H × W 형태 호텔이라고 부른다. 호텔 정문은 일층 엘리베이터 바로 앞에 있는데, 정문에서 엘리베이터까지의 거리는 무시한다. 또 모든 인접한 두 방 사이의 거리는 같은 거리(거리 1)라고 가정하고 호텔의 정면 쪽에만 방이 있다고 가정한다.\n",
        "\n",
        "\n",
        "\n",
        "그림 1. H = 6 이고 W = 12 인 H × W 호텔을 간략하게 나타낸 그림\n",
        "\n",
        "방 번호는 YXX 나 YYXX 형태인데 여기서 Y 나 YY 는 층 수를 나타내고 XX 는 엘리베이터에서부터 세었을 때의 번호를 나타낸다. 즉, 그림 1 에서 빗금으로 표시한 방은 305 호가 된다.\n",
        "\n",
        "손님은 엘리베이터를 타고 이동하는 거리는 신경 쓰지 않는다. 다만 걷는 거리가 같을 때에는 아래층의 방을 더 선호한다. 예를 들면 102 호 방보다는 301 호 방을 더 선호하는데, 102 호는 거리 2 만큼 걸어야 하지만 301 호는 거리 1 만큼만 걸으면 되기 때문이다. 같은 이유로 102 호보다 2101 호를 더 선호한다.\n",
        "\n",
        "여러분이 작성할 프로그램은 초기에 모든 방이 비어있다고 가정하에 이 정책에 따라 N 번째로 도착한 손님에게 배정될 방 번호를 계산하는 프로그램이다. 첫 번째 손님은 101 호, 두 번째 손님은 201 호 등과 같이 배정한다. 그림 1 의 경우를 예로 들면, H = 6이므로 10 번째 손님은 402 호에 배정해야 한다.\n",
        "\n",
        "입력\n",
        "\n",
        "프로그램은 표준 입력에서 입력 데이터를 받는다. 프로그램의 입력은 T 개의 테스트 데이터로 이루어져 있는데 T 는 입력의 맨 첫 줄에 주어진다. 각 테스트 데이터는 한 행으로서 H, W, N, 세 정수를 포함하고 있으며 각각 호텔의 층 수, 각 층의 방 수, 몇 번째 손님인지를 나타낸다(1 ≤ H, W ≤ 99, 1 ≤ N ≤ H × W). \n",
        "\n",
        "출력\n",
        "\n",
        "프로그램은 표준 출력에 출력한다. 각 테스트 데이터마다 정확히 한 행을 출력하는데, 내용은 N 번째 손님에게 배정되어야 하는 방 번호를 출력한다."
      ]
    },
    {
      "cell_type": "code",
      "metadata": {
        "colab": {
          "base_uri": "https://localhost:8080/"
        },
        "id": "3gigt91vja5l",
        "outputId": "209a1ece-6885-41a5-ba62-d6f5f93b6264"
      },
      "source": [
        "T = int(input())\n",
        "\n",
        "for i in range(T):\n",
        "\n",
        "  H, W, N = map(int, input().split())\n",
        "\n",
        "  num = N//H + 1 \n",
        "  floor = N%H \n",
        "  if N % H == 0:\n",
        "    num = N//H\n",
        "    floor = H\n",
        "\n",
        "  print(f'{floor * 100 + num}')  \n",
        "\n",
        "# print(str(floor) + str(num)) 식으로 풀어봐도 좋을 것 같다 "
      ],
      "execution_count": 18,
      "outputs": [
        {
          "output_type": "stream",
          "text": [
            "2\n",
            "6 12 10\n",
            "402\n",
            "30 50 72\n",
            "1203\n"
          ],
          "name": "stdout"
        }
      ]
    },
    {
      "cell_type": "markdown",
      "metadata": {
        "id": "_4hr_2h3wzUu"
      },
      "source": [
        "# 분해합 \n",
        "문제\n",
        "\n",
        "어떤 자연수 N이 있을 때, 그 자연수 N의 분해합은 N과 N을 이루는 각 자리수의 합을 의미한다. 어떤 자연수 M의 분해합이 N인 경우, M을 N의 생성자라 한다. 예를 들어, 245의 분해합은 256(=245+2+4+5)이 된다. 따라서 245는 256의 생성자가 된다. 물론, 어떤 자연수의 경우에는 생성자가 없을 수도 있다. 반대로, 생성자가 여러 개인 자연수도 있을 수 있다.\n",
        "\n",
        "자연수 N이 주어졌을 때, N의 가장 작은 생성자를 구해내는 프로그램을 작성하시오.\n",
        "\n",
        "입력\n",
        "\n",
        "첫째 줄에 자연수 N(1 ≤ N ≤ 1,000,000)이 주어진다.\n",
        "\n",
        "출력\n",
        "\n",
        "첫째 줄에 답을 출력한다. 생성자가 없는 경우에는 0을 출력한다."
      ]
    },
    {
      "cell_type": "code",
      "metadata": {
        "id": "nFQTW-WewuYh"
      },
      "source": [
        "# 처음생각 N을 srting으로 받아서 숫자를 쪼개고 \n",
        "# 다시 int로 변환해서 더해주기 \n",
        "# N = str(input())\n",
        "# parts = []\n",
        "# for i in N: \n",
        "#   parts.append(N[i])\n",
        "\n",
        "# solution 1 \n",
        "# N = int(input())\n",
        "# result = 0 \n",
        "# for i in range(1, N + 1):\n",
        "#   A = list(map(int,str(i)))\n",
        "#   print(f'A: {A}')\n",
        "#   result = i + sum(A)\n",
        "#   print(f'result: {result}')\n",
        "\n",
        "#   if result == N: \n",
        "#     print(i)\n",
        "#     break \n",
        "  \n",
        "#   if i == N: \n",
        "#     print(0)\n",
        "\n",
        "# solution 2 \n",
        "n = int(input())\n",
        "\n",
        "for i in range(n):\n",
        "  a = sum(map(int, str(i)))\n",
        "  print(f'a = {a}')\n",
        "  if i + a == n: \n",
        "    print(f'i = {i}')\n",
        "    break \n",
        "  else: \n",
        "    print(0)"
      ],
      "execution_count": null,
      "outputs": []
    }
  ]
}