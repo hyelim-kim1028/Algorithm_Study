{
  "nbformat": 4,
  "nbformat_minor": 0,
  "metadata": {
    "colab": {
      "name": "Basics.ipynb",
      "provenance": [],
      "collapsed_sections": [],
      "authorship_tag": "ABX9TyMa72HFeOz2iVud2s6UkrI2",
      "include_colab_link": true
    },
    "kernelspec": {
      "name": "python3",
      "display_name": "Python 3"
    },
    "language_info": {
      "name": "python"
    }
  },
  "cells": [
    {
      "cell_type": "markdown",
      "metadata": {
        "id": "view-in-github",
        "colab_type": "text"
      },
      "source": [
        "<a href=\"https://colab.research.google.com/github/hyelim-kim1028/Algorithm_Study/blob/main/Basics.ipynb\" target=\"_parent\"><img src=\"https://colab.research.google.com/assets/colab-badge.svg\" alt=\"Open In Colab\"/></a>"
      ]
    },
    {
      "cell_type": "markdown",
      "metadata": {
        "id": "WAK8PKmo9vtr"
      },
      "source": [
        "/#Baekjun #If문 #두 수 비교하기 "
      ]
    },
    {
      "cell_type": "code",
      "metadata": {
        "id": "zDoeTmTZ9tOp"
      },
      "source": [
        "# A, B = list(map(int, input().int()))\n",
        "A,B = map(int, input().split())\n",
        "\n",
        "if A>B: \n",
        "  print('>')\n",
        "\n",
        "elif A<B: \n",
        "    print('<')\n",
        "\n",
        "elif A==B:\n",
        "    print('==') "
      ],
      "execution_count": null,
      "outputs": []
    },
    {
      "cell_type": "markdown",
      "metadata": {
        "id": "MaXqbDRU-tNr"
      },
      "source": [
        "/#Baejhyb #if문 #시험성적 "
      ]
    },
    {
      "cell_type": "code",
      "metadata": {
        "id": "ltTuEwrA-yHS"
      },
      "source": [
        "grade = int(input())\n",
        "\n",
        "# if grade == 90~100: \n",
        "#   print('A')\n",
        "# elif grade == 80~89:\n",
        "#   print('B')\n",
        "# elif grade == 70~79:\n",
        "#   print('C')\n",
        "# elif grade 60~69:\n",
        "#   print('D')\n",
        "# else:\n",
        "#   print('F')\n",
        "\n",
        "if grade >= 90: \n",
        "  print('A')\n",
        "elif grade >= 80:\n",
        "  print('B')\n",
        "elif grade >= 70:\n",
        "  print('C')\n",
        "elif grade >= 60:\n",
        "  print('D')\n",
        "else:\n",
        "  print('F')"
      ],
      "execution_count": null,
      "outputs": []
    },
    {
      "cell_type": "markdown",
      "metadata": {
        "id": "wmfj3w0o9SxW"
      },
      "source": [
        "/#Baekjun #if문 #윤년 "
      ]
    },
    {
      "cell_type": "code",
      "metadata": {
        "colab": {
          "base_uri": "https://localhost:8080/"
        },
        "id": "ynZdXtcV9XFV",
        "outputId": "931e4782-0f64-46a8-c439-e48ccafd658d"
      },
      "source": [
        "year = int(input())\n",
        "\n",
        "#my thought \n",
        "# lea_year == true if year*4:\n",
        "# elif leap_year ==False year*100: \n",
        "#   leap_year==True year*400  \n",
        "\n",
        "# solution \n",
        "if(year%4==0 and year%100 != 0 ) or year%400 ==0:\n",
        "  print(1)\n",
        "else: \n",
        "  print(0)"
      ],
      "execution_count": null,
      "outputs": [
        {
          "output_type": "stream",
          "text": [
            "1\n",
            "0\n"
          ],
          "name": "stdout"
        }
      ]
    },
    {
      "cell_type": "markdown",
      "metadata": {
        "id": "vxO1Mn-t_pMe"
      },
      "source": [
        "/#Baekjun #if문 #사분면고르기 "
      ]
    },
    {
      "cell_type": "code",
      "metadata": {
        "colab": {
          "base_uri": "https://localhost:8080/"
        },
        "id": "TmY3RnDEAC0X",
        "outputId": "afd31f52-937d-4c4d-ebc5-a8efbac33bac"
      },
      "source": [
        "# x,y = map(int, input().split())\n",
        "\n",
        "# solution1 : 틀렸습니다 \n",
        "\n",
        "x = int(input())\n",
        "y = int(input())\n",
        "\n",
        "if x>0 and y>0: \n",
        "  print(\"Quadrant 1\")\n",
        "elif (x>0 and y<0):\n",
        "    print(\"Quadrant 4\")\n",
        "elif (x<0 and y>0):\n",
        "    print(\"Quadrant 2\")\n",
        "elif x<0 and y<0:\n",
        "    print(\"Quadrant 3\")\n",
        "# else: \n",
        "#     print(0)\n",
        "\n",
        "# print(\"3421\"[(int(input())>0)+(int(input())>0)*2])\n",
        "\n",
        "\n",
        "x = int(input())\n",
        "y = int(input())\n",
        "\n",
        "if x>0 and y>0: \n",
        "  print(\"1\")\n",
        "elif (x<0 and y>0):\n",
        "    print(\"2\")\n",
        "elif x<0 and y<0:\n",
        "    print(\"3\")\n",
        "else: \n",
        "  print(\"4\")"
      ],
      "execution_count": null,
      "outputs": [
        {
          "output_type": "stream",
          "text": [
            "5\n",
            "-3\n",
            "Quadrant 4\n"
          ],
          "name": "stdout"
        }
      ]
    },
    {
      "cell_type": "markdown",
      "metadata": {
        "id": "p3b5PDuRnhqG"
      },
      "source": [
        "/#Baekjun #IF #알람시계 \n",
        "\n",
        "문제:\n",
        "상근이는 매일 아침 알람을 듣고 일어난다. 알람을 듣고 바로 일어나면 다행이겠지만, 항상 조금만 더 자려는 마음 때문에 매일 학교를 지각하고 있다.\n",
        "\n",
        "상근이는 모든 방법을 동원해보았지만, 조금만 더 자려는 마음은 그 어떤 것도 없앨 수가 없었다.\n",
        "\n",
        "이런 상근이를 불쌍하게 보던, 창영이는 자신이 사용하는 방법을 추천해 주었다.\n",
        "\n",
        "바로 \"45분 일찍 알람 설정하기\"이다.\n",
        "\n",
        "이 방법은 단순하다. 원래 설정되어 있는 알람을 45분 앞서는 시간으로 바꾸는 것이다. 어차피 알람 소리를 들으면, 알람을 끄고 조금 더 잘 것이기 때문이다. 이 방법을 사용하면, 매일 아침 더 잤다는 기분을 느낄 수 있고, 학교도 지각하지 않게 된다.\n",
        "\n",
        "현재 상근이가 설정한 알람 시각이 주어졌을 때, 창영이의 방법을 사용한다면, 이를 언제로 고쳐야 하는지 구하는 프로그램을 작성하시오.\n",
        "\n",
        "입력:\n",
        "첫째 줄에 두 정수 H와 M이 주어진다. (0 ≤ H ≤ 23, 0 ≤ M ≤ 59) 그리고 이것은 현재 상근이가 설정한 놓은 알람 시간 H시 M분을 의미한다.\n",
        "\n",
        "입력 시간은 24시간 표현을 사용한다. 24시간 표현에서 하루의 시작은 0:0(자정)이고, 끝은 23:59(다음날 자정 1분 전)이다. 시간을 나타낼 때, 불필요한 0은 사용하지 않는다.\n",
        "\n",
        "출력:\n",
        "첫째 줄에 상근이가 창영이의 방법을 사용할 때, 설정해야 하는 알람 시간을 출력한다. (입력과 같은 형태로 출력하면 된다.)"
      ]
    },
    {
      "cell_type": "code",
      "metadata": {
        "id": "CPqbK5n2nxya"
      },
      "source": [
        "# pseudo code \n",
        "# if H and M:\n",
        "#   print(H+\":+\"(M-45)) \n",
        "# elif H == 0 and M == 0:\n",
        "#   print(beginning)\n",
        "# elif H==23 and M == 59:\n",
        "#   print(end)\n",
        "\n",
        "# solution 1 \n",
        "H, M = map(int, input().split()) \n",
        "if M>44: \n",
        "  print(H, M-45)\n",
        "elif M < 45 and H > 0: \n",
        "  print(H-1, M+15)\n",
        "else: \n",
        "  print(23, M+15)"
      ],
      "execution_count": null,
      "outputs": []
    },
    {
      "cell_type": "markdown",
      "metadata": {
        "id": "i0TLV0xKqCeJ"
      },
      "source": [
        "/#Baekjun #for문 #구구단 \n",
        "\n"
      ]
    },
    {
      "cell_type": "code",
      "metadata": {
        "colab": {
          "base_uri": "https://localhost:8080/"
        },
        "id": "VxBz-My1qOuA",
        "outputId": "1070fd7c-cf66-46fa-fe2b-2f7defd04ca4"
      },
      "source": [
        "N = int(input())\n",
        "\n",
        "for i in range(1,10):\n",
        "  print(N,\"*\", i, \"=\", N * i)\n"
      ],
      "execution_count": null,
      "outputs": [
        {
          "output_type": "stream",
          "text": [
            "2\n",
            "2 * 1 = 2\n",
            "2 * 2 = 4\n",
            "2 * 3 = 6\n",
            "2 * 4 = 8\n",
            "2 * 5 = 10\n",
            "2 * 6 = 12\n",
            "2 * 7 = 14\n",
            "2 * 8 = 16\n",
            "2 * 9 = 18\n"
          ],
          "name": "stdout"
        }
      ]
    },
    {
      "cell_type": "markdown",
      "metadata": {
        "id": "LsyYNp6rtDNo"
      },
      "source": [
        "\n",
        "\n",
        "문제\n",
        "두 정수 A와 B를 입력받은 다음, A+B를 출력하는 프로그램을 작성하시오.\n",
        "\n",
        "입력\n",
        "첫째 줄에 테스트 케이스의 개수 T가 주어진다.\n",
        "\n",
        "각 테스트 케이스는 한 줄로 이루어져 있으며, 각 줄에 A와 B가 주어진다. (0 < A, B < 10)\n",
        "\n",
        "출력\n",
        "각 테스트 케이스마다 A+B를 출력한다."
      ]
    },
    {
      "cell_type": "code",
      "metadata": {
        "id": "vE_hWmojtCfP"
      },
      "source": [
        "# import sys \n",
        "\n",
        "T = int(input())\n",
        "\n",
        "for i in range(T):\n",
        "  A, B = map(int, input().split())\n",
        "  print(A+B)\n"
      ],
      "execution_count": null,
      "outputs": []
    },
    {
      "cell_type": "markdown",
      "metadata": {
        "id": "vugpl6dOvly8"
      },
      "source": [
        "/#Baekjun #for # 합 \n",
        "\n",
        "\n",
        "문제\n",
        "n이 주어졌을 때, 1부터 n까지 합을 구하는 프로그램을 작성하시오.\n",
        "\n",
        "입력\n",
        "첫째 줄에 n (1 ≤ n ≤ 10,000)이 주어진다.\n",
        "\n",
        "출력\n",
        "1부터 n까지 합을 출력한다."
      ]
    },
    {
      "cell_type": "code",
      "metadata": {
        "colab": {
          "base_uri": "https://localhost:8080/"
        },
        "id": "R-ejlzLyv3wK",
        "outputId": "089d308a-57b1-4acb-b60b-d262a01552df"
      },
      "source": [
        "# solution 1 \n",
        "# N = int(input())\n",
        "\n",
        "\n",
        "# for i in range(1, N+1):\n",
        "#     result = N + i\n",
        "#     i += 1\n",
        "#     print(result[:N])\n",
        "\n",
        "# 고민: 어떻게해야 마지막 숫자만 나오지?\n",
        "# 해결: 변수 설정 = 0, for문에서 나와서 print \n",
        "\n",
        "# solution 2\n",
        "N = int(input())\n",
        "\n",
        "result = 0 \n",
        "for i in range(1, N+1):\n",
        "  result += i \n",
        "print(result)"
      ],
      "execution_count": null,
      "outputs": [
        {
          "output_type": "stream",
          "text": [
            "3\n",
            "6\n"
          ],
          "name": "stdout"
        }
      ]
    },
    {
      "cell_type": "markdown",
      "metadata": {
        "id": "FH2ZOwavYHwy"
      },
      "source": [
        "/#Baekjun #for문 #빠른 A+B \n",
        "\n",
        "문제\n",
        "\n",
        "본격적으로 for문 문제를 풀기 전에 주의해야 할 점이 있다. 입출력 방식이 느리면 여러 줄을 입력받거나 출력할 때 시간초과가 날 수 있다는 점이다.\n",
        "\n",
        "C++을 사용하고 있고 cin/cout을 사용하고자 한다면, cin.tie(NULL)과 sync_with_stdio(false)를 둘 다 적용해 주고, endl 대신 개행문자(\\n)를 쓰자. 단, 이렇게 하면 더 이상 scanf/printf/puts/getchar/putchar 등 C의 입출력 방식을 사용하면 안 된다.\n",
        "\n",
        "Java를 사용하고 있다면, Scanner와 System.out.println 대신 BufferedReader와 BufferedWriter를 사용할 수 있다. BufferedWriter.flush는 맨 마지막에 한 번만 하면 된다.\n",
        "\n",
        "Python을 사용하고 있다면, input 대신 sys.stdin.readline을 사용할 수 있다. 단, 이때는 맨 끝의 개행문자까지 같이 입력받기 때문에 문자열을 저장하고 싶을 경우 .rstrip()을 추가로 해 주는 것이 좋다.\n",
        "\n",
        "또한 입력과 출력 스트림은 별개이므로, 테스트케이스를 전부 입력받아서 저장한 뒤 전부 출력할 필요는 없다. 테스트케이스를 하나 받은 뒤 하나 출력해도 된다.\n",
        "\n",
        "자세한 설명 및 다른 언어의 경우는 이 글에 설명되어 있다.\n",
        "\n",
        "이 블로그 글에서 BOJ의 기타 여러 가지 팁을 볼 수 있다.\n",
        "\n",
        "\n",
        "\n",
        "입력\n",
        "\n",
        "첫 줄에 테스트케이스의 개수 T가 주어진다. T는 최대 1,000,000이다. 다음 T줄에는 각각 두 정수 A와 B가 주어진다. A와 B는 1 이상, 1,000 이하이다.\n",
        "\n",
        "\n",
        "\n",
        "출력\n",
        "\n",
        "각 테스트케이스마다 A+B를 한 줄에 하나씩 순서대로 출력한다.\n"
      ]
    },
    {
      "cell_type": "code",
      "metadata": {
        "id": "OeDwprKyYeeR"
      },
      "source": [
        "import sys \n",
        "\n",
        "T = int(input())\n",
        "\n",
        "for i in range(T):\n",
        "  A, B = map(int, sys,stdin.readline().split())\n",
        "  print(A+B)"
      ],
      "execution_count": null,
      "outputs": []
    },
    {
      "cell_type": "markdown",
      "metadata": {
        "id": "QOsOD3KNrecB"
      },
      "source": [
        "/#Baekjoon #for문 #N찍기 \n",
        "\n",
        "문제\n",
        "\n",
        "자연수 N이 주어졌을 때, 1부터 N까지 한 줄에 하나씩 출력하는 프로그램을 작성하시오.\n",
        "\n",
        "입력\n",
        "\n",
        "첫째 줄에 100,000보다 작거나 같은 자연수 N이 주어진다.\n",
        "\n",
        "출력\n",
        "\n",
        "첫째 줄부터 N번째 줄 까지 차례대로 출력한다."
      ]
    },
    {
      "cell_type": "code",
      "metadata": {
        "colab": {
          "base_uri": "https://localhost:8080/"
        },
        "id": "Ym-Jnv4Vre9b",
        "outputId": "07a4a065-6a90-4be1-c5cf-44f176a80ec4"
      },
      "source": [
        "N = int(input())\n",
        "\n",
        "\n",
        "for i in range(N):\n",
        "  i += 1\n",
        "  print(i)"
      ],
      "execution_count": null,
      "outputs": [
        {
          "output_type": "stream",
          "text": [
            "5\n",
            "1\n",
            "2\n",
            "3\n",
            "4\n",
            "5\n"
          ],
          "name": "stdout"
        }
      ]
    },
    {
      "cell_type": "markdown",
      "metadata": {
        "id": "iAADyAUxsibK"
      },
      "source": [
        "/#Baekjoon #for문 #기찍 N \n",
        "\n",
        "문제\n",
        "\n",
        "자연수 N이 주어졌을 때, N부터 1까지 한 줄에 하나씩 출력하는 프로그램을 작성하시오.\n",
        "\n",
        "\n",
        "입력\n",
        "\n",
        "첫째 줄에 100,000보다 작거나 같은 자연수 N이 주어진다.\n",
        "\n",
        "\n",
        "출력\n",
        "\n",
        "첫째 줄부터 N번째 줄 까지 차례대로 출력한다."
      ]
    },
    {
      "cell_type": "code",
      "metadata": {
        "colab": {
          "base_uri": "https://localhost:8080/"
        },
        "id": "2U2foctzs4dX",
        "outputId": "1d1fbcec-b728-40cc-be5b-c24d4b500085"
      },
      "source": [
        "N = int(input())\n",
        "\n",
        "for i in range(N, 0, -1):\n",
        "  print(i)\n",
        "  # N에서 0까지 -1씩 감소 "
      ],
      "execution_count": null,
      "outputs": [
        {
          "output_type": "stream",
          "text": [
            "5\n",
            "5\n",
            "4\n",
            "3\n",
            "2\n",
            "1\n"
          ],
          "name": "stdout"
        }
      ]
    },
    {
      "cell_type": "markdown",
      "metadata": {
        "id": "DdHwPWLbs3NL"
      },
      "source": [
        "/#Baekjoon #for 문 # A + B - 7 \n",
        "\n",
        "문제\n",
        "\n",
        "두 정수 A와 B를 입력받은 다음, A+B를 출력하는 프로그램을 작성하시오.\n",
        "\n",
        "입력\n",
        "\n",
        "첫째 줄에 테스트 케이스의 개수 T가 주어진다.\n",
        "\n",
        "각 테스트 케이스는 한 줄로 이루어져 있으며, 각 줄에 A와 B가 주어진다. (0 < A, B < 10)\n",
        "\n",
        "출력\n",
        "\n",
        "각 테스트 케이스마다 \"Case #x: \"를 출력한 다음, A+B를 출력한다. 테스트 케이스 번호는 1부터 시작한다."
      ]
    },
    {
      "cell_type": "code",
      "metadata": {
        "colab": {
          "base_uri": "https://localhost:8080/"
        },
        "id": "gJC5yzdbv1n-",
        "outputId": "961bb6b1-87d1-42bf-c160-a3f3a09b1df7"
      },
      "source": [
        "T = int(input())\n",
        "\n",
        "for i in range(T):\n",
        "  A, B = map(int, input().split()) \n",
        "  sum = A + B \n",
        "  # print(\"Case #%s: %s\"%(i+1, sum ))\n",
        "  print(f'Case #{i+1}: {sum}')"
      ],
      "execution_count": null,
      "outputs": [
        {
          "output_type": "stream",
          "text": [
            "1\n",
            "1 2\n",
            "Case #1: 3\n"
          ],
          "name": "stdout"
        }
      ]
    },
    {
      "cell_type": "markdown",
      "metadata": {
        "id": "51tiiWttzlbC"
      },
      "source": [
        "문제\n",
        "\n",
        "두 정수 A와 B를 입력받은 다음, A+B를 출력하는 프로그램을 작성하시오.\n",
        "\n",
        "입력\n",
        "\n",
        "첫째 줄에 테스트 케이스의 개수 T가 주어진다.\n",
        "\n",
        "각 테스트 케이스는 한 줄로 이루어져 있으며, 각 줄에 A와 B가 주어진다. (0 < A, B < 10)\n",
        "\n",
        "출력\n",
        "\n",
        "각 테스트 케이스마다 \"Case #x: A + B = C\" 형식으로 출력한다. x는 테스트 케이스 번호이고 1부터 시작하며, C는 A+B이다."
      ]
    },
    {
      "cell_type": "code",
      "metadata": {
        "colab": {
          "base_uri": "https://localhost:8080/"
        },
        "id": "OIs79x8LyKz0",
        "outputId": "ab658914-7531-4daa-a28e-0e306ed82d48"
      },
      "source": [
        "x = int(input())\n",
        "\n",
        "for i in range(x):\n",
        "  A, B = map(int, input().split())\n",
        "  C = A + B \n",
        "  print(f'Case #{i+1}: {A} + {B} = {C}')"
      ],
      "execution_count": null,
      "outputs": [
        {
          "output_type": "stream",
          "text": [
            "1\n",
            "1 2\n",
            "Case #1: 1 + 2 = 3\n"
          ],
          "name": "stdout"
        }
      ]
    },
    {
      "cell_type": "markdown",
      "metadata": {
        "id": "GyiRBCRk03o-"
      },
      "source": [
        "/#Baekjoon #for문 #별찍기 \n",
        "\n",
        "문제\n",
        "\n",
        "첫째 줄에는 별 1개, 둘째 줄에는 별 2개, N번째 줄에는 별 N개를 찍는 문제\n",
        "\n",
        "입력\n",
        "\n",
        "첫째 줄에 N(1 ≤ N ≤ 100)이 주어진다.\n",
        "\n",
        "출력\n",
        "\n",
        "첫째 줄부터 N번째 줄까지 차례대로 별을 출력한다."
      ]
    },
    {
      "cell_type": "code",
      "metadata": {
        "colab": {
          "base_uri": "https://localhost:8080/"
        },
        "id": "8bWchnp704Go",
        "outputId": "8220bae2-3a19-430a-a648-c598a8d97ea3"
      },
      "source": [
        "N = int(input())\n",
        "\n",
        "for i in range(N):\n",
        "  star = '*' * (i+1)\n",
        "  print(star)"
      ],
      "execution_count": null,
      "outputs": [
        {
          "output_type": "stream",
          "text": [
            "3\n",
            "*\n",
            "**\n",
            "***\n"
          ],
          "name": "stdout"
        }
      ]
    },
    {
      "cell_type": "markdown",
      "metadata": {
        "id": "Mk7rttth4GdL"
      },
      "source": [
        "/#Baekjoon #for문 #별 찍기 -2 \n",
        "\n",
        "문제\n",
        "\n",
        "첫째 줄에는 별 1개, 둘째 줄에는 별 2개, N번째 줄에는 별 N개를 찍는 문제\n",
        "\n",
        "하지만, 오른쪽을 기준으로 정렬한 별(예제 참고)을 출력하시오.\n",
        "\n",
        "입력\n",
        "\n",
        "첫째 줄에 N(1 ≤ N ≤ 100)이 주어진다.\n",
        "\n",
        "출력\n",
        "\n",
        "첫째 줄부터 N번째 줄까지 차례대로 별을 출력한다."
      ]
    },
    {
      "cell_type": "code",
      "metadata": {
        "colab": {
          "base_uri": "https://localhost:8080/"
        },
        "id": "BkKrqBKO4GyT",
        "outputId": "6217379c-f103-40ca-843f-7b68d13b46b4"
      },
      "source": [
        "N = int(input())\n",
        "\n",
        "for i in range(1,N+1):\n",
        "  print(\" \"*(N-i) + \"*\"*i)\n"
      ],
      "execution_count": null,
      "outputs": [
        {
          "output_type": "stream",
          "text": [
            "3\n",
            "  *\n",
            " **\n",
            "***\n"
          ],
          "name": "stdout"
        }
      ]
    },
    {
      "cell_type": "markdown",
      "metadata": {
        "id": "PEbmBy348YS4"
      },
      "source": [
        "/#Baejoon #X보다 작은 수 \n",
        "\n",
        "문제\n",
        "\n",
        "정수 N개로 이루어진 수열 A와 정수 X가 주어진다. 이때, A에서 X보다 작은 수를 모두 출력하는 프로그램을 작성하시오.\n",
        "\n",
        "입력\n",
        "\n",
        "첫째 줄에 N과 X가 주어진다. (1 ≤ N, X ≤ 10,000)\n",
        "\n",
        "둘째 줄에 수열 A를 이루는 정수 N개가 주어진다. 주어지는 정수는 모두 1보다 크거나 같고, 10,000보다 작거나 같은 정수이다.\n",
        "\n",
        "출력\n",
        "\n",
        "X보다 작은 수를 입력받은 순서대로 공백으로 구분해 출력한다. X보다 작은 수는 적어도 하나 존재한다.\n",
        "\n",
        "10 5 > N, X \n",
        "1 10 4 9 2 3 8 5 7 6 > 정수 \n",
        "\n",
        "1 4 2 3"
      ]
    },
    {
      "cell_type": "code",
      "metadata": {
        "id": "88iF7ajX8fwy"
      },
      "source": [
        "import sys \n",
        "\n",
        "# 구분자가 띄어쓰기이기 때문에\n",
        "N, X = map(int, input().split())\n",
        "# data = list(map(int, sys.stdin.readline().split()))\n",
        "data = list(map(int, input().split()))\n",
        "\n",
        "\n",
        "for i in range(N): \n",
        "  if data[i] < X:\n",
        "    print(data[i], end = \" \")  \n",
        "\n"
      ],
      "execution_count": null,
      "outputs": []
    }
  ]
}