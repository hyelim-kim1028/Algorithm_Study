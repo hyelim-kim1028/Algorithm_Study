{
  "nbformat": 4,
  "nbformat_minor": 0,
  "metadata": {
    "colab": {
      "name": "Basics.ipynb",
      "provenance": [],
      "authorship_tag": "ABX9TyPmFwx8FFHVpNub+Z6rgbPF",
      "include_colab_link": true
    },
    "kernelspec": {
      "name": "python3",
      "display_name": "Python 3"
    },
    "language_info": {
      "name": "python"
    }
  },
  "cells": [
    {
      "cell_type": "markdown",
      "metadata": {
        "id": "view-in-github",
        "colab_type": "text"
      },
      "source": [
        "<a href=\"https://colab.research.google.com/github/hyelim-kim1028/Algorithm_Study/blob/main/Basics.ipynb\" target=\"_parent\"><img src=\"https://colab.research.google.com/assets/colab-badge.svg\" alt=\"Open In Colab\"/></a>"
      ]
    },
    {
      "cell_type": "markdown",
      "metadata": {
        "id": "WAK8PKmo9vtr"
      },
      "source": [
        "/#Baekjun #If문 #두 수 비교하기 "
      ]
    },
    {
      "cell_type": "code",
      "metadata": {
        "id": "zDoeTmTZ9tOp"
      },
      "source": [
        "# A, B = list(map(int, input().int()))\n",
        "A,B = map(int, input().split())\n",
        "\n",
        "if A>B: \n",
        "  print('>')\n",
        "\n",
        "elif A<B: \n",
        "    print('<')\n",
        "\n",
        "elif A==B:\n",
        "    print('==') "
      ],
      "execution_count": null,
      "outputs": []
    },
    {
      "cell_type": "markdown",
      "metadata": {
        "id": "MaXqbDRU-tNr"
      },
      "source": [
        "/#Baejhyb #if문 #시험성적 "
      ]
    },
    {
      "cell_type": "code",
      "metadata": {
        "id": "ltTuEwrA-yHS"
      },
      "source": [
        "grade = int(input())\n",
        "\n",
        "# if grade == 90~100: \n",
        "#   print('A')\n",
        "# elif grade == 80~89:\n",
        "#   print('B')\n",
        "# elif grade == 70~79:\n",
        "#   print('C')\n",
        "# elif grade 60~69:\n",
        "#   print('D')\n",
        "# else:\n",
        "#   print('F')\n",
        "\n",
        "if grade >= 90: \n",
        "  print('A')\n",
        "elif grade >= 80:\n",
        "  print('B')\n",
        "elif grade >= 70:\n",
        "  print('C')\n",
        "elif grade >= 60:\n",
        "  print('D')\n",
        "else:\n",
        "  print('F')"
      ],
      "execution_count": null,
      "outputs": []
    },
    {
      "cell_type": "markdown",
      "metadata": {
        "id": "wmfj3w0o9SxW"
      },
      "source": [
        "/#Baekjun #if문 #윤년 "
      ]
    },
    {
      "cell_type": "code",
      "metadata": {
        "colab": {
          "base_uri": "https://localhost:8080/"
        },
        "id": "ynZdXtcV9XFV",
        "outputId": "931e4782-0f64-46a8-c439-e48ccafd658d"
      },
      "source": [
        "year = int(input())\n",
        "\n",
        "#my thought \n",
        "# lea_year == true if year*4:\n",
        "# elif leap_year ==False year*100: \n",
        "#   leap_year==True year*400  \n",
        "\n",
        "# solution \n",
        "if(year%4==0 and year%100 != 0 ) or year%400 ==0:\n",
        "  print(1)\n",
        "else: \n",
        "  print(0)"
      ],
      "execution_count": 5,
      "outputs": [
        {
          "output_type": "stream",
          "text": [
            "1\n",
            "0\n"
          ],
          "name": "stdout"
        }
      ]
    },
    {
      "cell_type": "markdown",
      "metadata": {
        "id": "vxO1Mn-t_pMe"
      },
      "source": [
        "/#Baekjun #if문 #사분면고르기 "
      ]
    },
    {
      "cell_type": "code",
      "metadata": {
        "colab": {
          "base_uri": "https://localhost:8080/",
          "height": 130
        },
        "id": "TmY3RnDEAC0X",
        "outputId": "e72d81f9-a618-45f1-ebc4-f846bf69a3b0"
      },
      "source": [
        "x,y = map(int, input().split())\n",
        "\n",
        "if both(x,y) >0: \n",
        "  print(\"Quadrant 1\")\n",
        "  elif (x>0 and y<0):\n",
        "    print(\"Quadrant 4\")\n",
        "  elif (x<0 and y>0):\n",
        "    print(\"Quadrant 2\")\n",
        "  elif both(x,y) <0:\n",
        "    print(\"Quadrant 3\")\n",
        "  else: \n",
        "    print(0)"
      ],
      "execution_count": 7,
      "outputs": [
        {
          "output_type": "error",
          "ename": "SyntaxError",
          "evalue": "ignored",
          "traceback": [
            "\u001b[0;36m  File \u001b[0;32m\"<ipython-input-7-fa59551ac018>\"\u001b[0;36m, line \u001b[0;32m5\u001b[0m\n\u001b[0;31m    elif (x>0 and y<0):\u001b[0m\n\u001b[0m       ^\u001b[0m\n\u001b[0;31mSyntaxError\u001b[0m\u001b[0;31m:\u001b[0m invalid syntax\n"
          ]
        }
      ]
    }
  ]
}