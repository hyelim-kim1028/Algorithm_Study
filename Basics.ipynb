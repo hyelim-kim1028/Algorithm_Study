{
  "nbformat": 4,
  "nbformat_minor": 0,
  "metadata": {
    "colab": {
      "name": "Basics.ipynb",
      "provenance": [],
      "authorship_tag": "ABX9TyOj5iuweOMWCLkV2eQtirtz",
      "include_colab_link": true
    },
    "kernelspec": {
      "name": "python3",
      "display_name": "Python 3"
    },
    "language_info": {
      "name": "python"
    }
  },
  "cells": [
    {
      "cell_type": "markdown",
      "metadata": {
        "id": "view-in-github",
        "colab_type": "text"
      },
      "source": [
        "<a href=\"https://colab.research.google.com/github/hyelim-kim1028/Algorithm_Study/blob/main/Basics.ipynb\" target=\"_parent\"><img src=\"https://colab.research.google.com/assets/colab-badge.svg\" alt=\"Open In Colab\"/></a>"
      ]
    },
    {
      "cell_type": "markdown",
      "metadata": {
        "id": "WAK8PKmo9vtr"
      },
      "source": [
        "/#Baekjun #If문 #두 수 비교하기 "
      ]
    },
    {
      "cell_type": "code",
      "metadata": {
        "id": "zDoeTmTZ9tOp"
      },
      "source": [
        "# A, B = list(map(int, input().int()))\n",
        "A,B = map(int, input().split())\n",
        "\n",
        "if A>B: \n",
        "  print('>')\n",
        "\n",
        "elif A<B: \n",
        "    print('<')\n",
        "\n",
        "elif A==B:\n",
        "    print('==') "
      ],
      "execution_count": null,
      "outputs": []
    },
    {
      "cell_type": "markdown",
      "metadata": {
        "id": "MaXqbDRU-tNr"
      },
      "source": [
        "/#Baejhyb #if문 #시험성적 "
      ]
    },
    {
      "cell_type": "code",
      "metadata": {
        "id": "ltTuEwrA-yHS"
      },
      "source": [
        "grade = int(input())\n",
        "\n",
        "# if grade == 90~100: \n",
        "#   print('A')\n",
        "# elif grade == 80~89:\n",
        "#   print('B')\n",
        "# elif grade == 70~79:\n",
        "#   print('C')\n",
        "# elif grade 60~69:\n",
        "#   print('D')\n",
        "# else:\n",
        "#   print('F')\n",
        "\n",
        "if grade >= 90: \n",
        "  print('A')\n",
        "elif grade >= 80:\n",
        "  print('B')\n",
        "elif grade >= 70:\n",
        "  print('C')\n",
        "elif grade >= 60:\n",
        "  print('D')\n",
        "else:\n",
        "  print('F')"
      ],
      "execution_count": null,
      "outputs": []
    }
  ]
}