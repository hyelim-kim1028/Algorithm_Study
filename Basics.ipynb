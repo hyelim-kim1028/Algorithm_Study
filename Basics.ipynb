{
  "nbformat": 4,
  "nbformat_minor": 0,
  "metadata": {
    "colab": {
      "name": "Basics.ipynb",
      "provenance": [],
      "collapsed_sections": [],
      "authorship_tag": "ABX9TyN/AkfHYti+p5X8cuth5S9l",
      "include_colab_link": true
    },
    "kernelspec": {
      "name": "python3",
      "display_name": "Python 3"
    },
    "language_info": {
      "name": "python"
    }
  },
  "cells": [
    {
      "cell_type": "markdown",
      "metadata": {
        "id": "view-in-github",
        "colab_type": "text"
      },
      "source": [
        "<a href=\"https://colab.research.google.com/github/hyelim-kim1028/Algorithm_Study/blob/main/Basics.ipynb\" target=\"_parent\"><img src=\"https://colab.research.google.com/assets/colab-badge.svg\" alt=\"Open In Colab\"/></a>"
      ]
    },
    {
      "cell_type": "markdown",
      "metadata": {
        "id": "WAK8PKmo9vtr"
      },
      "source": [
        "/#Baekjun #If문 #두 수 비교하기 "
      ]
    },
    {
      "cell_type": "code",
      "metadata": {
        "id": "zDoeTmTZ9tOp"
      },
      "source": [
        "# A, B = list(map(int, input().int()))\n",
        "A,B = map(int, input().split())\n",
        "\n",
        "if A>B: \n",
        "  print('>')\n",
        "\n",
        "elif A<B: \n",
        "    print('<')\n",
        "\n",
        "elif A==B:\n",
        "    print('==') "
      ],
      "execution_count": null,
      "outputs": []
    },
    {
      "cell_type": "markdown",
      "metadata": {
        "id": "MaXqbDRU-tNr"
      },
      "source": [
        "/#Baejhyb #if문 #시험성적 "
      ]
    },
    {
      "cell_type": "code",
      "metadata": {
        "id": "ltTuEwrA-yHS"
      },
      "source": [
        "grade = int(input())\n",
        "\n",
        "# if grade == 90~100: \n",
        "#   print('A')\n",
        "# elif grade == 80~89:\n",
        "#   print('B')\n",
        "# elif grade == 70~79:\n",
        "#   print('C')\n",
        "# elif grade 60~69:\n",
        "#   print('D')\n",
        "# else:\n",
        "#   print('F')\n",
        "\n",
        "if grade >= 90: \n",
        "  print('A')\n",
        "elif grade >= 80:\n",
        "  print('B')\n",
        "elif grade >= 70:\n",
        "  print('C')\n",
        "elif grade >= 60:\n",
        "  print('D')\n",
        "else:\n",
        "  print('F')"
      ],
      "execution_count": null,
      "outputs": []
    },
    {
      "cell_type": "markdown",
      "metadata": {
        "id": "wmfj3w0o9SxW"
      },
      "source": [
        "/#Baekjun #if문 #윤년 "
      ]
    },
    {
      "cell_type": "code",
      "metadata": {
        "colab": {
          "base_uri": "https://localhost:8080/"
        },
        "id": "ynZdXtcV9XFV",
        "outputId": "931e4782-0f64-46a8-c439-e48ccafd658d"
      },
      "source": [
        "year = int(input())\n",
        "\n",
        "#my thought \n",
        "# lea_year == true if year*4:\n",
        "# elif leap_year ==False year*100: \n",
        "#   leap_year==True year*400  \n",
        "\n",
        "# solution \n",
        "if(year%4==0 and year%100 != 0 ) or year%400 ==0:\n",
        "  print(1)\n",
        "else: \n",
        "  print(0)"
      ],
      "execution_count": null,
      "outputs": [
        {
          "output_type": "stream",
          "text": [
            "1\n",
            "0\n"
          ],
          "name": "stdout"
        }
      ]
    },
    {
      "cell_type": "markdown",
      "metadata": {
        "id": "vxO1Mn-t_pMe"
      },
      "source": [
        "/#Baekjun #if문 #사분면고르기 "
      ]
    },
    {
      "cell_type": "code",
      "metadata": {
        "colab": {
          "base_uri": "https://localhost:8080/"
        },
        "id": "TmY3RnDEAC0X",
        "outputId": "afd31f52-937d-4c4d-ebc5-a8efbac33bac"
      },
      "source": [
        "# x,y = map(int, input().split())\n",
        "\n",
        "# solution1 : 틀렸습니다 \n",
        "\n",
        "x = int(input())\n",
        "y = int(input())\n",
        "\n",
        "if x>0 and y>0: \n",
        "  print(\"Quadrant 1\")\n",
        "elif (x>0 and y<0):\n",
        "    print(\"Quadrant 4\")\n",
        "elif (x<0 and y>0):\n",
        "    print(\"Quadrant 2\")\n",
        "elif x<0 and y<0:\n",
        "    print(\"Quadrant 3\")\n",
        "# else: \n",
        "#     print(0)\n",
        "\n",
        "# print(\"3421\"[(int(input())>0)+(int(input())>0)*2])\n",
        "\n",
        "\n",
        "x = int(input())\n",
        "y = int(input())\n",
        "\n",
        "if x>0 and y>0: \n",
        "  print(\"1\")\n",
        "elif (x<0 and y>0):\n",
        "    print(\"2\")\n",
        "elif x<0 and y<0:\n",
        "    print(\"3\")\n",
        "else: \n",
        "  print(\"4\")"
      ],
      "execution_count": null,
      "outputs": [
        {
          "output_type": "stream",
          "text": [
            "5\n",
            "-3\n",
            "Quadrant 4\n"
          ],
          "name": "stdout"
        }
      ]
    },
    {
      "cell_type": "markdown",
      "metadata": {
        "id": "p3b5PDuRnhqG"
      },
      "source": [
        "/#Baekjun #IF #알람시계 \n",
        "\n",
        "문제:\n",
        "상근이는 매일 아침 알람을 듣고 일어난다. 알람을 듣고 바로 일어나면 다행이겠지만, 항상 조금만 더 자려는 마음 때문에 매일 학교를 지각하고 있다.\n",
        "\n",
        "상근이는 모든 방법을 동원해보았지만, 조금만 더 자려는 마음은 그 어떤 것도 없앨 수가 없었다.\n",
        "\n",
        "이런 상근이를 불쌍하게 보던, 창영이는 자신이 사용하는 방법을 추천해 주었다.\n",
        "\n",
        "바로 \"45분 일찍 알람 설정하기\"이다.\n",
        "\n",
        "이 방법은 단순하다. 원래 설정되어 있는 알람을 45분 앞서는 시간으로 바꾸는 것이다. 어차피 알람 소리를 들으면, 알람을 끄고 조금 더 잘 것이기 때문이다. 이 방법을 사용하면, 매일 아침 더 잤다는 기분을 느낄 수 있고, 학교도 지각하지 않게 된다.\n",
        "\n",
        "현재 상근이가 설정한 알람 시각이 주어졌을 때, 창영이의 방법을 사용한다면, 이를 언제로 고쳐야 하는지 구하는 프로그램을 작성하시오.\n",
        "\n",
        "입력:\n",
        "첫째 줄에 두 정수 H와 M이 주어진다. (0 ≤ H ≤ 23, 0 ≤ M ≤ 59) 그리고 이것은 현재 상근이가 설정한 놓은 알람 시간 H시 M분을 의미한다.\n",
        "\n",
        "입력 시간은 24시간 표현을 사용한다. 24시간 표현에서 하루의 시작은 0:0(자정)이고, 끝은 23:59(다음날 자정 1분 전)이다. 시간을 나타낼 때, 불필요한 0은 사용하지 않는다.\n",
        "\n",
        "출력:\n",
        "첫째 줄에 상근이가 창영이의 방법을 사용할 때, 설정해야 하는 알람 시간을 출력한다. (입력과 같은 형태로 출력하면 된다.)"
      ]
    },
    {
      "cell_type": "code",
      "metadata": {
        "id": "CPqbK5n2nxya"
      },
      "source": [
        "# pseudo code \n",
        "# if H and M:\n",
        "#   print(H+\":+\"(M-45)) \n",
        "# elif H == 0 and M == 0:\n",
        "#   print(beginning)\n",
        "# elif H==23 and M == 59:\n",
        "#   print(end)\n",
        "\n",
        "# solution 1 \n",
        "H, M = map(int, input().split()) \n",
        "if M>44: \n",
        "  print(H, M-45)\n",
        "elif M < 45 and H > 0: \n",
        "  print(H-1, M+15)\n",
        "else: \n",
        "  print(23, M+15)"
      ],
      "execution_count": null,
      "outputs": []
    },
    {
      "cell_type": "markdown",
      "metadata": {
        "id": "i0TLV0xKqCeJ"
      },
      "source": [
        "/#Baekjun #for문 #구구단 \n",
        "\n"
      ]
    },
    {
      "cell_type": "code",
      "metadata": {
        "colab": {
          "base_uri": "https://localhost:8080/"
        },
        "id": "VxBz-My1qOuA",
        "outputId": "1070fd7c-cf66-46fa-fe2b-2f7defd04ca4"
      },
      "source": [
        "N = int(input())\n",
        "\n",
        "for i in range(1,10):\n",
        "  print(N,\"*\", i, \"=\", N * i)\n"
      ],
      "execution_count": null,
      "outputs": [
        {
          "output_type": "stream",
          "text": [
            "2\n",
            "2 * 1 = 2\n",
            "2 * 2 = 4\n",
            "2 * 3 = 6\n",
            "2 * 4 = 8\n",
            "2 * 5 = 10\n",
            "2 * 6 = 12\n",
            "2 * 7 = 14\n",
            "2 * 8 = 16\n",
            "2 * 9 = 18\n"
          ],
          "name": "stdout"
        }
      ]
    },
    {
      "cell_type": "markdown",
      "metadata": {
        "id": "LsyYNp6rtDNo"
      },
      "source": [
        "\n",
        "\n",
        "문제\n",
        "두 정수 A와 B를 입력받은 다음, A+B를 출력하는 프로그램을 작성하시오.\n",
        "\n",
        "입력\n",
        "첫째 줄에 테스트 케이스의 개수 T가 주어진다.\n",
        "\n",
        "각 테스트 케이스는 한 줄로 이루어져 있으며, 각 줄에 A와 B가 주어진다. (0 < A, B < 10)\n",
        "\n",
        "출력\n",
        "각 테스트 케이스마다 A+B를 출력한다."
      ]
    },
    {
      "cell_type": "code",
      "metadata": {
        "id": "vE_hWmojtCfP"
      },
      "source": [
        "# import sys \n",
        "\n",
        "T = int(input())\n",
        "\n",
        "for i in range(T):\n",
        "  A, B = map(int, input().split())\n",
        "  print(A+B)\n"
      ],
      "execution_count": null,
      "outputs": []
    },
    {
      "cell_type": "markdown",
      "metadata": {
        "id": "vugpl6dOvly8"
      },
      "source": [
        "/#Baekjun #for # 합 \n",
        "\n",
        "\n",
        "문제\n",
        "n이 주어졌을 때, 1부터 n까지 합을 구하는 프로그램을 작성하시오.\n",
        "\n",
        "입력\n",
        "첫째 줄에 n (1 ≤ n ≤ 10,000)이 주어진다.\n",
        "\n",
        "출력\n",
        "1부터 n까지 합을 출력한다."
      ]
    },
    {
      "cell_type": "code",
      "metadata": {
        "colab": {
          "base_uri": "https://localhost:8080/"
        },
        "id": "R-ejlzLyv3wK",
        "outputId": "089d308a-57b1-4acb-b60b-d262a01552df"
      },
      "source": [
        "# solution 1 \n",
        "# N = int(input())\n",
        "\n",
        "\n",
        "# for i in range(1, N+1):\n",
        "#     result = N + i\n",
        "#     i += 1\n",
        "#     print(result[:N])\n",
        "\n",
        "# 고민: 어떻게해야 마지막 숫자만 나오지?\n",
        "# 해결: 변수 설정 = 0, for문에서 나와서 print \n",
        "\n",
        "# solution 2\n",
        "N = int(input())\n",
        "\n",
        "result = 0 \n",
        "for i in range(1, N+1):\n",
        "  result += i \n",
        "print(result)"
      ],
      "execution_count": null,
      "outputs": [
        {
          "output_type": "stream",
          "text": [
            "3\n",
            "6\n"
          ],
          "name": "stdout"
        }
      ]
    },
    {
      "cell_type": "markdown",
      "metadata": {
        "id": "FH2ZOwavYHwy"
      },
      "source": [
        "/#Baekjun #for문 #빠른 A+B \n",
        "\n",
        "문제\n",
        "\n",
        "본격적으로 for문 문제를 풀기 전에 주의해야 할 점이 있다. 입출력 방식이 느리면 여러 줄을 입력받거나 출력할 때 시간초과가 날 수 있다는 점이다.\n",
        "\n",
        "C++을 사용하고 있고 cin/cout을 사용하고자 한다면, cin.tie(NULL)과 sync_with_stdio(false)를 둘 다 적용해 주고, endl 대신 개행문자(\\n)를 쓰자. 단, 이렇게 하면 더 이상 scanf/printf/puts/getchar/putchar 등 C의 입출력 방식을 사용하면 안 된다.\n",
        "\n",
        "Java를 사용하고 있다면, Scanner와 System.out.println 대신 BufferedReader와 BufferedWriter를 사용할 수 있다. BufferedWriter.flush는 맨 마지막에 한 번만 하면 된다.\n",
        "\n",
        "Python을 사용하고 있다면, input 대신 sys.stdin.readline을 사용할 수 있다. 단, 이때는 맨 끝의 개행문자까지 같이 입력받기 때문에 문자열을 저장하고 싶을 경우 .rstrip()을 추가로 해 주는 것이 좋다.\n",
        "\n",
        "또한 입력과 출력 스트림은 별개이므로, 테스트케이스를 전부 입력받아서 저장한 뒤 전부 출력할 필요는 없다. 테스트케이스를 하나 받은 뒤 하나 출력해도 된다.\n",
        "\n",
        "자세한 설명 및 다른 언어의 경우는 이 글에 설명되어 있다.\n",
        "\n",
        "이 블로그 글에서 BOJ의 기타 여러 가지 팁을 볼 수 있다.\n",
        "\n",
        "\n",
        "\n",
        "입력\n",
        "\n",
        "첫 줄에 테스트케이스의 개수 T가 주어진다. T는 최대 1,000,000이다. 다음 T줄에는 각각 두 정수 A와 B가 주어진다. A와 B는 1 이상, 1,000 이하이다.\n",
        "\n",
        "\n",
        "\n",
        "출력\n",
        "\n",
        "각 테스트케이스마다 A+B를 한 줄에 하나씩 순서대로 출력한다.\n"
      ]
    },
    {
      "cell_type": "code",
      "metadata": {
        "id": "OeDwprKyYeeR"
      },
      "source": [
        "import sys \n",
        "\n",
        "T = int(input())\n",
        "\n",
        "for i in range(T):\n",
        "  A, B = map(int, sys,stdin.readline().split())\n",
        "  print(A+B)"
      ],
      "execution_count": null,
      "outputs": []
    },
    {
      "cell_type": "markdown",
      "metadata": {
        "id": "QOsOD3KNrecB"
      },
      "source": [
        "/#Baekjoon #for문 #N찍기 \n",
        "\n",
        "문제\n",
        "\n",
        "자연수 N이 주어졌을 때, 1부터 N까지 한 줄에 하나씩 출력하는 프로그램을 작성하시오.\n",
        "\n",
        "입력\n",
        "\n",
        "첫째 줄에 100,000보다 작거나 같은 자연수 N이 주어진다.\n",
        "\n",
        "출력\n",
        "\n",
        "첫째 줄부터 N번째 줄 까지 차례대로 출력한다."
      ]
    },
    {
      "cell_type": "code",
      "metadata": {
        "colab": {
          "base_uri": "https://localhost:8080/"
        },
        "id": "Ym-Jnv4Vre9b",
        "outputId": "07a4a065-6a90-4be1-c5cf-44f176a80ec4"
      },
      "source": [
        "N = int(input())\n",
        "\n",
        "\n",
        "for i in range(N):\n",
        "  i += 1\n",
        "  print(i)"
      ],
      "execution_count": null,
      "outputs": [
        {
          "output_type": "stream",
          "text": [
            "5\n",
            "1\n",
            "2\n",
            "3\n",
            "4\n",
            "5\n"
          ],
          "name": "stdout"
        }
      ]
    },
    {
      "cell_type": "markdown",
      "metadata": {
        "id": "iAADyAUxsibK"
      },
      "source": [
        "/#Baekjoon #for문 #기찍 N \n",
        "\n",
        "문제\n",
        "\n",
        "자연수 N이 주어졌을 때, N부터 1까지 한 줄에 하나씩 출력하는 프로그램을 작성하시오.\n",
        "\n",
        "\n",
        "입력\n",
        "\n",
        "첫째 줄에 100,000보다 작거나 같은 자연수 N이 주어진다.\n",
        "\n",
        "\n",
        "출력\n",
        "\n",
        "첫째 줄부터 N번째 줄 까지 차례대로 출력한다."
      ]
    },
    {
      "cell_type": "code",
      "metadata": {
        "colab": {
          "base_uri": "https://localhost:8080/"
        },
        "id": "2U2foctzs4dX",
        "outputId": "1d1fbcec-b728-40cc-be5b-c24d4b500085"
      },
      "source": [
        "N = int(input())\n",
        "\n",
        "for i in range(N, 0, -1):\n",
        "  print(i)\n",
        "  # N에서 0까지 -1씩 감소 "
      ],
      "execution_count": null,
      "outputs": [
        {
          "output_type": "stream",
          "text": [
            "5\n",
            "5\n",
            "4\n",
            "3\n",
            "2\n",
            "1\n"
          ],
          "name": "stdout"
        }
      ]
    },
    {
      "cell_type": "markdown",
      "metadata": {
        "id": "DdHwPWLbs3NL"
      },
      "source": [
        "/#Baekjoon #for 문 # A + B - 7 \n",
        "\n",
        "문제\n",
        "\n",
        "두 정수 A와 B를 입력받은 다음, A+B를 출력하는 프로그램을 작성하시오.\n",
        "\n",
        "입력\n",
        "\n",
        "첫째 줄에 테스트 케이스의 개수 T가 주어진다.\n",
        "\n",
        "각 테스트 케이스는 한 줄로 이루어져 있으며, 각 줄에 A와 B가 주어진다. (0 < A, B < 10)\n",
        "\n",
        "출력\n",
        "\n",
        "각 테스트 케이스마다 \"Case #x: \"를 출력한 다음, A+B를 출력한다. 테스트 케이스 번호는 1부터 시작한다."
      ]
    },
    {
      "cell_type": "code",
      "metadata": {
        "colab": {
          "base_uri": "https://localhost:8080/"
        },
        "id": "gJC5yzdbv1n-",
        "outputId": "961bb6b1-87d1-42bf-c160-a3f3a09b1df7"
      },
      "source": [
        "T = int(input())\n",
        "\n",
        "for i in range(T):\n",
        "  A, B = map(int, input().split()) \n",
        "  sum = A + B \n",
        "  # print(\"Case #%s: %s\"%(i+1, sum ))\n",
        "  print(f'Case #{i+1}: {sum}')"
      ],
      "execution_count": null,
      "outputs": [
        {
          "output_type": "stream",
          "text": [
            "1\n",
            "1 2\n",
            "Case #1: 3\n"
          ],
          "name": "stdout"
        }
      ]
    },
    {
      "cell_type": "markdown",
      "metadata": {
        "id": "51tiiWttzlbC"
      },
      "source": [
        "문제\n",
        "\n",
        "두 정수 A와 B를 입력받은 다음, A+B를 출력하는 프로그램을 작성하시오.\n",
        "\n",
        "입력\n",
        "\n",
        "첫째 줄에 테스트 케이스의 개수 T가 주어진다.\n",
        "\n",
        "각 테스트 케이스는 한 줄로 이루어져 있으며, 각 줄에 A와 B가 주어진다. (0 < A, B < 10)\n",
        "\n",
        "출력\n",
        "\n",
        "각 테스트 케이스마다 \"Case #x: A + B = C\" 형식으로 출력한다. x는 테스트 케이스 번호이고 1부터 시작하며, C는 A+B이다."
      ]
    },
    {
      "cell_type": "code",
      "metadata": {
        "colab": {
          "base_uri": "https://localhost:8080/"
        },
        "id": "OIs79x8LyKz0",
        "outputId": "ab658914-7531-4daa-a28e-0e306ed82d48"
      },
      "source": [
        "x = int(input())\n",
        "\n",
        "for i in range(x):\n",
        "  A, B = map(int, input().split())\n",
        "  C = A + B \n",
        "  print(f'Case #{i+1}: {A} + {B} = {C}')"
      ],
      "execution_count": null,
      "outputs": [
        {
          "output_type": "stream",
          "text": [
            "1\n",
            "1 2\n",
            "Case #1: 1 + 2 = 3\n"
          ],
          "name": "stdout"
        }
      ]
    },
    {
      "cell_type": "markdown",
      "metadata": {
        "id": "GyiRBCRk03o-"
      },
      "source": [
        "/#Baekjoon #for문 #별찍기 \n",
        "\n",
        "문제\n",
        "\n",
        "첫째 줄에는 별 1개, 둘째 줄에는 별 2개, N번째 줄에는 별 N개를 찍는 문제\n",
        "\n",
        "입력\n",
        "\n",
        "첫째 줄에 N(1 ≤ N ≤ 100)이 주어진다.\n",
        "\n",
        "출력\n",
        "\n",
        "첫째 줄부터 N번째 줄까지 차례대로 별을 출력한다."
      ]
    },
    {
      "cell_type": "code",
      "metadata": {
        "colab": {
          "base_uri": "https://localhost:8080/"
        },
        "id": "8bWchnp704Go",
        "outputId": "8220bae2-3a19-430a-a648-c598a8d97ea3"
      },
      "source": [
        "N = int(input())\n",
        "\n",
        "for i in range(N):\n",
        "  star = '*' * (i+1)\n",
        "  print(star)"
      ],
      "execution_count": null,
      "outputs": [
        {
          "output_type": "stream",
          "text": [
            "3\n",
            "*\n",
            "**\n",
            "***\n"
          ],
          "name": "stdout"
        }
      ]
    },
    {
      "cell_type": "markdown",
      "metadata": {
        "id": "Mk7rttth4GdL"
      },
      "source": [
        "/#Baekjoon #for문 #별 찍기 -2 \n",
        "\n",
        "문제\n",
        "\n",
        "첫째 줄에는 별 1개, 둘째 줄에는 별 2개, N번째 줄에는 별 N개를 찍는 문제\n",
        "\n",
        "하지만, 오른쪽을 기준으로 정렬한 별(예제 참고)을 출력하시오.\n",
        "\n",
        "입력\n",
        "\n",
        "첫째 줄에 N(1 ≤ N ≤ 100)이 주어진다.\n",
        "\n",
        "출력\n",
        "\n",
        "첫째 줄부터 N번째 줄까지 차례대로 별을 출력한다."
      ]
    },
    {
      "cell_type": "code",
      "metadata": {
        "colab": {
          "base_uri": "https://localhost:8080/"
        },
        "id": "BkKrqBKO4GyT",
        "outputId": "6217379c-f103-40ca-843f-7b68d13b46b4"
      },
      "source": [
        "N = int(input())\n",
        "\n",
        "for i in range(1,N+1):\n",
        "  print(\" \"*(N-i) + \"*\"*i)\n"
      ],
      "execution_count": null,
      "outputs": [
        {
          "output_type": "stream",
          "text": [
            "3\n",
            "  *\n",
            " **\n",
            "***\n"
          ],
          "name": "stdout"
        }
      ]
    },
    {
      "cell_type": "markdown",
      "metadata": {
        "id": "PEbmBy348YS4"
      },
      "source": [
        "/#Baejoon #X보다 작은 수 \n",
        "\n",
        "문제\n",
        "\n",
        "정수 N개로 이루어진 수열 A와 정수 X가 주어진다. 이때, A에서 X보다 작은 수를 모두 출력하는 프로그램을 작성하시오.\n",
        "\n",
        "입력\n",
        "\n",
        "첫째 줄에 N과 X가 주어진다. (1 ≤ N, X ≤ 10,000)\n",
        "\n",
        "둘째 줄에 수열 A를 이루는 정수 N개가 주어진다. 주어지는 정수는 모두 1보다 크거나 같고, 10,000보다 작거나 같은 정수이다.\n",
        "\n",
        "출력\n",
        "\n",
        "X보다 작은 수를 입력받은 순서대로 공백으로 구분해 출력한다. X보다 작은 수는 적어도 하나 존재한다.\n",
        "\n",
        "10 5 > N, X \n",
        "1 10 4 9 2 3 8 5 7 6 > 정수 \n",
        "\n",
        "1 4 2 3"
      ]
    },
    {
      "cell_type": "code",
      "metadata": {
        "id": "88iF7ajX8fwy"
      },
      "source": [
        "import sys \n",
        "\n",
        "# 구분자가 띄어쓰기이기 때문에\n",
        "N, X = map(int, input().split())\n",
        "# data = list(map(int, sys.stdin.readline().split()))\n",
        "data = list(map(int, input().split()))\n",
        "\n",
        "\n",
        "for i in range(N): \n",
        "  if data[i] < X:\n",
        "    print(data[i], end = \" \")  \n",
        "\n"
      ],
      "execution_count": null,
      "outputs": []
    },
    {
      "cell_type": "markdown",
      "metadata": {
        "id": "WBC9LYWi1hlj"
      },
      "source": [
        "/#Baekjoon #while #A+B-5 \n",
        "\n",
        "문제\n",
        "\n",
        "두 정수 A와 B를 입력받은 다음, A+B를 출력하는 프로그램을 작성하시오.\n",
        "\n",
        "입력\n",
        "\n",
        "입력은 여러 개의 테스트 케이스로 이루어져 있다.\n",
        "\n",
        "각 테스트 케이스는 한 줄로 이루어져 있으며, 각 줄에 A와 B가 주어진다. (0 < A, B < 10)\n",
        "\n",
        "입력의 마지막에는 0 두 개가 들어온다.\n",
        "\n",
        "출력\n",
        "\n",
        "각 테스트 케이스마다 A+B를 출력한다."
      ]
    },
    {
      "cell_type": "code",
      "metadata": {
        "id": "xv5lINS826m4"
      },
      "source": [
        "import sys \n",
        "\n",
        "while True: \n",
        "  A, B = map(int, sys.stdin.readline().split())\n",
        "  if A == 0 and B == 0: \n",
        "    break \n",
        "  else: \n",
        "    print(A+B)"
      ],
      "execution_count": null,
      "outputs": []
    },
    {
      "cell_type": "markdown",
      "metadata": {
        "id": "febGweYnhRLJ"
      },
      "source": [
        "/#Baekjoon #while #A+B-4 \n",
        "\n",
        "문제\n",
        "두 정수 A와 B를 입력받은 다음, A+B를 출력하는 프로그램을 작성하시오.\n",
        "\n",
        "입력\n",
        "입력은 여러 개의 테스트 케이스로 이루어져 있다.\n",
        "\n",
        "각 테스트 케이스는 한 줄로 이루어져 있으며, 각 줄에 A와 B가 주어진다. (0 < A, B < 10)\n",
        "\n",
        "출력\n",
        "각 테스트 케이스마다 A+B를 출력한다."
      ]
    },
    {
      "cell_type": "code",
      "metadata": {
        "id": "L4zBFGMohQl4"
      },
      "source": [
        "import sys \n",
        "\n",
        "while True: \n",
        "  try: \n",
        "  A, B = map(int, sys.stdin.readline().split())\n",
        "  print(A+B)\n",
        "  except:\n",
        "    break\n"
      ],
      "execution_count": null,
      "outputs": []
    },
    {
      "cell_type": "markdown",
      "metadata": {
        "id": "ThJGRDbriyPU"
      },
      "source": [
        "/#Baekjoon #while #더하기 사이클 \n",
        "\n",
        "문제\n",
        "\n",
        "0보다 크거나 같고, 99보다 작거나 같은 정수가 주어질 때 다음과 같은 연산을 할 수 있다. 먼저 주어진 수가 10보다 작다면 앞에 0을 붙여 두 자리 수로 만들고, 각 자리의 숫자를 더한다. 그 다음, 주어진 수의 가장 오른쪽 자리 수와 앞에서 구한 합의 가장 오른쪽 자리 수를 이어 붙이면 새로운 수를 만들 수 있다. 다음 예를 보자.\n",
        "\n",
        "26부터 시작한다. 2+6 = 8이다. 새로운 수는 68이다. 6+8 = 14이다. 새로운 수는 84이다. 8+4 = 12이다. 새로운 수는 42이다. 4+2 = 6이다. 새로운 수는 26이다.\n",
        "\n",
        "위의 예는 4번만에 원래 수로 돌아올 수 있다. 따라서 26의 사이클의 길이는 4이다.\n",
        "\n",
        "N이 주어졌을 때, N의 사이클의 길이를 구하는 프로그램을 작성하시오.\n",
        "\n",
        "\n",
        "입력\n",
        "\n",
        "첫째 줄에 N이 주어진다. N은 0보다 크거나 같고, 99보다 작거나 같은 정수이다.\n",
        "\n",
        "출력\n",
        "\n",
        "첫째 줄에 N의 사이클 길이를 출력한다."
      ]
    },
    {
      "cell_type": "code",
      "metadata": {
        "colab": {
          "base_uri": "https://localhost:8080/"
        },
        "id": "jt2LocAOo-oe",
        "outputId": "020388e9-4b10-4e9e-b444-1a490cb872ee"
      },
      "source": [
        "import sys \n",
        "\n",
        "# pseudo code \n",
        "# input = input() # string \n",
        "# inte_1 = input()[0] # string integer 1\n",
        "# inte_2 = input()[1] # string integer 2\n",
        "# int_sum = Int(inte_1) + int(inte_2)) # sum integer\n",
        "# if int_sum < 10\n",
        "#   int_sum = '0' + str(int_sum) # sum string\n",
        "#   Else int_sum = str(int_sum) # sum string\n",
        "# inte_3 = int_sum[1] #string\n",
        "# input = inte_2 + inte_3 # string new number\n",
        "# n = n + 1\n",
        "# looping until input = input()\n",
        "\n",
        "# print n\n",
        "\n",
        "\n",
        "# while loop \n",
        "\n",
        "for i in range(100):\n",
        "  intg_input = i #int(input()) #55\n",
        "  intg = intg_input\n",
        "# A = int(intg[0])\n",
        "# B = int(intg[1])\n",
        "# # print(f'{intg_1 + intg_2}')\n",
        "# new_int = A + B \n",
        "\n",
        "\n",
        "  cntList = []\n",
        "  zero_list = [0] * 100 \n",
        "\n",
        "  cnt = 1 \n",
        "  while True: \n",
        "    if intg < 10:\n",
        "      A = 0\n",
        "      B = intg\n",
        "    else: \n",
        "      A = int(str(intg)[0]) #5\n",
        "      B = int(str(intg)[1]) #5\n",
        "    \n",
        "    # print(f'{intg_1 + intg_2}')\n",
        "    sum = A + B # 5 + 5 = 10\n",
        "    \n",
        "    if sum >= 10: \n",
        "      intg = int(str(B) + str(sum)[1])  # 5 + 0 = 5\n",
        "    else: \n",
        "      intg = int(str(B) + str(sum))\n",
        "      \n",
        "    # print(CC)\n",
        "    if intg != intg_input:\n",
        "      \n",
        "      cnt += 1 \n",
        "      \n",
        "\n",
        "    else:\n",
        "      break\n",
        "\n",
        "    \n",
        "print(cntList)\n",
        " "
      ],
      "execution_count": null,
      "outputs": [
        {
          "output_type": "stream",
          "text": [
            "[2, 3, 4, 5, 6, 7, 8, 9, 10, 11, 12, 13, 14, 15, 16, 17, 18, 19, 20, 21, 22, 23, 24, 25, 26, 27, 28, 29, 30, 31, 32, 33, 34, 35, 36, 37, 38, 39, 40, 41, 42, 43, 44, 45, 46, 47, 48, 49, 50, 51, 52, 53, 54, 55, 56, 57, 58, 59, 60]\n"
          ],
          "name": "stdout"
        }
      ]
    },
    {
      "cell_type": "code",
      "metadata": {
        "colab": {
          "base_uri": "https://localhost:8080/"
        },
        "id": "UorZtkki573W",
        "outputId": "5537a3e2-3a70-44f9-f813-a429780003f2"
      },
      "source": [
        "intg = int(input())\n",
        "\n",
        "# 필요변수 생성 \n",
        "n = intg #첫번째 입력 저장 \n",
        "cnt = 0 \n",
        "\n",
        "while True: \n",
        "  a = n//10 # 변수의 첫번째 수 \n",
        "  b = n % 10 # 변수의 두번째 수 \n",
        "  c = (a + b) % 10 # 새로운 숫자의 두번째 수 \n",
        "  n = (b * 10) + c # 새로운 숫자 \n",
        "\n",
        "  cnt += 1 \n",
        "\n",
        "  if n == intg: # 새로운 숫자가 input 데이터와 같으면 끝내주기 \n",
        "    break \n",
        "\n",
        "print(cnt)\n",
        "\n"
      ],
      "execution_count": null,
      "outputs": [
        {
          "output_type": "stream",
          "text": [
            "26\n",
            "4\n"
          ],
          "name": "stdout"
        }
      ]
    },
    {
      "cell_type": "markdown",
      "metadata": {
        "id": "JkO1AtRLCp80"
      },
      "source": [
        "/#Baekjoon #1차원 배열 #최소, 최대 \n",
        "\n",
        "문제\n",
        "\n",
        "N개의 정수가 주어진다. 이때, 최솟값과 최댓값을 구하는 프로그램을 작성하시오.\n",
        "\n",
        "입력\n",
        "\n",
        "첫째 줄에 정수의 개수 N (1 ≤ N ≤ 1,000,000)이 주어진다. 둘째 줄에는 N개의 정수를 공백으로 구분해서 주어진다. 모든 정수는 -1,000,000보다 크거나 같고, 1,000,000보다 작거나 같은 정수이다.\n",
        "\n",
        "출력\n",
        "\n",
        "첫째 줄에 주어진 정수 N개의 최솟값과 최댓값을 공백으로 구분해 출력한다.\n"
      ]
    },
    {
      "cell_type": "code",
      "metadata": {
        "id": "3nnzTOcuRFgS"
      },
      "source": [
        "n = int(input())\n",
        "numList = list(map(int, input().split()))\n",
        "\n",
        "print(f'{min(numList)} {max(numList)} ')\n",
        "# print(min(numList))"
      ],
      "execution_count": null,
      "outputs": []
    },
    {
      "cell_type": "markdown",
      "metadata": {
        "id": "03-KAdYWTta3"
      },
      "source": [
        "/#Baekjoon #1차원 # "
      ]
    },
    {
      "cell_type": "code",
      "metadata": {
        "id": "EX0udqngTuoo"
      },
      "source": [
        "# solution 1 : Runtime Error \n",
        "# numList = list(map(int, input().split()))\n",
        "\n",
        "# max_num = max(numList)\n",
        "# # print(max_num)\n",
        "\n",
        "# for i in range(9):\n",
        "#   if max_num == numList[i]: \n",
        "#     print(max_num)\n",
        "#     print(i+1)\n",
        "\n",
        "# Solution 2 : index()\n",
        "# works from Baekjoon but not here \n",
        "# numList = [int(input()) for _ in range(9)]\n",
        "\n",
        "# print(max(numList))\n",
        "# print(numList.index(max(numList)) + 1)\n",
        "\n",
        "# num_List = []\n",
        "\n",
        "# for _ in range(9):\n",
        "#   i = int(input())\n",
        "#   num_List.append(i)"
      ],
      "execution_count": null,
      "outputs": []
    },
    {
      "cell_type": "markdown",
      "metadata": {
        "id": "pXbZDIYpgmdi"
      },
      "source": [
        "/#Baekjoon #1차원 배열 #숫자의 개수 \n",
        "\n",
        "문제\n",
        "\n",
        "세 개의 자연수 A, B, C가 주어질 때 A × B × C를 계산한 결과에 0부터 9까지 각각의 숫자가 몇 번씩 쓰였는지를 구하는 프로그램을 작성하시오.\n",
        "\n",
        "예를 들어 A = 150, B = 266, C = 427 이라면 A × B × C = 150 × 266 × 427 = 17037300 이 되고, 계산한 결과 17037300 에는 0이 3번, 1이 1번, 3이 2번, 7이 2번 쓰였다.\n",
        "\n",
        "입력\n",
        "\n",
        "첫째 줄에 A, 둘째 줄에 B, 셋째 줄에 C가 주어진다. A, B, C는 모두 100보다 크거나 같고, 1,000보다 작은 자연수이다.\n",
        "\n",
        "출력\n",
        "\n",
        "첫째 줄에는 A × B × C의 결과에 0 이 몇 번 쓰였는지 출력한다. 마찬가지로 둘째 줄부터 열 번째 줄까지 A × B × C의 결과에 1부터 9까지의 숫자가 각각 몇 번 쓰였는지 차례로 한 줄에 하나씩 출력한다.\n"
      ]
    },
    {
      "cell_type": "code",
      "metadata": {
        "id": "q8Do-ZQ8owG9"
      },
      "source": [
        ""
      ],
      "execution_count": null,
      "outputs": []
    },
    {
      "cell_type": "code",
      "metadata": {
        "id": "W-C2eGhEgli9",
        "colab": {
          "base_uri": "https://localhost:8080/"
        },
        "outputId": "d6b1b8f3-bd7b-4951-b90a-04f00ecf0346"
      },
      "source": [
        "import random\n",
        "\n",
        "# A, B, C = map(int, input().split()) #Runtime error\n",
        "A = int(random.randint(100,999)); print(A); \n",
        "B = int(random.randint(100,999)); print(B); \n",
        "C = int(random.randint(100,999)); print(C); \n",
        "\n",
        "print(\"Input 1st integer between 100 ~ 999\"); AA = int(input())\n",
        "\n",
        "print(\"Input 2nd integer between 100 ~ 999\"); BB = int(input())\n",
        "\n",
        "print(\"Input 3rd integer between 100 ~ 999\"); CC = int(input())\n",
        "\n",
        "\n",
        "\n",
        "mul = A * B * C \n",
        "mul2 = AA * BB * CC \n",
        "mul_list = list(str(mul))\n",
        "mul_list2 = list(str(mul2))\n",
        "\n",
        "\n",
        "print(mul_list)\n",
        "print(mul_list2)\n",
        "for i in range(10):\n",
        "  mul_count = mul_list.count(str(i))\n",
        "  print(mul_count)\n",
        "\n",
        "  mul_count2 = mul_list2.count(str(i))\n",
        "  print(mul_count2)\n",
        "  print(mul_count == mul_count2)\n",
        "\n",
        "# Let's Validate!!\n"
      ],
      "execution_count": null,
      "outputs": [
        {
          "output_type": "stream",
          "text": [
            "476\n",
            "586\n",
            "596\n",
            "Input 1st integer between 100 ~ 999\n",
            "476\n",
            "Input 2nd integer between 100 ~ 999\n",
            "586\n",
            "Input 3rd integer between 100 ~ 999\n",
            "596\n",
            "['1', '6', '6', '2', '4', '5', '8', '5', '6']\n",
            "['1', '6', '6', '2', '4', '5', '8', '5', '6']\n",
            "0\n",
            "0\n",
            "True\n",
            "1\n",
            "1\n",
            "True\n",
            "1\n",
            "1\n",
            "True\n",
            "0\n",
            "0\n",
            "True\n",
            "1\n",
            "1\n",
            "True\n",
            "2\n",
            "2\n",
            "True\n",
            "3\n",
            "3\n",
            "True\n",
            "0\n",
            "0\n",
            "True\n",
            "1\n",
            "1\n",
            "True\n",
            "0\n",
            "0\n",
            "True\n"
          ],
          "name": "stdout"
        }
      ]
    },
    {
      "cell_type": "markdown",
      "metadata": {
        "id": "eFMCVD1Vhdiz"
      },
      "source": [
        "/#Baekjoon #1차원배열 # #나머지 \n",
        "\n",
        "문제\n",
        "\n",
        "두 자연수 A와 B가 있을 때, A%B는 A를 B로 나눈 나머지 이다. 예를 들어, 7, 14, 27, 38을 3으로 나눈 나머지는 1, 2, 0, 2이다. \n",
        "\n",
        "수 10개를 입력받은 뒤, 이를 42로 나눈 나머지를 구한다. 그 다음 서로 다른 값이 몇 개 있는지 출력하는 프로그램을 작성하시오.\n",
        "\n",
        "입력\n",
        "\n",
        "첫째 줄부터 열번째 줄 까지 숫자가 한 줄에 하나씩 주어진다. 이 숫자는 1,000보다 작거나 같고, 음이 아닌 정수이다.\n",
        "\n",
        "출력\n",
        "\n",
        "첫째 줄에, 42로 나누었을 때, 서로 다른 나머지가 몇 개 있는지 출력한다.\n"
      ]
    },
    {
      "cell_type": "code",
      "metadata": {
        "id": "OfhaAg11ixQN"
      },
      "source": [
        "# solution 1: 틀렸습니다 \n",
        "numList = list(map(int, input().split()))\n",
        "# print(numList)\n",
        "basenum = 42\n",
        "\n",
        "arr = []\n",
        "for num in numList: \n",
        "  arr.append(num%basenum)\n",
        "  # nam = num%basenum \n",
        "  # arr.append(nam)\n",
        "\n",
        "set_nam = set(arr)\n",
        "print(len(set_nam))  \n",
        "\n",
        "# set: unordred, no duplicated \n",
        "\n",
        "\n",
        "# solution 2 \n",
        "\n",
        "numlist = []\n",
        "\n",
        "for i in range(10):\n",
        "  num = int(input())\n",
        "  numList.append(num % 42)\n",
        "\n",
        "print(len(set(numList)))"
      ],
      "execution_count": null,
      "outputs": []
    },
    {
      "cell_type": "markdown",
      "metadata": {
        "id": "4D7FKwlDsDNz"
      },
      "source": [
        "/#Baekjoon #1차원 배열 #평균 \n",
        "\n",
        "문제\n",
        "세준이는 기말고사를 망쳤다. 세준이는 점수를 조작해서 집에 가져가기로 했다. 일단 세준이는 자기 점수 중에 최댓값을 골랐다. 이 값을 M이라고 한다. 그리고 나서 모든 점수를 점수/M*100으로 고쳤다.\n",
        "\n",
        "예를 들어, 세준이의 최고점이 70이고, 수학점수가 50이었으면 수학점수는 50/70*100이 되어 71.43점이 된다.\n",
        "\n",
        "세준이의 성적을 위의 방법대로 새로 계산했을 때, 새로운 평균을 구하는 프로그램을 작성하시오.\n",
        "\n",
        "\n",
        "입력\n",
        "첫째 줄에 시험 본 과목의 개수 N이 주어진다. 이 값은 1000보다 작거나 같다. 둘째 줄에 세준이의 현재 성적이 주어진다. 이 값은 100보다 작거나 같은 음이 아닌 정수이고, 적어도 하나의 값은 0보다 크다.\n",
        "\n",
        "\n",
        "출력\n",
        "첫째 줄에 새로운 평균을 출력한다. 실제 정답과 출력값의 절대오차 또는 상대오차가 10-2 이하이면 정답이다."
      ]
    },
    {
      "cell_type": "code",
      "metadata": {
        "colab": {
          "base_uri": "https://localhost:8080/"
        },
        "id": "jXp7McM_i5-B",
        "outputId": "c58e22cd-f910-4233-ad39-6faa1a9b94da"
      },
      "source": [
        "n = int(input())\n",
        "scores = list(map(int, input().split()))\n",
        "\n",
        "# scores = []\n",
        "# for i in range(n):\n",
        "#   score = int(input())\n",
        "#   scores.append(score)\n",
        "# list comprehension # [<표현식> for <변수명> in <시퀀스> if <조건>]\n",
        "\n",
        "new_scores = []\n",
        "M = max(scores)\n",
        "for score in scores: \n",
        "  new = score/M  * 100 \n",
        "  new_scores.append(new)\n",
        "\n",
        "average = sum(new_scores)/n \n",
        "print(average)"
      ],
      "execution_count": null,
      "outputs": [
        {
          "output_type": "stream",
          "text": [
            "4\n",
            "1 100 100 100\n",
            "75.25\n"
          ],
          "name": "stdout"
        }
      ]
    },
    {
      "cell_type": "markdown",
      "metadata": {
        "id": "Zp5a8ydfyomI"
      },
      "source": [
        "/#Baekjoon #1차원 배열 #OX 퀴즈 \n",
        "\n",
        "문제\n",
        "\n",
        "\"OOXXOXXOOO\"와 같은 OX퀴즈의 결과가 있다. O는 문제를 맞은 것이고, X는 문제를 틀린 것이다. 문제를 맞은 경우 그 문제의 점수는 그 문제까지 연속된 O의 개수가 된다. 예를 들어, 10번 문제의 점수는 3이 된다.\n",
        "\n",
        "\"OOXXOXXOOO\"의 점수는 1+2+0+0+1+0+0+1+2+3 = 10점이다.\n",
        "\n",
        "OX퀴즈의 결과가 주어졌을 때, 점수를 구하는 프로그램을 작성하시오.\n",
        "\n",
        "입력\n",
        "\n",
        "첫째 줄에 테스트 케이스의 개수가 주어진다. 각 테스트 케이스는 한 줄로 이루어져 있고, 길이가 0보다 크고 80보다 작은 문자열이 주어진다. 문자열은 O와 X만으로 이루어져 있다.\n",
        "\n",
        "출력\n",
        "\n",
        "각 테스트 케이스마다 점수를 출력한다."
      ]
    },
    {
      "cell_type": "code",
      "metadata": {
        "colab": {
          "base_uri": "https://localhost:8080/"
        },
        "id": "CZyl70kpywMv",
        "outputId": "3a8174e0-b833-4258-ddca-73ed0a5272a8"
      },
      "source": [
        "n = int(input())\n",
        "\n",
        "# cnt = 0 \n",
        "# for check in range(n):\n",
        "#   if O:\n",
        "#     cnt += 1 \n",
        "#   elif X:\n",
        "#     0 \n",
        "#     reset \n",
        "\n",
        "# print(cnt)\n",
        "\n",
        "# solution1 : https://ooyoung.tistory.com/61\n",
        "\n",
        "for _ in range(n):\n",
        "  ox_list = list(input())\n",
        "  score = 0 \n",
        "  sum_score = 0 #새로운 ox리스트를 입력 받으면 점수 합계를 리셋 \n",
        "  for ox in ox_list: \n",
        "    if ox=='O':\n",
        "      score += 1 \n",
        "      sum_score += score \n",
        "    else:\n",
        "      score = 0 \n",
        "  print(sum_score)\n",
        "\n",
        "\n"
      ],
      "execution_count": null,
      "outputs": [
        {
          "output_type": "stream",
          "text": [
            "5\n",
            "OOXXOXXOOO\n",
            "10\n",
            "OOXXOOXXOO\n",
            "9\n",
            "OXOXOXOXOXOXOX\n",
            "7\n",
            "OOOOOOOOOO\n",
            "55\n",
            "OOOOXOOOOXOOOOX\n",
            "30\n"
          ],
          "name": "stdout"
        }
      ]
    },
    {
      "cell_type": "markdown",
      "metadata": {
        "id": "DvF-E8_11me4"
      },
      "source": [
        "/#Baekjoon #1차원 배열 #평균은 넘겠지 \n",
        "\n",
        "문제\n",
        "\n",
        "대학생 새내기들의 90%는 자신이 반에서 평균은 넘는다고 생각한다. 당신은 그들에게 슬픈 진실을 알려줘야 한다.\n",
        "\n",
        "입력\n",
        "\n",
        "첫째 줄에는 테스트 케이스의 개수 C가 주어진다.\n",
        "\n",
        "둘째 줄부터 각 테스트 케이스마다 학생의 수 N(1 ≤ N ≤ 1000, N은 정수)이 첫 수로 주어지고, 이어서 N명의 점수가 주어진다. 점수는 0보다 크거나 같고, 100보다 작거나 같은 정수이다.\n",
        "\n",
        "출력\n",
        "\n",
        "각 케이스마다 한 줄씩 평균을 넘는 학생들의 비율을 반올림하여 소수점 셋째 자리까지 출력한다.\n"
      ]
    },
    {
      "cell_type": "code",
      "metadata": {
        "id": "7OtGDK_H1s8n"
      },
      "source": [
        "C = int(input())\n",
        "\n",
        "for _ in range(C):\n",
        "  nums = list(map(int, input().split()))\n",
        "  avg = sum(nums[1:])/nums[0]\n",
        "  cnt = 0 \n",
        "  for score in nums [1:]:\n",
        "    if score > avg: \n",
        "      cnt += 1 \n",
        "  rate = cnt/nums[0] * 100 \n",
        "\n",
        "print(f'{rate:3f}%')"
      ],
      "execution_count": null,
      "outputs": []
    },
    {
      "cell_type": "markdown",
      "metadata": {
        "id": "bbWEf48Tn3ra"
      },
      "source": [
        "/#Baekjoon #함수 #정수 N개의 합 \n",
        "\n",
        "정수 n개가 주어졌을 때, n개의 합을 구하는 함수를 작성하시오.\n",
        "\n",
        "Python 2, Python 3, PyPy, PyPy3: def solve(a: list) -> int\n",
        "a: 합을 구해야 하는 정수 n개가 저장되어 있는 리스트 (0 ≤ a[i] ≤ 1,000,000, 1 ≤ n ≤ 3,000,000)\n",
        "리턴값: a에 포함되어 있는 정수 n개의 합 (정수)\n",
        "\n",
        "\n"
      ]
    },
    {
      "cell_type": "code",
      "metadata": {
        "id": "4eolcFY2o__X"
      },
      "source": [
        "# a = list(map(int, input().split()))\n",
        "\n",
        "def solve(a):\n",
        "  return sum(a)\n",
        "\n",
        "# solution2 \n",
        "\n",
        "def solve(a):\n",
        "  total = 0 \n",
        "  for x in a: \n",
        "    total += x \n",
        "  return total "
      ],
      "execution_count": null,
      "outputs": []
    },
    {
      "cell_type": "markdown",
      "metadata": {
        "id": "j26im5xXqADP"
      },
      "source": [
        "/#Baekjoon #함수 #셀프 넘버 \n",
        "\n",
        "문제 \n",
        "\n",
        "셀프 넘버는 1949년 인도 수학자 D.R. Kaprekar가 이름 붙였다. 양의 정수 n에 대해서 d(n)을 n과 n의 각 자리수를 더하는 함수라고 정의하자. 예를 들어, d(75) = 75+7+5 = 87이다.\n",
        "\n",
        "양의 정수 n이 주어졌을 때, 이 수를 시작해서 n, d(n), d(d(n)), d(d(d(n))), ...과 같은 무한 수열을 만들 수 있다. \n",
        "\n",
        "예를 들어, 33으로 시작한다면 다음 수는 33 + 3 + 3 = 39이고, 그 다음 수는 39 + 3 + 9 = 51, 다음 수는 51 + 5 + 1 = 57이다. 이런식으로 다음과 같은 수열을 만들 수 있다.\n",
        "\n",
        "33, 39, 51, 57, 69, 84, 96, 111, 114, 120, 123, 129, 141, ...\n",
        "\n",
        "n을 d(n)의 생성자라고 한다. 위의 수열에서 33은 39의 생성자이고, 39는 51의 생성자, 51은 57의 생성자이다. 생성자가 한 개보다 많은 경우도 있다. 예를 들어, 101은 생성자가 2개(91과 100) 있다. \n",
        "\n",
        "생성자가 없는 숫자를 셀프 넘버라고 한다. 100보다 작은 셀프 넘버는 총 13개가 있다. 1, 3, 5, 7, 9, 20, 31, 42, 53, 64, 75, 86, 97\n",
        "\n",
        "10000보다 작거나 같은 셀프 넘버를 한 줄에 하나씩 출력하는 프로그램을 작성하시오.\n",
        "\n",
        "입력 \n",
        "\n",
        "입력은 없다.\n",
        "\n",
        "출력\n",
        "\n",
        "10,000보다 작거나 같은 셀프 넘버를 한 줄에 하나씩 증가하는 순서로 출력한다."
      ]
    },
    {
      "cell_type": "code",
      "metadata": {
        "id": "5fHsR7LCqAfw"
      },
      "source": [
        "# 문제이해 안됨 \n",
        "# 참고: https://wook-2124.tistory.com/252\n",
        "# 참고2: https://ooyoung.tistory.com/64\n",
        "\n",
        "\n",
        "# solution 1 \n",
        "\n",
        "natural_num = set(range(1, 10001)) #자연수 set \n",
        "generated_num = set() #생성될 숫자 \n",
        "\n",
        "for i in range(1,10001):\n",
        "  for j in str(j):# 문자열 변환 850 > 8,5,0 \n",
        "    i += int(j) # 850 + 8 + 5 + 0 \n",
        "  generated_num.add(i)\n",
        "\n",
        "self_num = sorted(natural_num - generated_num)\n",
        "\n",
        "for i in self_num:\n",
        "  print(i)\n",
        "\n",
        "# solution2 \n",
        "\n",
        "numbers = list(range(1,10001))\n",
        "remove_list = [] #이후에 삭제할 숫자 list \n",
        "\n",
        "for num in numbers: \n",
        "  for n in str(num):\n",
        "    num += int(n)\n",
        "    if num <= 10001:\n",
        "      remove_list.append(num)\n",
        "\n",
        "for remove_num in set(remove_list):\n",
        "  numbers.remove(remove_num)\n",
        "for self_num in numbers:\n",
        "  print(self_num)\n",
        "\n",
        "\n",
        "# solution 3 \n",
        "numbers = set(range(1, 10000))\n",
        "remove_set = set() #생성자가 있는 숫자 set \n",
        "\n",
        "for num in numbers: \n",
        "  for n in str(num):\n",
        "    num += int(n) \n",
        "  remove_set.add(num) #set add(): adds a given element to a set if the element is not present\n",
        "\n",
        "self_numbers = numbers - remove_set #set의 - 연산자로 차집합을 구함 \n",
        "\n",
        "for self_num in sorted(self_numbers):\n",
        "  print(self_num) \n",
        "\n",
        "  "
      ],
      "execution_count": null,
      "outputs": []
    },
    {
      "cell_type": "markdown",
      "metadata": {
        "id": "mPx5rTGVHR_X"
      },
      "source": [
        "/#백준 #함수 #한수 #07.15.2021 \n",
        "\n",
        "\n",
        "문제\n",
        "\n",
        "어떤 양의 정수 X의 각 자리가 등차수열을 이룬다면, 그 수를 한수라고 한다. 등차수열은 연속된 두 개의 수의 차이가 일정한 수열을 말한다. N이 주어졌을 때, 1보다 크거나 같고, N보다 작거나 같은 한수의 개수를 출력하는 프로그램을 작성하시오. \n",
        "\n",
        "입력\n",
        "\n",
        "첫째 줄에 1,000보다 작거나 같은 자연수 N이 주어진다.\n",
        "\n",
        "출력\n",
        "\n",
        "첫째 줄에 1보다 크거나 같고, N보다 작거나 같은 한수의 개수를 출력한다.\n"
      ]
    },
    {
      "cell_type": "code",
      "metadata": {
        "colab": {
          "base_uri": "https://localhost:8080/"
        },
        "id": "WUCDdBtYH4PU",
        "outputId": "efe9f009-d016-44c8-b639-434f2760931f"
      },
      "source": [
        "def hansu(X):\n",
        "  hansu_cnt = 0 \n",
        "  for i in range(1, num+1):\n",
        "    num_list = list(map(int, str(i))) #숫자를 문자로 받으면 850 -> '8','5','0'\n",
        "    if i<100: \n",
        "      hansu_cnt += 1 \n",
        "    elif num_list[0] - num_list[1] == num_list[1] - num_list[2]:\n",
        "      hansu_cnt += 1 \n",
        "  return hansu_cnt \n",
        "\n",
        "num = int(input())\n",
        "print(hansu(num))\n"
      ],
      "execution_count": null,
      "outputs": [
        {
          "output_type": "stream",
          "text": [
            "1000\n",
            "144\n"
          ],
          "name": "stdout"
        }
      ]
    },
    {
      "cell_type": "markdown",
      "metadata": {
        "id": "-ZnUsIrNMmVV"
      },
      "source": [
        "/#Baekjoon #문자열 #아스키 코드 #2021.07.16 \n",
        "\n",
        "문제\n",
        "\n",
        "알파벳 소문자, 대문자, 숫자 0-9중 하나가 주어졌을 때, 주어진 글자의 아스키 코드값을 출력하는 프로그램을 작성하시오.\n",
        "\n",
        "입력\n",
        "\n",
        "알파벳 소문자, 대문자, 숫자 0-9 중 하나가 첫째 줄에 주어진다.\n",
        "\n",
        "출력\n",
        "\n",
        "입력으로 주어진 글자의 아스키 코드 값을 출력한다.\n"
      ]
    },
    {
      "cell_type": "code",
      "metadata": {
        "colab": {
          "base_uri": "https://localhost:8080/"
        },
        "id": "4anBX3QyNkGW",
        "outputId": "8d4fa70f-10ab-49b0-d345-3704e0bdbd17"
      },
      "source": [
        "# X = input()\n",
        "Y = int(input())\n",
        "\n",
        "# print(ord(X))\n",
        "print(chr(Y))"
      ],
      "execution_count": null,
      "outputs": [
        {
          "output_type": "stream",
          "text": [
            "65\n",
            "A\n"
          ],
          "name": "stdout"
        }
      ]
    },
    {
      "cell_type": "markdown",
      "metadata": {
        "id": "uWDX5eOnSHFp"
      },
      "source": [
        "/#Baekjoon #문자열 #숫자의 합 \n",
        "\n",
        "문제\n",
        "\n",
        "N개의 숫자가 공백 없이 쓰여있다. 이 숫자를 모두 합해서 출력하는 프로그램을 작성하시오.\n",
        "\n",
        "입력\n",
        "\n",
        "첫째 줄에 숫자의 개수 N (1 ≤ N ≤ 100)이 주어진다. 둘째 줄에 숫자 N개가 공백없이 주어진다.\n",
        "\n",
        "출력\n",
        "\n",
        "입력으로 주어진 숫자 N개의 합을 출력한다.\n"
      ]
    },
    {
      "cell_type": "code",
      "metadata": {
        "colab": {
          "base_uri": "https://localhost:8080/"
        },
        "id": "XKFvJQ9qSqCd",
        "outputId": "e685c9ca-abad-412a-ac88-06af12e7c670"
      },
      "source": [
        "# N = int(input())\n",
        "\n",
        "# my solution # 너무 꼬아서 생각하고 있었다 \n",
        "# for i in range(N):\n",
        "  # num_list = list(map(int, input().)\n",
        "  # num_list = list(map(str, input(i)))\n",
        "#   sum_num = sum(num_list)\n",
        "# print(sum_num)\n",
        "\n",
        "# sum 함수 이용 \n",
        "# n = input()\n",
        "# print(sum(map(int, input())))\n",
        "# print(map(int, input())) #<map object at 0x7f2770c16f10>\n",
        "\n",
        "# for문 이용1 #왜 틀렸습니다가 뜰까 \n",
        "# n = input()\n",
        "# nums = input()\n",
        "# total = 0 \n",
        "# for i in nums: \n",
        "#   total += int(i)\n",
        "# print(total)\n",
        "\n",
        "# for문 이용2 \n",
        "n = int(input())\n",
        "nums = input()\n",
        "total = 0 \n",
        "for i in range(n) :  # 0부터 n-1까지\n",
        "    total += int(nums[i])\n",
        "print(total)"
      ],
      "execution_count": null,
      "outputs": [
        {
          "output_type": "stream",
          "text": [
            "5\n",
            "54321\n",
            "15\n"
          ],
          "name": "stdout"
        }
      ]
    },
    {
      "cell_type": "markdown",
      "metadata": {
        "id": "bN0zBtGqSpc0"
      },
      "source": [
        "/#Baekjoon #문자열 #알파벳 찾기 \n",
        "\n",
        "문제\n",
        "\n",
        "알파벳 소문자로만 이루어진 단어 S가 주어진다. 각각의 알파벳에 대해서, 단어에 포함되어 있는 경우에는 처음 등장하는 위치를, 포함되어 있지 않은 경우에는 -1을 출력하는 프로그램을 작성하시오.\n",
        "\n",
        "입력\n",
        "\n",
        "첫째 줄에 단어 S가 주어진다. 단어의 길이는 100을 넘지 않으며, 알파벳 소문자로만 이루어져 있다.\n",
        "\n",
        "출력\n",
        "\n",
        "각각의 알파벳에 대해서, a가 처음 등장하는 위치, b가 처음 등장하는 위치, ... z가 처음 등장하는 위치를 공백으로 구분해서 출력한다.\n",
        "\n",
        "만약, 어떤 알파벳이 단어에 포함되어 있지 않다면 -1을 출력한다. 단어의 첫 번째 글자는 0번째 위치이고, 두 번째 글자는 1번째 위치이다."
      ]
    },
    {
      "cell_type": "code",
      "metadata": {
        "id": "4tJhP0Z0Xd5s"
      },
      "source": [
        "# 참고: https://ooyoung.tistory.com/68?category=895995\n",
        "\n",
        "word = input() #s \n",
        "alphabet = list(range(97,123)) #ASCII코드 범위 \n",
        "\n",
        "for x in alphabet: \n",
        "  print(word.find(chr(x)))\n",
        "\n"
      ],
      "execution_count": null,
      "outputs": []
    },
    {
      "cell_type": "markdown",
      "metadata": {
        "id": "h6qdNYeAgBJT"
      },
      "source": [
        "/#Baekjoon #문자열 #문자열반복 # 2021.07.16 \n",
        "\n",
        "문제\n",
        "\n",
        "문자열 S를 입력받은 후에, 각 문자를 R번 반복해 새 문자열 P를 만든 후 출력하는 프로그램을 작성하시오. 즉, 첫 번째 문자를 R번 반복하고, 두 번째 문자를 R번 반복하는 식으로 P를 만들면 된다. S에는 QR Code \"alphanumeric\" 문자만 들어있다.\n",
        "\n",
        "QR Code \"alphanumeric\" 문자는 0123456789ABCDEFGHIJKLMNOPQRSTUVWXYZ\\$%*+-./: 이다.\n",
        "\n",
        "입력\n",
        "\n",
        "첫째 줄에 테스트 케이스의 개수 T(1 ≤ T ≤ 1,000)가 주어진다. 각 테스트 케이스는 반복 횟수 R(1 ≤ R ≤ 8), 문자열 S가 공백으로 구분되어 주어진다. S의 길이는 적어도 1이며, 20글자를 넘지 않는다. \n",
        "\n",
        "출력\n",
        "\n",
        "각 테스트 케이스에 대해 P를 출력한다.\n"
      ]
    },
    {
      "cell_type": "code",
      "metadata": {
        "id": "UxwnnVlagJ06"
      },
      "source": [
        "R = int(input())\n",
        "\n",
        "for i in range(R):\n",
        "  cnt, word = input().split() #3 ABC을 3과 ABC로 나눈다 \n",
        "  for j in word:\n",
        "    print(j * int(cnt), end = '')\n",
        "  print() #줄넘김 \n"
      ],
      "execution_count": null,
      "outputs": []
    },
    {
      "cell_type": "markdown",
      "metadata": {
        "id": "RIpmqfDWh4MN"
      },
      "source": [
        "/#Baekjoon #문자열 #단어공부 #2021.07.16 \n",
        "\n",
        "문제\n",
        "\n",
        "알파벳 대소문자로 된 단어가 주어지면, 이 단어에서 가장 많이 사용된 알파벳이 무엇인지 알아내는 프로그램을 작성하시오. 단, 대문자와 소문자를 구분하지 않는다.\n",
        "\n",
        "입력\n",
        "\n",
        "첫째 줄에 알파벳 대소문자로 이루어진 단어가 주어진다. 주어지는 단어의 길이는 1,000,000을 넘지 않는다.\n",
        "\n",
        "출력\n",
        "\n",
        "첫째 줄에 이 단어에서 가장 많이 사용된 알파벳을 대문자로 출력한다. 단, 가장 많이 사용된 알파벳이 여러 개 존재하는 경우에는 ?를 출력한다."
      ]
    },
    {
      "cell_type": "code",
      "metadata": {
        "colab": {
          "base_uri": "https://localhost:8080/"
        },
        "id": "nhigcylfh4iS",
        "outputId": "4243c80e-b5ac-45f8-cc6f-54153c60dd48"
      },
      "source": [
        "words = input().upper() #단어 받아서 #대문자로 변경 \n",
        "unique_words = list(set(words))\n",
        "# print(unique_words)\n",
        "\n",
        "cnt_list = [ ]\n",
        "\n",
        "for x in unique_words: \n",
        "  cnt = words.count(x)\n",
        "  # print(cnt)\n",
        "  cnt_list.append(cnt)\n",
        "\n",
        "if cnt_list.count(max(cnt_list)) > 1:\n",
        "  print('?')\n",
        "else: \n",
        "  max_index = cnt_list.index(max(cnt_list))\n",
        "  print(unique_words[max_index])\n",
        "\n"
      ],
      "execution_count": null,
      "outputs": [
        {
          "output_type": "stream",
          "text": [
            "baaaa\n",
            "A\n"
          ],
          "name": "stdout"
        }
      ]
    },
    {
      "cell_type": "markdown",
      "metadata": {
        "id": "8tAb65X6nrGB"
      },
      "source": [
        "/#baekjoon #문자열 #단어의 개수 #2021.07.16 \n",
        "\n",
        "문제\n",
        "\n",
        "영어 대소문자와 띄어쓰기만으로 이루어진 문자열이 주어진다. 이 문자열에는 몇 개의 단어가 있을까? 이를 구하는 프로그램을 작성하시오. 단, 한 단어가 여러 번 등장하면 등장한 횟수만큼 모두 세어야 한다.\n",
        "\n",
        "입력\n",
        "\n",
        "첫 줄에 영어 대소문자와 띄어쓰기로 이루어진 문자열이 주어진다. 이 문자열의 길이는 1,000,000을 넘지 않는다. 단어는 띄어쓰기 한 개로 구분되며, 공백이 연속해서 나오는 경우는 없다. 또한 문자열의 앞과 뒤에는 공백이 있을 수도 있다.\n",
        "\n",
        "출력\n",
        "\n",
        "첫째 줄에 단어의 개수를 출력한다."
      ]
    },
    {
      "cell_type": "code",
      "metadata": {
        "colab": {
          "base_uri": "https://localhost:8080/"
        },
        "id": "LlZTkrxMmKhL",
        "outputId": "8f8bd6b2-e97c-4c55-f1f1-022b10eb8e37"
      },
      "source": [
        "sen = list(input().split())\n",
        "print(len(sen))\n"
      ],
      "execution_count": null,
      "outputs": [
        {
          "output_type": "stream",
          "text": [
            "The Curious Case of Benjamin Button\n",
            "['The', 'Curious', 'Case', 'of', 'Benjamin', 'Button']\n",
            "6\n"
          ],
          "name": "stdout"
        }
      ]
    },
    {
      "cell_type": "markdown",
      "metadata": {
        "id": "8SrKAksXowDZ"
      },
      "source": [
        "/Baekjoon #문자열 #상수 #2021.07.16\n",
        "\n",
        "문제\n",
        "\n",
        "상근이의 동생 상수는 수학을 정말 못한다. 상수는 숫자를 읽는데 문제가 있다. 이렇게 수학을 못하는 상수를 위해서 상근이는 수의 크기를 비교하는 문제를 내주었다. 상근이는 세 자리 수 두 개를 칠판에 써주었다. 그 다음에 크기가 큰 수를 말해보라고 했다.\n",
        "\n",
        "상수는 수를 다른 사람과 다르게 거꾸로 읽는다. 예를 들어, 734와 893을 칠판에 적었다면, 상수는 이 수를 437과 398로 읽는다. 따라서, 상수는 두 수중 큰 수인 437을 큰 수라고 말할 것이다.\n",
        "\n",
        "두 수가 주어졌을 때, 상수의 대답을 출력하는 프로그램을 작성하시오.\n",
        "\n",
        "입력\n",
        "\n",
        "첫째 줄에 상근이가 칠판에 적은 두 수 A와 B가 주어진다. 두 수는 같지 않은 세 자리 수이며, 0이 포함되어 있지 않다.\n",
        "\n",
        "출력\n",
        "\n",
        "첫째 줄에 상수의 대답을 출력한다."
      ]
    },
    {
      "cell_type": "code",
      "metadata": {
        "colab": {
          "base_uri": "https://localhost:8080/"
        },
        "id": "KFNyEjEAo7Ly",
        "outputId": "9d577c5d-31f3-4f61-a0b7-64888e53b0f9"
      },
      "source": [
        "# nums = list(map(int, input().split()))\n",
        "# for num in nums:\n",
        "#   # print(str(num))\n",
        "  \n",
        "#   for j in num: \n",
        "\n",
        "# if-else코드 \n",
        "# num1, num2 = input().split()\n",
        "# num1 = int(num1[::-1]) # [::-1] 역순 \n",
        "# num2 = int(num2[::-1])\n",
        "\n",
        "# if num1 > num2:\n",
        "#   print(num1)\n",
        "# else: \n",
        "#   print(num2)\n",
        "\n",
        "# 삼항 연산자 표현식 코드 \n",
        "num1, num2 = input().split()\n",
        "num1 = int(num1[::-1])\n",
        "num2 = int(num2[::-1])\n",
        "  \n",
        "print(num1) if num1 > num2 else print(num2)\n",
        "    \n"
      ],
      "execution_count": null,
      "outputs": [
        {
          "output_type": "stream",
          "text": [
            "734 893\n",
            "437\n"
          ],
          "name": "stdout"
        }
      ]
    },
    {
      "cell_type": "markdown",
      "metadata": {
        "id": "FdzFYEYHo7dC"
      },
      "source": [
        "/Baekjoon #문자열 #다이얼 #2021.07.16\n",
        "\n",
        "문제\n",
        "\n",
        "상근이의 할머니는 아래 그림과 같이 오래된 다이얼 전화기를 사용한다.\n",
        "전화를 걸고 싶은 번호가 있다면, 숫자를 하나를 누른 다음에 금속 핀이 있는 곳 까지 시계방향으로 돌려야 한다. 숫자를 하나 누르면 다이얼이 처음 위치로 돌아가고, 다음 숫자를 누르려면 다이얼을 처음 위치에서 다시 돌려야 한다.\n",
        "\n",
        "숫자 1을 걸려면 총 2초가 필요하다. 1보다 큰 수를 거는데 걸리는 시간은 이보다 더 걸리며, 한 칸 옆에 있는 숫자를 걸기 위해선 1초씩 더 걸린다.\n",
        "\n",
        "상근이의 할머니는 전화 번호를 각 숫자에 해당하는 문자로 외운다. 즉, 어떤 단어를 걸 때, 각 알파벳에 해당하는 숫자를 걸면 된다. 예를 들어, UNUCIC는 868242와 같다.\n",
        "\n",
        "할머니가 외운 단어가 주어졌을 때, 이 전화를 걸기 위해서 필요한 최소 시간을 구하는 프로그램을 작성하시오.\n",
        "\n",
        "입력\n",
        "\n",
        "첫째 줄에 알파벳 대문자로 이루어진 단어가 주어진다. 단어의 길이는 2보다 크거나 같고, 15보다 작거나 같다.\n",
        "\n",
        "출력\n",
        "\n",
        "첫째 줄에 다이얼을 걸기 위해서 필요한 최소 시간을 출력한다.\n"
      ]
    },
    {
      "cell_type": "code",
      "metadata": {
        "colab": {
          "base_uri": "https://localhost:8080/"
        },
        "id": "8bExslFUo8xp",
        "outputId": "872d3ba3-cc8d-4b73-cc8e-269f45b6b772"
      },
      "source": [
        "dial = ['ABC','DEF','GHI','JKL','MNO',\n",
        "        'PQRS','TUV','WXYZ']\n",
        "a = input()\n",
        "ret = 0 \n",
        "\n",
        "for i in range(len(a)):\n",
        "  for j in dial: \n",
        "    if a[i] in j: \n",
        "      ret += dial.index(j) + 3  \n",
        "\n",
        "print(ret)"
      ],
      "execution_count": null,
      "outputs": [
        {
          "output_type": "stream",
          "text": [
            "DgeAeg\n",
            "7\n"
          ],
          "name": "stdout"
        }
      ]
    },
    {
      "cell_type": "markdown",
      "metadata": {
        "id": "e9ZwMD8No9Lq"
      },
      "source": [
        "/Baekjoon #문자열 #크로아티아 알파벳 #2021.07.16"
      ]
    },
    {
      "cell_type": "code",
      "metadata": {
        "colab": {
          "base_uri": "https://localhost:8080/"
        },
        "id": "E7ktY6tbo92Z",
        "outputId": "ad6ab2e4-d156-466a-cf64-3fae2619d545"
      },
      "source": [
        "croatia = ['c=','c-','dz=','d-','lj','nj','s=','z=']\n",
        "word = input()\n",
        "\n",
        "\n",
        "for i in croatia: \n",
        "  word = word.replace(i, '*') #croatia알파벡과 일치하면 *으로 만들어주기 \n",
        "  # print(word)\n",
        "\n",
        "print(word) \n",
        "print(len(word)) #문자열의 길이로 세주기 "
      ],
      "execution_count": null,
      "outputs": [
        {
          "output_type": "stream",
          "text": [
            "ljes=njak\n",
            "*e**ak\n",
            "6\n"
          ],
          "name": "stdout"
        }
      ]
    },
    {
      "cell_type": "markdown",
      "metadata": {
        "id": "7bH03_VYo-KZ"
      },
      "source": [
        "/Baekjoon #문자열 #그룹 단어 체커 #2021.07.16\n",
        "\n",
        "# 다시\n",
        "\n"
      ]
    },
    {
      "cell_type": "code",
      "metadata": {
        "id": "ufToNjpMo-kZ",
        "colab": {
          "base_uri": "https://localhost:8080/",
          "height": 545
        },
        "outputId": "e5fd2047-153b-4ef7-d682-849826dd7215"
      },
      "source": [
        "n = int(input())\n",
        "\n",
        "group_word = 0 \n",
        "for _ in range(n):\n",
        "  word = input()\n",
        "  error = 0 \n",
        "  for index in range(len(word)-1):\n",
        "    if word[index] != word[index+1]:\n",
        "      new_word = word[index+1]\n",
        "      if new_word.count(word[index]) > 0:\n",
        "        error += 1 \n",
        "  if error == 0: \n",
        "    group_word += 1\n",
        "    \n",
        "print(group_word)"
      ],
      "execution_count": 33,
      "outputs": [
        {
          "output_type": "error",
          "ename": "KeyboardInterrupt",
          "evalue": "ignored",
          "traceback": [
            "\u001b[0;31m---------------------------------------------------------------------------\u001b[0m",
            "\u001b[0;31mKeyboardInterrupt\u001b[0m                         Traceback (most recent call last)",
            "\u001b[0;32m/usr/local/lib/python3.7/dist-packages/ipykernel/kernelbase.py\u001b[0m in \u001b[0;36m_input_request\u001b[0;34m(self, prompt, ident, parent, password)\u001b[0m\n\u001b[1;32m    728\u001b[0m             \u001b[0;32mtry\u001b[0m\u001b[0;34m:\u001b[0m\u001b[0;34m\u001b[0m\u001b[0;34m\u001b[0m\u001b[0m\n\u001b[0;32m--> 729\u001b[0;31m                 \u001b[0mident\u001b[0m\u001b[0;34m,\u001b[0m \u001b[0mreply\u001b[0m \u001b[0;34m=\u001b[0m \u001b[0mself\u001b[0m\u001b[0;34m.\u001b[0m\u001b[0msession\u001b[0m\u001b[0;34m.\u001b[0m\u001b[0mrecv\u001b[0m\u001b[0;34m(\u001b[0m\u001b[0mself\u001b[0m\u001b[0;34m.\u001b[0m\u001b[0mstdin_socket\u001b[0m\u001b[0;34m,\u001b[0m \u001b[0;36m0\u001b[0m\u001b[0;34m)\u001b[0m\u001b[0;34m\u001b[0m\u001b[0;34m\u001b[0m\u001b[0m\n\u001b[0m\u001b[1;32m    730\u001b[0m             \u001b[0;32mexcept\u001b[0m \u001b[0mException\u001b[0m\u001b[0;34m:\u001b[0m\u001b[0;34m\u001b[0m\u001b[0;34m\u001b[0m\u001b[0m\n",
            "\u001b[0;32m/usr/local/lib/python3.7/dist-packages/jupyter_client/session.py\u001b[0m in \u001b[0;36mrecv\u001b[0;34m(self, socket, mode, content, copy)\u001b[0m\n\u001b[1;32m    802\u001b[0m         \u001b[0;32mtry\u001b[0m\u001b[0;34m:\u001b[0m\u001b[0;34m\u001b[0m\u001b[0;34m\u001b[0m\u001b[0m\n\u001b[0;32m--> 803\u001b[0;31m             \u001b[0mmsg_list\u001b[0m \u001b[0;34m=\u001b[0m \u001b[0msocket\u001b[0m\u001b[0;34m.\u001b[0m\u001b[0mrecv_multipart\u001b[0m\u001b[0;34m(\u001b[0m\u001b[0mmode\u001b[0m\u001b[0;34m,\u001b[0m \u001b[0mcopy\u001b[0m\u001b[0;34m=\u001b[0m\u001b[0mcopy\u001b[0m\u001b[0;34m)\u001b[0m\u001b[0;34m\u001b[0m\u001b[0;34m\u001b[0m\u001b[0m\n\u001b[0m\u001b[1;32m    804\u001b[0m         \u001b[0;32mexcept\u001b[0m \u001b[0mzmq\u001b[0m\u001b[0;34m.\u001b[0m\u001b[0mZMQError\u001b[0m \u001b[0;32mas\u001b[0m \u001b[0me\u001b[0m\u001b[0;34m:\u001b[0m\u001b[0;34m\u001b[0m\u001b[0;34m\u001b[0m\u001b[0m\n",
            "\u001b[0;32m/usr/local/lib/python3.7/dist-packages/zmq/sugar/socket.py\u001b[0m in \u001b[0;36mrecv_multipart\u001b[0;34m(self, flags, copy, track)\u001b[0m\n\u001b[1;32m    582\u001b[0m         \"\"\"\n\u001b[0;32m--> 583\u001b[0;31m         \u001b[0mparts\u001b[0m \u001b[0;34m=\u001b[0m \u001b[0;34m[\u001b[0m\u001b[0mself\u001b[0m\u001b[0;34m.\u001b[0m\u001b[0mrecv\u001b[0m\u001b[0;34m(\u001b[0m\u001b[0mflags\u001b[0m\u001b[0;34m,\u001b[0m \u001b[0mcopy\u001b[0m\u001b[0;34m=\u001b[0m\u001b[0mcopy\u001b[0m\u001b[0;34m,\u001b[0m \u001b[0mtrack\u001b[0m\u001b[0;34m=\u001b[0m\u001b[0mtrack\u001b[0m\u001b[0;34m)\u001b[0m\u001b[0;34m]\u001b[0m\u001b[0;34m\u001b[0m\u001b[0;34m\u001b[0m\u001b[0m\n\u001b[0m\u001b[1;32m    584\u001b[0m         \u001b[0;31m# have first part already, only loop while more to receive\u001b[0m\u001b[0;34m\u001b[0m\u001b[0;34m\u001b[0m\u001b[0;34m\u001b[0m\u001b[0m\n",
            "\u001b[0;32mzmq/backend/cython/socket.pyx\u001b[0m in \u001b[0;36mzmq.backend.cython.socket.Socket.recv\u001b[0;34m()\u001b[0m\n",
            "\u001b[0;32mzmq/backend/cython/socket.pyx\u001b[0m in \u001b[0;36mzmq.backend.cython.socket.Socket.recv\u001b[0;34m()\u001b[0m\n",
            "\u001b[0;32mzmq/backend/cython/socket.pyx\u001b[0m in \u001b[0;36mzmq.backend.cython.socket._recv_copy\u001b[0;34m()\u001b[0m\n",
            "\u001b[0;32m/usr/local/lib/python3.7/dist-packages/zmq/backend/cython/checkrc.pxd\u001b[0m in \u001b[0;36mzmq.backend.cython.checkrc._check_rc\u001b[0;34m()\u001b[0m\n",
            "\u001b[0;31mKeyboardInterrupt\u001b[0m: ",
            "\nDuring handling of the above exception, another exception occurred:\n",
            "\u001b[0;31mKeyboardInterrupt\u001b[0m                         Traceback (most recent call last)",
            "\u001b[0;32m<ipython-input-33-59c1948085fc>\u001b[0m in \u001b[0;36m<module>\u001b[0;34m()\u001b[0m\n\u001b[0;32m----> 1\u001b[0;31m \u001b[0mn\u001b[0m \u001b[0;34m=\u001b[0m \u001b[0mint\u001b[0m\u001b[0;34m(\u001b[0m\u001b[0minput\u001b[0m\u001b[0;34m(\u001b[0m\u001b[0;34m)\u001b[0m\u001b[0;34m)\u001b[0m\u001b[0;34m\u001b[0m\u001b[0;34m\u001b[0m\u001b[0m\n\u001b[0m\u001b[1;32m      2\u001b[0m \u001b[0;34m\u001b[0m\u001b[0m\n\u001b[1;32m      3\u001b[0m \u001b[0mgroup_word\u001b[0m \u001b[0;34m=\u001b[0m \u001b[0;36m0\u001b[0m\u001b[0;34m\u001b[0m\u001b[0;34m\u001b[0m\u001b[0m\n\u001b[1;32m      4\u001b[0m \u001b[0;32mfor\u001b[0m \u001b[0m_\u001b[0m \u001b[0;32min\u001b[0m \u001b[0mrange\u001b[0m\u001b[0;34m(\u001b[0m\u001b[0mn\u001b[0m\u001b[0;34m)\u001b[0m\u001b[0;34m:\u001b[0m\u001b[0;34m\u001b[0m\u001b[0;34m\u001b[0m\u001b[0m\n\u001b[1;32m      5\u001b[0m   \u001b[0mword\u001b[0m \u001b[0;34m=\u001b[0m \u001b[0minput\u001b[0m\u001b[0;34m(\u001b[0m\u001b[0;34m)\u001b[0m\u001b[0;34m\u001b[0m\u001b[0;34m\u001b[0m\u001b[0m\n",
            "\u001b[0;32m/usr/local/lib/python3.7/dist-packages/ipykernel/kernelbase.py\u001b[0m in \u001b[0;36mraw_input\u001b[0;34m(self, prompt)\u001b[0m\n\u001b[1;32m    702\u001b[0m             \u001b[0mself\u001b[0m\u001b[0;34m.\u001b[0m\u001b[0m_parent_ident\u001b[0m\u001b[0;34m,\u001b[0m\u001b[0;34m\u001b[0m\u001b[0;34m\u001b[0m\u001b[0m\n\u001b[1;32m    703\u001b[0m             \u001b[0mself\u001b[0m\u001b[0;34m.\u001b[0m\u001b[0m_parent_header\u001b[0m\u001b[0;34m,\u001b[0m\u001b[0;34m\u001b[0m\u001b[0;34m\u001b[0m\u001b[0m\n\u001b[0;32m--> 704\u001b[0;31m             \u001b[0mpassword\u001b[0m\u001b[0;34m=\u001b[0m\u001b[0;32mFalse\u001b[0m\u001b[0;34m,\u001b[0m\u001b[0;34m\u001b[0m\u001b[0;34m\u001b[0m\u001b[0m\n\u001b[0m\u001b[1;32m    705\u001b[0m         )\n\u001b[1;32m    706\u001b[0m \u001b[0;34m\u001b[0m\u001b[0m\n",
            "\u001b[0;32m/usr/local/lib/python3.7/dist-packages/ipykernel/kernelbase.py\u001b[0m in \u001b[0;36m_input_request\u001b[0;34m(self, prompt, ident, parent, password)\u001b[0m\n\u001b[1;32m    732\u001b[0m             \u001b[0;32mexcept\u001b[0m \u001b[0mKeyboardInterrupt\u001b[0m\u001b[0;34m:\u001b[0m\u001b[0;34m\u001b[0m\u001b[0;34m\u001b[0m\u001b[0m\n\u001b[1;32m    733\u001b[0m                 \u001b[0;31m# re-raise KeyboardInterrupt, to truncate traceback\u001b[0m\u001b[0;34m\u001b[0m\u001b[0;34m\u001b[0m\u001b[0;34m\u001b[0m\u001b[0m\n\u001b[0;32m--> 734\u001b[0;31m                 \u001b[0;32mraise\u001b[0m \u001b[0mKeyboardInterrupt\u001b[0m\u001b[0;34m\u001b[0m\u001b[0;34m\u001b[0m\u001b[0m\n\u001b[0m\u001b[1;32m    735\u001b[0m             \u001b[0;32melse\u001b[0m\u001b[0;34m:\u001b[0m\u001b[0;34m\u001b[0m\u001b[0;34m\u001b[0m\u001b[0m\n\u001b[1;32m    736\u001b[0m                 \u001b[0;32mbreak\u001b[0m\u001b[0;34m\u001b[0m\u001b[0;34m\u001b[0m\u001b[0m\n",
            "\u001b[0;31mKeyboardInterrupt\u001b[0m: "
          ]
        }
      ]
    },
    {
      "cell_type": "markdown",
      "metadata": {
        "id": "HjtMVk-7gJOL"
      },
      "source": [
        "/#Baekjoon #기본수학1 #손익분기점 \n",
        "\n",
        "문제\n",
        "\n",
        "월드전자는 노트북을 제조하고 판매하는 회사이다. 노트북 판매 대수에 상관없이 매년 임대료, 재산세, 보험료, 급여 등 A만원의 고정 비용이 들며, 한 대의 노트북을 생산하는 데에는 재료비와 인건비 등 총 B만원의 가변 비용이 든다고 한다.\n",
        "\n",
        "예를 들어 A=1,000, B=70이라고 하자. 이 경우 노트북을 한 대 생산하는 데는 총 1,070만원이 들며, 열 대 생산하는 데는 총 1,700만원이 든다.\n",
        "\n",
        "노트북 가격이 C만원으로 책정되었다고 한다. 일반적으로 생산 대수를 늘려 가다 보면 어느 순간 총 수입(판매비용)이 총 비용(=고정비용+가변비용)보다 많아지게 된다. 최초로 총 수입이 총 비용보다 많아져 이익이 발생하는 지점을 손익분기점(BREAK-EVEN POINT)이라고 한다.\n",
        "\n",
        "A, B, C가 주어졌을 때, 손익분기점을 구하는 프로그램을 작성하시오.\n",
        "\n",
        "입력\n",
        "\n",
        "첫째 줄에 A, B, C가 빈 칸을 사이에 두고 순서대로 주어진다. A, B, C는 21억 이하의 자연수이다.\n",
        "\n",
        "출력\n",
        "\n",
        "첫 번째 줄에 손익분기점 즉 최초로 이익이 발생하는 판매량을 출력한다. 손익분기점이 존재하지 않으면 -1을 출력한다."
      ]
    },
    {
      "cell_type": "code",
      "metadata": {
        "id": "PvlruMK_gki0"
      },
      "source": [
        "# A = 고정비용, B = 가변 비용, C = 노트북 가격 \n",
        "# C > (A+B)\n",
        "\n",
        "# pricez = list(map(int, input().split()))\n",
        "\n",
        "# my solution #lost \n",
        "# def BP(pricez):\n",
        "#   BP is when C > (A+B)\n",
        "#   pricez[2] * n > (pricez[0] + pricez[1] * n)\n",
        "#   CN = A + BN \n",
        "#   CN - BN = A \n",
        "#   N(C-B) = A \n",
        "#   N = A / (C-B)\n",
        "#   what is n?\n",
        "#   if no BP: \n",
        "#     print(-1)\n",
        "\n",
        "# solution 1 \n",
        "\n",
        "a,b,c = map(int, input().split())\n",
        "\n",
        "if b >= c: \n",
        "  print(-1)\n",
        "else: \n",
        "  print(a//(c-b)+1) # 최초의 이익이 발생하는 시점이라서 +1을 해준다 # 정수 출력을 위해서 몫으로 계산 "
      ],
      "execution_count": null,
      "outputs": []
    },
    {
      "cell_type": "markdown",
      "metadata": {
        "id": "dPu_eudCnmwg"
      },
      "source": [
        "/#Baekjoon #기본수학1 #벌집 \n",
        "\n",
        "문제 \n",
        "\n",
        "위의 그림과 같이 육각형으로 이루어진 벌집이 있다. 그림에서 보는 바와 같이 중앙의 방 1부터 시작해서 이웃하는 방에 돌아가면서 1씩 증가하는 번호를 주소로 매길 수 있다. 숫자 N이 주어졌을 때, 벌집의 중앙 1에서 N번 방까지 최소 개수의 방을 지나서 갈 때 몇 개의 방을 지나가는지(시작과 끝을 포함하여)를 계산하는 프로그램을 작성하시오. 예를 들면, 13까지는 3개, 58까지는 5개를 지난다.\n",
        "\n",
        "입력\n",
        "\n",
        "첫째 줄에 N(1 ≤ N ≤ 1,000,000,000)이 주어진다.\n",
        "\n",
        "출력\n",
        "\n",
        "입력으로 주어진 방까지 최소 개수의 방을 지나서 갈 때 몇 개의 방을 지나는지 출력한다."
      ]
    },
    {
      "cell_type": "code",
      "metadata": {
        "id": "mnMyK2r5nxv_"
      },
      "source": [
        "N = int(input())\n",
        "first = 1\n",
        "plus = 6 # +6의 수열 \n",
        "room = 1 \n",
        "\n",
        "if N == 1: \n",
        "  print(1)\n",
        "else: \n",
        "  while True: \n",
        "    first = first + plus # 수열 더해주기  \n",
        "    room += 1 # 수열이 높아질 때마다 방+1 \n",
        "    if N <= first: \n",
        "      print(room) \n",
        "      break \n",
        "    plus += 6 # 수열 높여주기 \n"
      ],
      "execution_count": null,
      "outputs": []
    },
    {
      "cell_type": "markdown",
      "metadata": {
        "id": "lKE8lqsXrxoF"
      },
      "source": [
        "/#Baekjoon #기본수학1 #분수찾기 \n",
        "\n",
        "문제 \n",
        "\n",
        "X가 주어졌을 때, X번째 분수를 구하는 프로그램을 작성하시오.\n",
        "\n",
        "입력\n",
        "\n",
        "첫째 줄에 X(1 ≤ X ≤ 10,000,000)가 주어진다.\n",
        "\n",
        "출력\n",
        "\n",
        "첫째 줄에 분수를 출력한다."
      ]
    },
    {
      "cell_type": "code",
      "metadata": {
        "id": "eyHDDfLvrxXs"
      },
      "source": [
        "X = int(input())\n",
        "\n"
      ],
      "execution_count": null,
      "outputs": []
    },
    {
      "cell_type": "markdown",
      "metadata": {
        "id": "D0cglRdj_6nd"
      },
      "source": [
        "/#Baekjoon #기본수학1 #달팽이 \n",
        "\n",
        "문제\n",
        "\n",
        "땅 위에 달팽이가 있다. 이 달팽이는 높이가 V미터인 나무 막대를 올라갈 것이다.\n",
        "\n",
        "달팽이는 낮에 A미터 올라갈 수 있다. 하지만, 밤에 잠을 자는 동안 B미터 미끄러진다. 또, 정상에 올라간 후에는 미끄러지지 않는다.\n",
        "\n",
        "달팽이가 나무 막대를 모두 올라가려면, 며칠이 걸리는지 구하는 프로그램을 작성하시오.\n",
        "\n",
        "입력\n",
        "\n",
        "첫째 줄에 세 정수 A, B, V가 공백으로 구분되어서 주어진다. (1 ≤ B < A ≤ V ≤ 1,000,000,000)\n",
        "\n",
        "출력\n",
        "\n",
        "첫째 줄에 달팽이가 나무 막대를 모두 올라가는데 며칠이 걸리는지 출력한다.\n"
      ]
    },
    {
      "cell_type": "code",
      "metadata": {
        "id": "ElI5eRsiAEWR"
      },
      "source": [
        "A, B, V = map(int, input().split())\n",
        "\n",
        "# my solution - 뭔가 이상하다 \n",
        "# check = V%(A-B)\n",
        "# result = V//(A-B)\n",
        "\n",
        "# if check == 0: \n",
        "#   print(result-1) \n",
        "# else: \n",
        "#   print(result+1) \n",
        "\n",
        "# solution 1\n",
        "import math \n",
        "\n",
        "a, b, v = map(int, input().split())\n",
        "day = (v-b)/(a-b) # 정상에 한번 도달하면 밤에 미끄러지지 않음을 고려해준것 \n",
        "print(math.ceil(day))"
      ],
      "execution_count": null,
      "outputs": []
    },
    {
      "cell_type": "markdown",
      "metadata": {
        "id": "55NRUHF-aohP"
      },
      "source": [
        "/#Baekjoon #수학1 #ACM 호텔 \n",
        "\n",
        "문제\n",
        "\n",
        "ACM 호텔 매니저 지우는 손님이 도착하는 대로 빈 방을 배정하고 있다. 고객 설문조사에 따르면 손님들은 호텔 정문으로부터 걸어서 가장 짧은 거리에 있는 방을 선호한다고 한다. 여러분은 지우를 도와 줄 프로그램을 작성하고자 한다. 즉 설문조사 결과 대로 호텔 정문으로부터 걷는 거리가 가장 짧도록 방을 배정하는 프로그램을 작성하고자 한다.\n",
        "\n",
        "문제를 단순화하기 위해서 호텔은 직사각형 모양이라고 가정하자. 각 층에 W 개의 방이 있는 H 층 건물이라고 가정하자 (1 ≤ H, W ≤ 99). 그리고 엘리베이터는 가장 왼쪽에 있다고 가정하자(그림 1 참고). 이런 형태의 호텔을 H × W 형태 호텔이라고 부른다. 호텔 정문은 일층 엘리베이터 바로 앞에 있는데, 정문에서 엘리베이터까지의 거리는 무시한다. 또 모든 인접한 두 방 사이의 거리는 같은 거리(거리 1)라고 가정하고 호텔의 정면 쪽에만 방이 있다고 가정한다.\n",
        "\n",
        "그림 1. H = 6 이고 W = 12 인 H × W 호텔을 간략하게 나타낸 그림\n",
        "\n",
        "방 번호는 YXX 나 YYXX 형태인데 여기서 Y 나 YY 는 층 수를 나타내고 XX 는 엘리베이터에서부터 세었을 때의 번호를 나타낸다. 즉, 그림 1 에서 빗금으로 표시한 방은 305 호가 된다.\n",
        "\n",
        "손님은 엘리베이터를 타고 이동하는 거리는 신경 쓰지 않는다. 다만 걷는 거리가 같을 때에는 아래층의 방을 더 선호한다. 예를 들면 102 호 방보다는 301 호 방을 더 선호하는데, 102 호는 거리 2 만큼 걸어야 하지만 301 호는 거리 1 만큼만 걸으면 되기 때문이다. 같은 이유로 102 호보다 2101 호를 더 선호한다.\n",
        "\n",
        "여러분이 작성할 프로그램은 초기에 모든 방이 비어있다고 가정하에 이 정책에 따라 N 번째로 도착한 손님에게 배정될 방 번호를 계산하는 프로그램이다. 첫 번째 손님은 101 호, 두 번째 손님은 201 호 등과 같이 배정한다. 그림 1 의 경우를 예로 들면, H = 6이므로 10 번째 손님은 402 호에 배정해야 한다.\n",
        "\n",
        "입력\n",
        "\n",
        "프로그램은 표준 입력에서 입력 데이터를 받는다. 프로그램의 입력은 T 개의 테스트 데이터로 이루어져 있는데 T 는 입력의 맨 첫 줄에 주어진다. 각 테스트 데이터는 한 행으로서 H, W, N, 세 정수를 포함하고 있으며 각각 호텔의 층 수, 각 층의 방 수, 몇 번째 손님인지를 나타낸다(1 ≤ H, W ≤ 99, 1 ≤ N ≤ H × W). \n",
        "\n",
        "출력\n",
        "\n",
        "프로그램은 표준 출력에 출력한다. 각 테스트 데이터마다 정확히 한 행을 출력하는데, 내용은 N 번째 손님에게 배정되어야 하는 방 번호를 출력한다.\n"
      ]
    },
    {
      "cell_type": "code",
      "metadata": {
        "id": "8p5eeTdxaptk"
      },
      "source": [
        "import sys \n",
        "\n",
        "# T = int(input())\n",
        "\n",
        "# for i in range(T):\n",
        "#   H, W, N = map(int, input().split())\n",
        "\n",
        "  # room number = (N%H) * 100 + (N // H + 1)\n",
        "\n",
        "  # print(H, W, N)\n",
        "  # for h in range(H):\n",
        "  #   for w in range(W):\n",
        "  #     room_number \n",
        "\n",
        "# double for-loop trial \n",
        "# for i in range(1,H+1): \n",
        "#   for j in range(1, W+1):\n",
        "#     print(i,j)\n",
        "\n",
        "# 1 2 2 > 1, 2를 한번 돌았다 \n",
        "\n",
        "T = int(input())\n",
        " \n",
        "for _ in range(T):\n",
        "  H, W, N = map(int, input().split())\n",
        "  \n",
        "  floor = N % H # 층수 \n",
        "  num = N // H + 1 #호실 \n",
        "\n",
        "  if floor == 0: # N이 H의 배수일 때 \n",
        "    num = N//H\n",
        "    floor = H\n",
        "\n",
        "  print(f'{floor * 100 + num}')"
      ],
      "execution_count": null,
      "outputs": []
    },
    {
      "cell_type": "markdown",
      "metadata": {
        "id": "eiP9Xk63B_Q6"
      },
      "source": [
        "/#Baekjoon #수학1 #부녀회장이 될테야 #07.26.2021\n",
        "\n",
        "문제\n",
        "\n",
        "평소 반상회에 참석하는 것을 좋아하는 주희는 이번 기회에 부녀회장이 되고 싶어 각 층의 사람들을 불러 모아 반상회를 주최하려고 한다.\n",
        "\n",
        "이 아파트에 거주를 하려면 조건이 있는데, “a층의 b호에 살려면 자신의 아래(a-1)층의 1호부터 b호까지 사람들의 수의 합만큼 사람들을 데려와 살아야 한다” 는 계약 조항을 꼭 지키고 들어와야 한다.\n",
        "\n",
        "아파트에 비어있는 집은 없고 모든 거주민들이 이 계약 조건을 지키고 왔다고 가정했을 때, 주어지는 양의 정수 k와 n에 대해 k층에 n호에는 몇 명이 살고 있는지 출력하라. 단, 아파트에는 0층부터 있고 각층에는 1호부터 있으며, 0층의 i호에는 i명이 산다.\n",
        "\n",
        "입력\n",
        "\n",
        "첫 번째 줄에 Test case의 수 T가 주어진다. 그리고 각각의 케이스마다 입력으로 첫 번째 줄에 정수 k, 두 번째 줄에 정수 n이 주어진다\n",
        "\n",
        "출력\n",
        "\n",
        "각각의 Test case에 대해서 해당 집에 거주민 수를 출력하라."
      ]
    },
    {
      "cell_type": "code",
      "metadata": {
        "id": "sZ8K23sDCP7D"
      },
      "source": [
        "T = int(input())\n",
        "\n",
        "# k, n = map(int, input().)\n",
        "\n",
        "for i in range(T):\n",
        "  floor = int(input()) #k \n",
        "  num = int(input()) #n \n",
        "\n",
        "  people = [x for x in range(1, num+1)]\n",
        "  print(people) \n",
        "  # 각 호수의 사람 숫자를 리스트에 담아둠 \n",
        "\n",
        "  for k in range(floor): # 층수만큼 반복\n",
        "    print(f'k:{k}')\n",
        "    for n in range(1,num): # 1~n-1의 호실 인덱스\n",
        "      print(f'n:{n}') \n",
        "      people[n] += people[n-1] # 층별 각 호실의 사람 수 변경 \n",
        "      print(f'people: {people}')\n",
        "\n",
        "      # people[n] += people[n-1] 이 이해가 되지 않는다 \n",
        "\n",
        "  print(f'{people}')\n",
        "  print(f'answer: {people[-1]}') \n",
        "\n",
        "  # for k in range(floor):\n",
        "  #   # print(k)\n",
        "  #   for n in range(num):\n",
        "  #     # print(n)\n",
        "  #     # print(k,n)\n"
      ],
      "execution_count": null,
      "outputs": []
    },
    {
      "cell_type": "markdown",
      "metadata": {
        "id": "papEz5ThRfnK"
      },
      "source": [
        "/#Baekjoon #수학1 #설탕배달 #07.26.2021 \n",
        "\n",
        "문제\n",
        "\n",
        "상근이는 요즘 설탕공장에서 설탕을 배달하고 있다. 상근이는 지금 사탕가게에 설탕을 정확하게 N킬로그램을 배달해야 한다. 설탕공장에서 만드는 설탕은 봉지에 담겨져 있다. 봉지는 3킬로그램 봉지와 5킬로그램 봉지가 있다.\n",
        "\n",
        "상근이는 귀찮기 때문에, 최대한 적은 봉지를 들고 가려고 한다. 예를 들어, 18킬로그램 설탕을 배달해야 할 때, 3킬로그램 봉지 6개를 가져가도 되지만, 5킬로그램 3개와 3킬로그램 1개를 배달하면, 더 적은 개수의 봉지를 배달할 수 있다.\n",
        "\n",
        "상근이가 설탕을 정확하게 N킬로그램 배달해야 할 때, 봉지 몇 개를 가져가면 되는지 그 수를 구하는 프로그램을 작성하시오.\n",
        "\n",
        "입력\n",
        "\n",
        "첫째 줄에 N이 주어진다. (3 ≤ N ≤ 5000)\n",
        "\n",
        "출력\n",
        "\n",
        "상근이가 배달하는 봉지의 최소 개수를 출력한다. 만약, 정확하게 N킬로그램을 만들 수 없다면 -1을 출력한다."
      ]
    },
    {
      "cell_type": "code",
      "metadata": {
        "colab": {
          "base_uri": "https://localhost:8080/"
        },
        "id": "dTviSnUQRecS",
        "outputId": "5bf8c60a-9106-4695-d41e-2fb4d259f236"
      },
      "source": [
        "sugar = int(input())\n",
        "\n",
        "bag = 0 \n",
        "while sugar >= 0:\n",
        "  if sugar % 5== 0:\n",
        "    bag += (sugar//5)\n",
        "    print(bag)\n",
        "    break \n",
        "  sugar -= 3 \n",
        "  bag += 1 \n",
        "else:\n",
        "  print(-1) #정확한 N킬로그램 만들 수 없다면 -1 출력 "
      ],
      "execution_count": 4,
      "outputs": [
        {
          "output_type": "stream",
          "text": [
            "18\n",
            "4\n",
            "sugar_used: 15\n"
          ],
          "name": "stdout"
        }
      ]
    },
    {
      "cell_type": "markdown",
      "metadata": {
        "id": "RzxqeanGRf98"
      },
      "source": [
        "/#Baekjoon #수학1 #큰수 A+B #2021.07.26\n",
        " "
      ]
    },
    {
      "cell_type": "code",
      "metadata": {
        "colab": {
          "base_uri": "https://localhost:8080/"
        },
        "id": "CBR2yC3jRfAA",
        "outputId": "64561e2c-0a77-49b2-ce50-9998c067c771"
      },
      "source": [
        "A, B = map(int, input().split())\n",
        "print(A + B)"
      ],
      "execution_count": 6,
      "outputs": [
        {
          "output_type": "stream",
          "text": [
            "9223372036854775807 9223372036854775808\n",
            "18446744073709551615\n"
          ],
          "name": "stdout"
        }
      ]
    }
  ]
}